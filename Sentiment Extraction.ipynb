{
 "cells": [
  {
   "cell_type": "code",
   "execution_count": 1,
   "metadata": {
    "collapsed": true
   },
   "outputs": [],
   "source": [
    "%matplotlib inline\n",
    "import twitter\n",
    "import json\n",
    "import matplotlib.pyplot as plt\n",
    "import numpy as np\n",
    "import ast\n",
    "import requests"
   ]
  },
  {
   "cell_type": "code",
   "execution_count": 2,
   "metadata": {
    "collapsed": true
   },
   "outputs": [],
   "source": [
    "with open('OutputZ.json') as data_file:    \n",
    "    data = json.load(data_file)"
   ]
  },
  {
   "cell_type": "code",
   "execution_count": 3,
   "metadata": {
    "collapsed": true
   },
   "outputs": [],
   "source": [
    "# Takes list of tweets and queries and builds a single query for analysis\n",
    "def buildQuery(texts, queries):\n",
    "    queryStr = \"{'data': [\"\n",
    "    for txt in texts:\n",
    "        for q in queries:\n",
    "            queryStr += \"{'text': '\" + txt.replace(\"'\", r\"\\'\") + \"', 'query': '\" + q + \"'},\"\n",
    "    queryStr = queryStr[:-1] + \"]}\"\n",
    "    return queryStr\n",
    "\n",
    "# Calls sentiment140 to get an analysis on the tweets i a given query\n",
    "def getSentiment(query):\n",
    "    r = requests.post(url, data=query)\n",
    "    responses = r.json()['data']\n",
    "    sentiments = []\n",
    "    for resp in responses:\n",
    "        sentiments.append([resp['polarity'], resp['text']])\n",
    "    return sentiments\n",
    "\n",
    "# Gets Tweet Text from streaming data tweet\n",
    "def getTextFromStream(tweet):\n",
    "    tweet2 = tweet.split(\",\\\"truncated\")[0] + \"}\"\n",
    "    tweetDict = ast.literal_eval(tweet2)\n",
    "    tweetText = tweetDict[\"text\"]\n",
    "    return tweetText"
   ]
  },
  {
   "cell_type": "code",
   "execution_count": null,
   "metadata": {
    "collapsed": true
   },
   "outputs": [],
   "source": [
    "url = 'http://www.sentiment140.com/api/bulkClassifyJson?appid=sbalanovich@college.harvard.edu'\n",
    "sentiments = []\n",
    "texts = []\n",
    "queries = [\"\"]\n",
    "tweetVolume = 150\n",
    "# TODO Iterate through your data\n",
    "for i, key in enumerate(data.keys()):\n",
    "    # TODO: Insert Tweet Text Here\n",
    "    tweetText = getTextFromStream(data[key])    \n",
    "    texts.append(tweetText)\n",
    "    if i and i % tweetVolume == 0:\n",
    "        sentiments = getSentiment(buildQuery(texts, queries))\n",
    "        print sentiments\n",
    "        texts = []"
   ]
  }
 ],
 "metadata": {
  "kernelspec": {
   "display_name": "Python 2",
   "language": "python",
   "name": "python2"
  },
  "language_info": {
   "codemirror_mode": {
    "name": "ipython",
    "version": 2
   },
   "file_extension": ".py",
   "mimetype": "text/x-python",
   "name": "python",
   "nbconvert_exporter": "python",
   "pygments_lexer": "ipython2",
   "version": "2.7.6"
  }
 },
 "nbformat": 4,
 "nbformat_minor": 0
}
