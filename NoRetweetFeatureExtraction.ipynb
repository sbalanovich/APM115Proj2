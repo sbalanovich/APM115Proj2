{
 "cells": [
  {
   "cell_type": "code",
   "execution_count": null,
   "metadata": {
    "collapsed": true
   },
   "outputs": [],
   "source": [
    "import cPickle\n",
    "import requests\n",
    "import json\n",
    "import csv\n",
    "import copy\n",
    "import pandas as pd\n",
    "\n",
    "with open('NYCountyNames.csv', 'r') as f:\n",
    "    county_names = list(csv.reader(f))[0]\n",
    "\n",
    "q = ['feelthebern',\n",
    "     'sanders',\n",
    "     'berniesanders',\n",
    "     'bernie2016',\n",
    "     'clinton',\n",
    "     'hillaryclinton',\n",
    "     'imwithher',\n",
    "     'hillary2016',\n",
    "     'tedcruz',\n",
    "     'choosecruz',\n",
    "     'cruzcrew',\n",
    "     'unitewithcruz',\n",
    "     'cruz2016',\n",
    "     'trump2016',\n",
    "     'donaldtrump',\n",
    "     '#trump',\n",
    "     'donaldtrump2016',\n",
    "     'kasichcan',\n",
    "     'johnkasich',\n",
    "     'kasich2016',\n",
    "     'kasich4us',\n",
    "    ]\n",
    "\n",
    "big_dict = dict()\n",
    "for county in county_names:\n",
    "    big_dict[county] = dict()\n",
    "    for hashtag in q:\n",
    "        try:\n",
    "            with open('Tweets/' + county + '/' + hashtag + 'FULL.p', 'rb') as f:\n",
    "                big_dict[county][hashtag] = cPickle.load(f)\n",
    "        except IOError:\n",
    "            continue"
   ]
  },
  {
   "cell_type": "code",
   "execution_count": null,
   "metadata": {
    "collapsed": true
   },
   "outputs": [],
   "source": [
    "# Candidates to their associated hashtags\n",
    "hashtag_dict = dict()\n",
    "hashtag_dict['Bernie Sanders'] = ['feelthebern', 'sanders', 'berniesanders', 'bernie2016']\n",
    "hashtag_dict['Hillary Clinton'] = ['clinton', 'hillaryclinton', 'imwithher','hillary2016',]\n",
    "hashtag_dict['Ted Cruz'] = ['tedcruz', 'choosecruz', 'cruzcrew', 'unitewithcruz', 'cruz2016']\n",
    "hashtag_dict['Donald Trump'] = ['trump2016', 'donaldtrump', '#trump', 'donaldtrump2016',]\n",
    "hashtag_dict['John Kasich'] = ['kasichcan', 'johnkasich', 'kasich2016', 'kasich4us']"
   ]
  },
  {
   "cell_type": "code",
   "execution_count": null,
   "metadata": {
    "collapsed": true
   },
   "outputs": [],
   "source": [
    "# Remove retweets and not-geocoded tweets\n",
    "no_retweets = copy.deepcopy(big_dict)\n",
    "for county in county_names:\n",
    "    for hashtag in no_retweets[county].keys():\n",
    "        with_rt = no_retweets[county][hashtag]\n",
    "        no_retweets[county][hashtag] = [status for status in with_rt if ((not ('retweeted_status' in status)) and status['coordinates'])]"
   ]
  },
  {
   "cell_type": "code",
   "execution_count": null,
   "metadata": {
    "collapsed": true
   },
   "outputs": [],
   "source": [
    "# Returns county given latitude and longitude\n",
    "def findCounty(lat, lon):\n",
    "    county_url = 'https://maps.googleapis.com/maps/api/geocode/json?sensor=false&latlng=' + str(lat) + ',' + str(lon)\n",
    "    r = requests.post(county_url)\n",
    "    county = ''\n",
    "    for result in r.json()['results']:\n",
    "        for comp in result['address_components']:\n",
    "            if 'administrative_area_level_2' in comp['types']:\n",
    "                county = comp['long_name'].replace(' County', '')\n",
    "        if county:\n",
    "            break\n",
    "    return county"
   ]
  },
  {
   "cell_type": "code",
   "execution_count": null,
   "metadata": {
    "collapsed": true
   },
   "outputs": [],
   "source": [
    "removed = dict()\n",
    "actual = dict()\n",
    "problem = dict()\n",
    "\n",
    "for county in county_names:\n",
    "    removed[county] = dict()\n",
    "    actual[county] = dict()\n",
    "    problem[county] = dict()\n",
    "    for hashtag in q:\n",
    "        removed[county][hashtag] = []\n",
    "        actual[county][hashtag] = []\n",
    "        problem[county][hashtag] = []\n",
    "\n",
    "# Remove statuses whose counties are incorrect, then add them to the correct county if applicable\n",
    "for county in county_names:\n",
    "    print county\n",
    "    for hashtag in no_retweets[county].keys():\n",
    "        statuses = no_retweets[county][hashtag]\n",
    "        for status in statuses:\n",
    "            coords = status['coordinates']['coordinates']\n",
    "            actual_county = findCounty(coords[1], coords[0])\n",
    "            if not actual_county in county_names:\n",
    "                print str(coords) + ' is not in New York'\n",
    "                removed[county][hashtag].append(status)\n",
    "                statuses.remove(status)\n",
    "            elif county != actual_county:\n",
    "                removed[county][hashtag].append(status)\n",
    "                actual[actual_county][hashtag].append(status)\n",
    "                statuses.remove(status)\n",
    "for county in county_names:\n",
    "    for hashtag in actual[county].keys():\n",
    "        for status in actual[county][hashtag]:\n",
    "            if status not in no_reteets[county][hashtag]:\n",
    "                no_retweets[county][hashtag].append(status)"
   ]
  },
  {
   "cell_type": "code",
   "execution_count": null,
   "metadata": {
    "collapsed": true
   },
   "outputs": [],
   "source": [
    "# Interesting features:\n",
    "# Average favorites for a status with a certain hashtag\n",
    "# Unique posters for statuses with certain hashtags\n",
    "# Average number of retweets for a status with a certain hashtag\n",
    "# Average number of followers for the posters of statuses with certain hashtags\n",
    "# Total posts about certain hashtags\n",
    "\n",
    "feature_dict = dict()\n",
    "\n",
    "for county in county_names:\n",
    "    feature_dict[county] = dict()\n",
    "    for candidate in hashtag_dict.keys():\n",
    "        total_favorites = 0\n",
    "        posters = set()\n",
    "        total_retweets = 0\n",
    "        total_followers = 0\n",
    "        total_posts = 0\n",
    "        for hashtag in hashtag_dict[candidate]:\n",
    "            statuses = no_retweets[county].get(hashtag)\n",
    "            if statuses:\n",
    "                total_posts += len(statuses)\n",
    "                for status in statuses:\n",
    "                    total_favorites += status['favorite_count']\n",
    "                    poster = status['user']\n",
    "                    if not poster['id'] in posters:\n",
    "                        total_followers += poster['followers_count']\n",
    "                    posters.add(poster['id'])\n",
    "                    total_retweets += status['retweet_count']\n",
    "        feature_dict[county][candidate + ' Average Favorite Count'] = total_favorites/total_posts if total_posts else 0\n",
    "        feature_dict[county][candidate + ' Unique Posters'] = len(posters)\n",
    "        feature_dict[county][candidate + ' Average Retweet Count'] = total_retweets/total_posts if total_posts else 0\n",
    "        feature_dict[county][candidate + ' Average Follower Count'] = total_followers/len(posters) if len(posters) else 0\n",
    "        feature_dict[county][candidate + ' Total Post Count'] = total_posts\n",
    "feature_df = pd.DataFrame.from_dict(feature_dict, orient='index')\n",
    "feature_df"
   ]
  },
  {
   "cell_type": "code",
   "execution_count": null,
   "metadata": {
    "collapsed": true
   },
   "outputs": [],
   "source": [
    "# Add sentiment features\n",
    "\n",
    "url = 'http://www.sentiment140.com/api/bulkClassifyJson?appid=sbalanovich@college.harvard.edu'\n",
    "for candidate in hashtag_dict.keys():\n",
    "    pos_dict = {county: 0 for county in county_names}\n",
    "    neg_dict = {county: 0 for county in county_names}\n",
    "    for county in county_names:\n",
    "        for hashtag in hashtag_dict[candidate]:\n",
    "            statuses = no_retweets[county].get(hashtag)\n",
    "            if not statuses:\n",
    "                continue\n",
    "            # Assume these hashtags are positive\n",
    "            if hashtag in ['feelthebern', 'imwithher', 'choosecruz', 'cruzcrew', 'unitewithcruz', 'kasich4us', 'kasichcan']:\n",
    "                pos_dict[county] += len(statuses)\n",
    "                continue\n",
    "            tweet_data = [{'text': status['text'],\n",
    "                           'query': candidate,\n",
    "                           'id': status['id']} for status in statuses]\n",
    "            r = requests.post(url, data=json.dumps({'data': tweet_data}))\n",
    "            neg_dict[county] += len([result for result in r.json()['data'] if result['polarity'] == 0])\n",
    "            pos_dict[county] += len([result for result in r.json()['data'] if result['polarity'] == 4])\n",
    "    # Not sure why, but pd refuses to do element-wise division for me, so...\n",
    "    for (county, count) in pos_dict.items():\n",
    "        if feature_df[candidate + ' Total Post Count'][county]:\n",
    "            pos_dict[county] = float(count) / float(feature_df[candidate + ' Total Post Count'][county])\n",
    "    for (county, count) in neg_dict.items():\n",
    "        if feature_df[candidate + ' Total Post Count'][county]:\n",
    "            neg_dict[county] = float(count) / float(feature_df[candidate + ' Total Post Count'][county])\n",
    "    feature_df[candidate + ' Positive Tweet Proportion'] = pd.DataFrame.from_dict(pos_dict, orient='index')\n",
    "    feature_df[candidate + ' Negative Tweet Proportion'] = pd.DataFrame.from_dict(neg_dict, orient='index')\n",
    "feature_df.head()"
   ]
  },
  {
   "cell_type": "code",
   "execution_count": null,
   "metadata": {
    "collapsed": true
   },
   "outputs": [],
   "source": [
    "# Pickle for future use\n",
    "with open('cleaned_no_rt.p', 'wb') as f:\n",
    "    cPickle.dump(no_retweets, f)\n",
    "with open('clean_feature_df.p', 'wb') as f:\n",
    "    cPickle.dump(feature_df, f)"
   ]
  }
 ],
 "metadata": {
  "kernelspec": {
   "display_name": "Python 2",
   "language": "python",
   "name": "python2"
  },
  "language_info": {
   "codemirror_mode": {
    "name": "ipython",
    "version": 2
   },
   "file_extension": ".py",
   "mimetype": "text/x-python",
   "name": "python",
   "nbconvert_exporter": "python",
   "pygments_lexer": "ipython2",
   "version": "2.7.10"
  }
 },
 "nbformat": 4,
 "nbformat_minor": 0
}
