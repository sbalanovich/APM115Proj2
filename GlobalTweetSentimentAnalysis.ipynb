{
 "cells": [
  {
   "cell_type": "code",
   "execution_count": null,
   "metadata": {
    "collapsed": true
   },
   "outputs": [],
   "source": [
    "import cPickle\n",
    "import requests\n",
    "import json\n",
    "\n",
    "sent_url = 'http://www.sentiment140.com/api/bulkClassifyJson?appid=sbalanovich@college.harvard.edu'\n",
    "\n",
    "q = ['feelthebern',\n",
    "     'sanders',\n",
    "     'berniesanders',\n",
    "     'bernie2016',\n",
    "     'clinton',\n",
    "     'hillaryclinton',\n",
    "     'imwithher',\n",
    "     'hillary2016',\n",
    "     'tedcruz',\n",
    "     'choosecruz',\n",
    "     'cruzcrew',\n",
    "     'unitewithcruz',\n",
    "     'cruz2016',\n",
    "     'trump2016',\n",
    "     'donaldtrump',\n",
    "     '#trump',\n",
    "     'donaldtrump2016',\n",
    "     'kasichcan',\n",
    "     'johnkasich',\n",
    "     'kasich2016',\n",
    "     'kasich4us',\n",
    "    ]\n",
    "\n",
    "sentiments = dict()\n",
    "\n",
    "queries = dict()\n",
    "for hashtag in q:\n",
    "    if hashtag in ['feelthebern', 'sanders', 'berniesanders', 'bernie2016']:\n",
    "        queries[hashtag] = ['Bernie', 'Sanders', 'Bernie Sanders', '']\n",
    "    if hashtag in ['clinton', 'hillaryclinton', 'imwithher','hillary2016',]:\n",
    "        queries[hashtag] = ['Hillary', 'Clinton', 'Hillary Clinton', '']\n",
    "    if hashtag in ['tedcruz', 'choosecruz', 'cruzcrew', 'unitewithcruz', 'cruz2016']:\n",
    "        queries[hashtag] = ['Ted', 'Cruz', 'Ted Cruz', '']\n",
    "    if hashtag in ['trump2016', 'donaldtrump', '#trump', 'donaldtrump2016',]:\n",
    "        queries[hashtag] = ['Donald', 'Trump', 'Donald Trump', '']\n",
    "    if hashtag in ['kasichcan', 'johnkasich', 'kasich2016', 'kasich4us']:\n",
    "        queries[hashtag] = ['John', 'Kasich', 'John Kasich', '']\n",
    "    \n",
    "for hashtag in q:\n",
    "    sentiments[hashtag] = dict()\n",
    "    with open('Tweets/' + hashtag + 'FULL.p', 'rb') as f:\n",
    "        stat_list = cPickle.load(f)\n",
    "    no_retweets = [status for status in stat_list if not ('retweeted_status' in status)]\n",
    "    for query in queries[hashtag]:\n",
    "        if query:\n",
    "            tweet_data = [{'text': status['text'],\n",
    "                           'query': query,\n",
    "                           'id': status['id']} for status in no_retweets]\n",
    "        else:\n",
    "            tweet_data = [{'text': status['text'],\n",
    "                           'id': status['id']} for status in no_retweets]\n",
    "        r = requests.post(url, data=json.dumps({'data': tweet_data}))\n",
    "        \n",
    "        # Order: negative, neutral, positive\n",
    "        sentiments[hashtag][query] = [[result for result in r.json()['data'] if result['polarity'] == 0],\n",
    "                                      [result for result in r.json()['data'] if result['polarity'] == 2],\n",
    "                                      [result for result in r.json()['data'] if result['polarity'] == 4]]"
   ]
  }
 ],
 "metadata": {
  "kernelspec": {
   "display_name": "Python 2",
   "language": "python",
   "name": "python2"
  },
  "language_info": {
   "codemirror_mode": {
    "name": "ipython",
    "version": 2
   },
   "file_extension": ".py",
   "mimetype": "text/x-python",
   "name": "python",
   "nbconvert_exporter": "python",
   "pygments_lexer": "ipython2",
   "version": "2.7.10"
  }
 },
 "nbformat": 4,
 "nbformat_minor": 0
}
