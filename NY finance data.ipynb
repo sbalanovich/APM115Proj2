{
 "cells": [
  {
   "cell_type": "code",
   "execution_count": 28,
   "metadata": {
    "collapsed": true
   },
   "outputs": [],
   "source": [
    "%matplotlib inline\n",
    "\n",
    "import matplotlib\n",
    "import numpy as np\n",
    "import matplotlib.pyplot as plt\n",
    "\n",
    "import csv\n",
    "import pandas as pd"
   ]
  },
  {
   "cell_type": "code",
   "execution_count": 44,
   "metadata": {
    "collapsed": false
   },
   "outputs": [
    {
     "name": "stderr",
     "output_type": "stream",
     "text": [
      "/usr/local/lib/python2.7/dist-packages/pandas/io/parsers.py:1159: DtypeWarning: Columns (12) have mixed types. Specify dtype option on import or set low_memory=False.\n",
      "  data = self._reader.read(nrows)\n"
     ]
    }
   ],
   "source": [
    "# f = open('Clinton-NY.csv')\n",
    "# csv_rows = csv.reader(f)\n",
    "\n",
    "# csv_rows[0]\n",
    "\n",
    "\n",
    "df = pd.read_csv('Sanders-NY.csv')"
   ]
  },
  {
   "cell_type": "code",
   "execution_count": 45,
   "metadata": {
    "collapsed": false,
    "scrolled": false
   },
   "outputs": [
    {
     "data": {
      "text/html": [
       "<div style=\"max-height:1000px;max-width:1500px;overflow:auto;\">\n",
       "<table border=\"1\" class=\"dataframe\">\n",
       "  <thead>\n",
       "    <tr style=\"text-align: right;\">\n",
       "      <th></th>\n",
       "      <th>cmte_id</th>\n",
       "      <th>cand_id</th>\n",
       "      <th>cand_nm</th>\n",
       "      <th>contbr_nm</th>\n",
       "      <th>contbr_city</th>\n",
       "      <th>contbr_st</th>\n",
       "      <th>contbr_zip</th>\n",
       "      <th>contbr_employer</th>\n",
       "      <th>contbr_occupation</th>\n",
       "      <th>contb_receipt_amt</th>\n",
       "      <th>contb_receipt_dt</th>\n",
       "      <th>receipt_desc</th>\n",
       "      <th>memo_cd</th>\n",
       "      <th>memo_text</th>\n",
       "      <th>form_tp</th>\n",
       "      <th>file_num</th>\n",
       "      <th>tran_id</th>\n",
       "      <th>election_tp</th>\n",
       "    </tr>\n",
       "  </thead>\n",
       "  <tbody>\n",
       "    <tr>\n",
       "      <th>C00577130</th>\n",
       "      <td> P60007168</td>\n",
       "      <td> Sanders, Bernard</td>\n",
       "      <td>     CAMERON, JOSH</td>\n",
       "      <td>   POTSDAM</td>\n",
       "      <td> NY</td>\n",
       "      <td> 136764111</td>\n",
       "      <td> CLARKSON UNIVERSITY</td>\n",
       "      <td>       PROGRAMMER</td>\n",
       "      <td>  50.0</td>\n",
       "      <td> 29-FEB-16</td>\n",
       "      <td> NaN</td>\n",
       "      <td> NaN</td>\n",
       "      <td> * EARMARKED CONTRIBUTION: SEE BELOW</td>\n",
       "      <td> SA17A</td>\n",
       "      <td> 1056899</td>\n",
       "      <td> VPF7BK6MPV7</td>\n",
       "      <td> P2016</td>\n",
       "      <td>NaN</td>\n",
       "    </tr>\n",
       "    <tr>\n",
       "      <th>C00577130</th>\n",
       "      <td> P60007168</td>\n",
       "      <td> Sanders, Bernard</td>\n",
       "      <td>       BEER, HENRY</td>\n",
       "      <td>  NEW YORK</td>\n",
       "      <td> NY</td>\n",
       "      <td> 100030029</td>\n",
       "      <td>       G-III APPAREL</td>\n",
       "      <td>   GRAPHIC ARTIST</td>\n",
       "      <td> 250.0</td>\n",
       "      <td> 29-FEB-16</td>\n",
       "      <td> NaN</td>\n",
       "      <td> NaN</td>\n",
       "      <td> * EARMARKED CONTRIBUTION: SEE BELOW</td>\n",
       "      <td> SA17A</td>\n",
       "      <td> 1056899</td>\n",
       "      <td> VPF7BK8R131</td>\n",
       "      <td> P2016</td>\n",
       "      <td>NaN</td>\n",
       "    </tr>\n",
       "    <tr>\n",
       "      <th>C00577130</th>\n",
       "      <td> P60007168</td>\n",
       "      <td> Sanders, Bernard</td>\n",
       "      <td>        BEERS, BEN</td>\n",
       "      <td>  BROOKLYN</td>\n",
       "      <td> NY</td>\n",
       "      <td> 112151573</td>\n",
       "      <td>       ECHOING GREEN</td>\n",
       "      <td> SENIOR ASSOCIATE</td>\n",
       "      <td>  50.0</td>\n",
       "      <td> 29-FEB-16</td>\n",
       "      <td> NaN</td>\n",
       "      <td> NaN</td>\n",
       "      <td> * EARMARKED CONTRIBUTION: SEE BELOW</td>\n",
       "      <td> SA17A</td>\n",
       "      <td> 1056899</td>\n",
       "      <td> VPF7BK81M21</td>\n",
       "      <td> P2016</td>\n",
       "      <td>NaN</td>\n",
       "    </tr>\n",
       "    <tr>\n",
       "      <th>C00577130</th>\n",
       "      <td> P60007168</td>\n",
       "      <td> Sanders, Bernard</td>\n",
       "      <td>  BENOIT, PATRICIA</td>\n",
       "      <td>  NEW YORK</td>\n",
       "      <td> NY</td>\n",
       "      <td> 100121005</td>\n",
       "      <td>                SELF</td>\n",
       "      <td>        FILMMAKER</td>\n",
       "      <td>  50.0</td>\n",
       "      <td> 29-FEB-16</td>\n",
       "      <td> NaN</td>\n",
       "      <td> NaN</td>\n",
       "      <td> * EARMARKED CONTRIBUTION: SEE BELOW</td>\n",
       "      <td> SA17A</td>\n",
       "      <td> 1056899</td>\n",
       "      <td> VPF7BK8JQA4</td>\n",
       "      <td> P2016</td>\n",
       "      <td>NaN</td>\n",
       "    </tr>\n",
       "    <tr>\n",
       "      <th>C00577130</th>\n",
       "      <td> P60007168</td>\n",
       "      <td> Sanders, Bernard</td>\n",
       "      <td> GARDINER, MELINDA</td>\n",
       "      <td> HILLSDALE</td>\n",
       "      <td> NY</td>\n",
       "      <td> 125295515</td>\n",
       "      <td>      SERLF-EMPLOYED</td>\n",
       "      <td>         MUSICIAN</td>\n",
       "      <td>  12.5</td>\n",
       "      <td> 29-FEB-16</td>\n",
       "      <td> NaN</td>\n",
       "      <td> NaN</td>\n",
       "      <td> * EARMARKED CONTRIBUTION: SEE BELOW</td>\n",
       "      <td> SA17A</td>\n",
       "      <td> 1056899</td>\n",
       "      <td> VPF7BK9TZ32</td>\n",
       "      <td> P2016</td>\n",
       "      <td>NaN</td>\n",
       "    </tr>\n",
       "  </tbody>\n",
       "</table>\n",
       "</div>"
      ],
      "text/plain": [
       "             cmte_id           cand_id            cand_nm  contbr_nm  \\\n",
       "C00577130  P60007168  Sanders, Bernard      CAMERON, JOSH    POTSDAM   \n",
       "C00577130  P60007168  Sanders, Bernard        BEER, HENRY   NEW YORK   \n",
       "C00577130  P60007168  Sanders, Bernard         BEERS, BEN   BROOKLYN   \n",
       "C00577130  P60007168  Sanders, Bernard   BENOIT, PATRICIA   NEW YORK   \n",
       "C00577130  P60007168  Sanders, Bernard  GARDINER, MELINDA  HILLSDALE   \n",
       "\n",
       "          contbr_city  contbr_st           contbr_zip   contbr_employer  \\\n",
       "C00577130          NY  136764111  CLARKSON UNIVERSITY        PROGRAMMER   \n",
       "C00577130          NY  100030029        G-III APPAREL    GRAPHIC ARTIST   \n",
       "C00577130          NY  112151573        ECHOING GREEN  SENIOR ASSOCIATE   \n",
       "C00577130          NY  100121005                 SELF         FILMMAKER   \n",
       "C00577130          NY  125295515       SERLF-EMPLOYED          MUSICIAN   \n",
       "\n",
       "           contbr_occupation contb_receipt_amt contb_receipt_dt receipt_desc  \\\n",
       "C00577130               50.0         29-FEB-16              NaN          NaN   \n",
       "C00577130              250.0         29-FEB-16              NaN          NaN   \n",
       "C00577130               50.0         29-FEB-16              NaN          NaN   \n",
       "C00577130               50.0         29-FEB-16              NaN          NaN   \n",
       "C00577130               12.5         29-FEB-16              NaN          NaN   \n",
       "\n",
       "                                       memo_cd memo_text  form_tp  \\\n",
       "C00577130  * EARMARKED CONTRIBUTION: SEE BELOW     SA17A  1056899   \n",
       "C00577130  * EARMARKED CONTRIBUTION: SEE BELOW     SA17A  1056899   \n",
       "C00577130  * EARMARKED CONTRIBUTION: SEE BELOW     SA17A  1056899   \n",
       "C00577130  * EARMARKED CONTRIBUTION: SEE BELOW     SA17A  1056899   \n",
       "C00577130  * EARMARKED CONTRIBUTION: SEE BELOW     SA17A  1056899   \n",
       "\n",
       "              file_num tran_id  election_tp  \n",
       "C00577130  VPF7BK6MPV7   P2016          NaN  \n",
       "C00577130  VPF7BK8R131   P2016          NaN  \n",
       "C00577130  VPF7BK81M21   P2016          NaN  \n",
       "C00577130  VPF7BK8JQA4   P2016          NaN  \n",
       "C00577130  VPF7BK9TZ32   P2016          NaN  "
      ]
     },
     "execution_count": 45,
     "metadata": {},
     "output_type": "execute_result"
    }
   ],
   "source": [
    "df.head()\n",
    "# contbr_occupation = donation amt\n",
    "# contb_receipt_amt = donation date"
   ]
  },
  {
   "cell_type": "code",
   "execution_count": 46,
   "metadata": {
    "collapsed": false
   },
   "outputs": [
    {
     "data": {
      "text/plain": [
       "C00577130    Sanders, Bernard\n",
       "C00577130    Sanders, Bernard\n",
       "C00577130    Sanders, Bernard\n",
       "C00577130    Sanders, Bernard\n",
       "C00577130    Sanders, Bernard\n",
       "Name: cand_id, dtype: object"
      ]
     },
     "execution_count": 46,
     "metadata": {},
     "output_type": "execute_result"
    }
   ],
   "source": [
    "df.cand_id.head()"
   ]
  },
  {
   "cell_type": "code",
   "execution_count": 47,
   "metadata": {
    "collapsed": true
   },
   "outputs": [],
   "source": [
    "df2 = pd.DataFrame({'date' : df.contb_receipt_amt, 'amt' : df.contbr_occupation})"
   ]
  },
  {
   "cell_type": "code",
   "execution_count": 48,
   "metadata": {
    "collapsed": false
   },
   "outputs": [],
   "source": [
    "df3 = df2.sort(['date'])"
   ]
  },
  {
   "cell_type": "code",
   "execution_count": 49,
   "metadata": {
    "collapsed": false
   },
   "outputs": [
    {
     "data": {
      "text/html": [
       "<div style=\"max-height:1000px;max-width:1500px;overflow:auto;\">\n",
       "<table border=\"1\" class=\"dataframe\">\n",
       "  <thead>\n",
       "    <tr style=\"text-align: right;\">\n",
       "      <th></th>\n",
       "      <th>amt</th>\n",
       "      <th>date</th>\n",
       "      <th>cum_amt</th>\n",
       "    </tr>\n",
       "  </thead>\n",
       "  <tbody>\n",
       "    <tr>\n",
       "      <th>C00577130</th>\n",
       "      <td>  35</td>\n",
       "      <td> 01-AUG-15</td>\n",
       "      <td>   35</td>\n",
       "    </tr>\n",
       "    <tr>\n",
       "      <th>C00577130</th>\n",
       "      <td> 200</td>\n",
       "      <td> 01-AUG-15</td>\n",
       "      <td>  235</td>\n",
       "    </tr>\n",
       "    <tr>\n",
       "      <th>C00577130</th>\n",
       "      <td> 500</td>\n",
       "      <td> 01-AUG-15</td>\n",
       "      <td>  735</td>\n",
       "    </tr>\n",
       "    <tr>\n",
       "      <th>C00577130</th>\n",
       "      <td> 250</td>\n",
       "      <td> 01-AUG-15</td>\n",
       "      <td>  985</td>\n",
       "    </tr>\n",
       "    <tr>\n",
       "      <th>C00577130</th>\n",
       "      <td>  50</td>\n",
       "      <td> 01-AUG-15</td>\n",
       "      <td> 1035</td>\n",
       "    </tr>\n",
       "  </tbody>\n",
       "</table>\n",
       "</div>"
      ],
      "text/plain": [
       "           amt       date  cum_amt\n",
       "C00577130   35  01-AUG-15       35\n",
       "C00577130  200  01-AUG-15      235\n",
       "C00577130  500  01-AUG-15      735\n",
       "C00577130  250  01-AUG-15      985\n",
       "C00577130   50  01-AUG-15     1035"
      ]
     },
     "execution_count": 49,
     "metadata": {},
     "output_type": "execute_result"
    }
   ],
   "source": [
    "df3['cum_amt'] = df3.amt.cumsum()\n",
    "df3.head()"
   ]
  },
  {
   "cell_type": "code",
   "execution_count": 50,
   "metadata": {
    "collapsed": false
   },
   "outputs": [
    {
     "data": {
      "text/html": [
       "<div style=\"max-height:1000px;max-width:1500px;overflow:auto;\">\n",
       "<table border=\"1\" class=\"dataframe\">\n",
       "  <thead>\n",
       "    <tr style=\"text-align: right;\">\n",
       "      <th></th>\n",
       "      <th>amt</th>\n",
       "      <th>date</th>\n",
       "      <th>cum_amt</th>\n",
       "      <th>idx_date</th>\n",
       "    </tr>\n",
       "  </thead>\n",
       "  <tbody>\n",
       "    <tr>\n",
       "      <th>C00577130</th>\n",
       "      <td>  35</td>\n",
       "      <td> 01-AUG-15</td>\n",
       "      <td>   35</td>\n",
       "      <td> 0</td>\n",
       "    </tr>\n",
       "    <tr>\n",
       "      <th>C00577130</th>\n",
       "      <td> 200</td>\n",
       "      <td> 01-AUG-15</td>\n",
       "      <td>  235</td>\n",
       "      <td> 0</td>\n",
       "    </tr>\n",
       "    <tr>\n",
       "      <th>C00577130</th>\n",
       "      <td> 500</td>\n",
       "      <td> 01-AUG-15</td>\n",
       "      <td>  735</td>\n",
       "      <td> 0</td>\n",
       "    </tr>\n",
       "    <tr>\n",
       "      <th>C00577130</th>\n",
       "      <td> 250</td>\n",
       "      <td> 01-AUG-15</td>\n",
       "      <td>  985</td>\n",
       "      <td> 0</td>\n",
       "    </tr>\n",
       "    <tr>\n",
       "      <th>C00577130</th>\n",
       "      <td>  50</td>\n",
       "      <td> 01-AUG-15</td>\n",
       "      <td> 1035</td>\n",
       "      <td> 0</td>\n",
       "    </tr>\n",
       "  </tbody>\n",
       "</table>\n",
       "</div>"
      ],
      "text/plain": [
       "           amt       date  cum_amt  idx_date\n",
       "C00577130   35  01-AUG-15       35         0\n",
       "C00577130  200  01-AUG-15      235         0\n",
       "C00577130  500  01-AUG-15      735         0\n",
       "C00577130  250  01-AUG-15      985         0\n",
       "C00577130   50  01-AUG-15     1035         0"
      ]
     },
     "execution_count": 50,
     "metadata": {},
     "output_type": "execute_result"
    }
   ],
   "source": [
    "df_len = len(df3.index)\n",
    "bucket_size = int(df_len/1000)\n",
    "idx_date = []\n",
    "idx = 0\n",
    "curr_date = df3.date[0]\n",
    "for i in df3.date:\n",
    "    if i != curr_date:\n",
    "        curr_date = i\n",
    "        idx += 1\n",
    "    idx_date.append(idx)\n",
    "df3['idx_date'] = idx_date\n",
    "df3.head()"
   ]
  },
  {
   "cell_type": "code",
   "execution_count": 51,
   "metadata": {
    "collapsed": false
   },
   "outputs": [
    {
     "data": {
      "text/html": [
       "<div style=\"max-height:1000px;max-width:1500px;overflow:auto;\">\n",
       "<table border=\"1\" class=\"dataframe\">\n",
       "  <thead>\n",
       "    <tr style=\"text-align: right;\">\n",
       "      <th></th>\n",
       "      <th>amt</th>\n",
       "      <th>cum_amt</th>\n",
       "      <th>date_idx</th>\n",
       "    </tr>\n",
       "  </thead>\n",
       "  <tbody>\n",
       "    <tr>\n",
       "      <th>0</th>\n",
       "      <td> 7649.63</td>\n",
       "      <td> 206629.29</td>\n",
       "      <td> 0</td>\n",
       "    </tr>\n",
       "    <tr>\n",
       "      <th>1</th>\n",
       "      <td> 4045.88</td>\n",
       "      <td> 496689.61</td>\n",
       "      <td> 1</td>\n",
       "    </tr>\n",
       "    <tr>\n",
       "      <th>2</th>\n",
       "      <td> 3026.40</td>\n",
       "      <td> 676372.74</td>\n",
       "      <td> 1</td>\n",
       "    </tr>\n",
       "    <tr>\n",
       "      <th>3</th>\n",
       "      <td> 2914.72</td>\n",
       "      <td> 840544.05</td>\n",
       "      <td> 2</td>\n",
       "    </tr>\n",
       "    <tr>\n",
       "      <th>4</th>\n",
       "      <td> 2523.70</td>\n",
       "      <td> 952163.23</td>\n",
       "      <td> 2</td>\n",
       "    </tr>\n",
       "  </tbody>\n",
       "</table>\n",
       "</div>"
      ],
      "text/plain": [
       "       amt    cum_amt  date_idx\n",
       "0  7649.63  206629.29         0\n",
       "1  4045.88  496689.61         1\n",
       "2  3026.40  676372.74         1\n",
       "3  2914.72  840544.05         2\n",
       "4  2523.70  952163.23         2"
      ]
     },
     "execution_count": 51,
     "metadata": {},
     "output_type": "execute_result"
    }
   ],
   "source": [
    "compressed_idx = []\n",
    "compressed_amt = []\n",
    "compressed_cum_amt = []\n",
    "i = 0\n",
    "for index, row in df3.iterrows():\n",
    "    if i % bucket_size == 0:\n",
    "        compressed_idx.append(row['idx_date'])\n",
    "        compressed_amt.append(row['amt'])\n",
    "        compressed_cum_amt.append(row['cum_amt'])\n",
    "    compressed_amt[-1] += row['amt']\n",
    "    compressed_cum_amt[-1] += row['cum_amt']\n",
    "    i += 1\n",
    "\n",
    "df4 = pd.DataFrame({'date_idx' : compressed_idx, 'amt' : compressed_amt, 'cum_amt' : compressed_cum_amt})\n",
    "df4.head()"
   ]
  },
  {
   "cell_type": "code",
   "execution_count": 42,
   "metadata": {
    "collapsed": false
   },
   "outputs": [
    {
     "data": {
      "text/plain": [
       "<matplotlib.axes.AxesSubplot at 0x7f9b380c4c50>"
      ]
     },
     "execution_count": 42,
     "metadata": {},
     "output_type": "execute_result"
    },
    {
     "data": {
      "image/png": "[encoded data removed]",
      "text/plain": [
       "<matplotlib.figure.Figure at 0x7f9b3815f0d0>"
      ]
     },
     "metadata": {},
     "output_type": "display_data"
    }
   ],
   "source": [
    "df4.plot(x='date_idx', y='amt', style='o')"
   ]
  },
  {
   "cell_type": "code",
   "execution_count": 43,
   "metadata": {
    "collapsed": false
   },
   "outputs": [
    {
     "data": {
      "text/plain": [
       "<matplotlib.axes.AxesSubplot at 0x7f9b38185e50>"
      ]
     },
     "execution_count": 43,
     "metadata": {},
     "output_type": "execute_result"
    },
    {
     "data": {
      "image/png": "[encoded data removed]",
      "text/plain": [
       "<matplotlib.figure.Figure at 0x7f9b389c9210>"
      ]
     },
     "metadata": {},
     "output_type": "display_data"
    }
   ],
   "source": [
    "df4.plot(x='date_idx', y='cum_amt', style='o')"
   ]
  },
  {
   "cell_type": "code",
   "execution_count": 52,
   "metadata": {
    "collapsed": false
   },
   "outputs": [
    {
     "data": {
      "text/plain": [
       "<matplotlib.axes.AxesSubplot at 0x7f9b37ed67d0>"
      ]
     },
     "execution_count": 52,
     "metadata": {},
     "output_type": "execute_result"
    },
    {
     "data": {
      "image/png": "[encoded data removed]",
      "text/plain": [
       "<matplotlib.figure.Figure at 0x7f9b37ed2c10>"
      ]
     },
     "metadata": {},
     "output_type": "display_data"
    }
   ],
   "source": [
    "df4.plot(x='date_idx', y='amt', style='o')"
   ]
  },
  {
   "cell_type": "code",
   "execution_count": 53,
   "metadata": {
    "collapsed": false
   },
   "outputs": [
    {
     "data": {
      "text/plain": [
       "<matplotlib.axes.AxesSubplot at 0x7f9b37665590>"
      ]
     },
     "execution_count": 53,
     "metadata": {},
     "output_type": "execute_result"
    },
    {
     "data": {
      "image/png": "[encoded data removed]",
      "text/plain": [
       "<matplotlib.figure.Figure at 0x7f9b376ad090>"
      ]
     },
     "metadata": {},
     "output_type": "display_data"
    }
   ],
   "source": [
    "df4.plot(x='date_idx', y='cum_amt', style='o')"
   ]
  },
  {
   "cell_type": "code",
   "execution_count": null,
   "metadata": {
    "collapsed": true
   },
   "outputs": [],
   "source": []
  }
 ],
 "metadata": {
  "kernelspec": {
   "display_name": "Python 2",
   "language": "python",
   "name": "python2"
  },
  "language_info": {
   "codemirror_mode": {
    "name": "ipython",
    "version": 2
   },
   "file_extension": ".py",
   "mimetype": "text/x-python",
   "name": "python",
   "nbconvert_exporter": "python",
   "pygments_lexer": "ipython2",
   "version": "2.7.6"
  }
 },
 "nbformat": 4,
 "nbformat_minor": 0
}
