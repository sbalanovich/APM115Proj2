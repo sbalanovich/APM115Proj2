{
 "cells": [
  {
   "cell_type": "code",
   "execution_count": 4,
   "metadata": {
    "collapsed": true
   },
   "outputs": [],
   "source": [
    "%matplotlib inline\n",
    "\n",
    "import matplotlib\n",
    "import matplotlib.pyplot as plt\n",
    "\n",
    "import pandas as pd\n",
    "\n",
    "import numpy as np\n",
    "import math\n",
    "\n",
    "from sklearn.datasets import load_boston\n",
    "from sklearn.ensemble import RandomForestRegressor\n",
    "from sklearn.pipeline import Pipeline\n",
    "from sklearn.preprocessing import Imputer\n",
    "from sklearn.cross_validation import cross_val_score\n",
    "\n",
    "from collections import defaultdict\n",
    "import cPickle\n",
    "\n",
    "import csv"
   ]
  },
  {
   "cell_type": "code",
   "execution_count": 5,
   "metadata": {
    "collapsed": false
   },
   "outputs": [],
   "source": [
    "with open('../pickles/nyc_feature_df.p', 'rb') as f:\n",
    "    NYtwitter = cPickle.load(f)\n",
    "\n",
    "with open('../pickles/CTfeature_df.p', 'rb') as f:\n",
    "    CTtwitter = cPickle.load(f)"
   ]
  },
  {
   "cell_type": "markdown",
   "metadata": {},
   "source": [
    "#### Build X and y vectors"
   ]
  },
  {
   "cell_type": "code",
   "execution_count": 19,
   "metadata": {
    "collapsed": false
   },
   "outputs": [
    {
     "data": {
      "text/plain": [
       "62"
      ]
     },
     "execution_count": 19,
     "metadata": {},
     "output_type": "execute_result"
    }
   ],
   "source": [
    "candidates = [\"Clinton\", \"Sanders\"]\n",
    "colns = list(NYtwitter.columns.values)\n",
    "ids = []\n",
    "for c in candidates:\n",
    "    ids += [i for i, coln in enumerate(colns) if c in coln]\n",
    "\n",
    "X = []\n",
    "for index, row in NYtwitter.iterrows():\n",
    "#     print index\n",
    "    X.append(row[ids].values)\n",
    "len(X)\n",
    "len(NYtwitter)"
   ]
  },
  {
   "cell_type": "code",
   "execution_count": 44,
   "metadata": {
    "collapsed": false
   },
   "outputs": [],
   "source": [
    "numCounties = 62\n",
    "candidates = [\"Clinton\", \"Sanders\"]\n",
    "tbl = []\n",
    "with open('../CSVs/NyPrimaryPollsD.csv', 'rb') as f:\n",
    "    reader = csv.reader(f)\n",
    "    for row in reader:\n",
    "        # Remove LVs\n",
    "        if row[1]:\n",
    "            row[1] = row[1][:-3]\n",
    "        tbl.append(row)\n",
    "X1 = map(float, tbl[1][3:])\n",
    "X1 = [X1 for i in range(numCounties)]\n",
    "X2 = [map(float, t[1:]) for t in tbl[3:]]\n",
    "X2 = [i for arr in X2 for i in arr]\n",
    "X2 = [X2 for i in range(numCounties)]"
   ]
  },
  {
   "cell_type": "code",
   "execution_count": null,
   "metadata": {
    "collapsed": true
   },
   "outputs": [],
   "source": [
    "def makeSmallPollFF():\n",
    "    tbl = []\n",
    "    with open('../CSVs/NyPrimaryPollsD.csv', 'rb') as f:\n",
    "        reader = csv.reader(f)\n",
    "        for row in reader:\n",
    "            # Remove LVs\n",
    "            if row[1]:\n",
    "                row[1] = row[1][:-3]\n",
    "            tbl.append(row)\n",
    "    X1 = map(float, tbl[1][3:])\n",
    "    X1 = [X1 for i in range(numCounties)]\n",
    "    return X1\n",
    "\n",
    "def makeBigPollFF():\n",
    "    tbl = []\n",
    "    with open('../CSVs/NyPrimaryPollsD.csv', 'rb') as f:\n",
    "        reader = csv.reader(f)\n",
    "        for row in reader:\n",
    "            # Remove LVs\n",
    "            if row[1]:\n",
    "                row[1] = row[1][:-3]\n",
    "            tbl.append(row)\n",
    "    X2 = [map(float, t[1:]) for t in tbl[3:]]\n",
    "    X2 = [i for arr in X2 for i in arr]\n",
    "    X2 = [X2 for i in range(numCounties)]\n",
    "    return X2"
   ]
  }
 ],
 "metadata": {
  "kernelspec": {
   "display_name": "Python 2",
   "language": "python",
   "name": "python2"
  },
  "language_info": {
   "codemirror_mode": {
    "name": "ipython",
    "version": 2
   },
   "file_extension": ".py",
   "mimetype": "text/x-python",
   "name": "python",
   "nbconvert_exporter": "python",
   "pygments_lexer": "ipython2",
   "version": "2.7.6"
  }
 },
 "nbformat": 4,
 "nbformat_minor": 0
}
