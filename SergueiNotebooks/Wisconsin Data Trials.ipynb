{
 "cells": [
  {
   "cell_type": "code",
   "execution_count": 2,
   "metadata": {
    "collapsed": true
   },
   "outputs": [],
   "source": [
    "%matplotlib inline\n",
    "\n",
    "import matplotlib\n",
    "import numpy as np\n",
    "import matplotlib.pyplot as plt\n",
    "\n",
    "import csv\n",
    "import pandas as pd"
   ]
  },
  {
   "cell_type": "code",
   "execution_count": 3,
   "metadata": {
    "collapsed": false
   },
   "outputs": [],
   "source": [
    "# f = open('Clinton-NY.csv')\n",
    "# csv_rows = csv.reader(f)\n",
    "\n",
    "# csv_rows[0]\n",
    "\n",
    "\n",
    "df = pd.read_csv('Sanders-WI.csv')"
   ]
  },
  {
   "cell_type": "code",
   "execution_count": 4,
   "metadata": {
    "collapsed": false,
    "scrolled": false
   },
   "outputs": [
    {
     "data": {
      "text/html": [
       "<div style=\"max-height:1000px;max-width:1500px;overflow:auto;\">\n",
       "<table border=\"1\" class=\"dataframe\">\n",
       "  <thead>\n",
       "    <tr style=\"text-align: right;\">\n",
       "      <th></th>\n",
       "      <th>cmte_id</th>\n",
       "      <th>cand_id</th>\n",
       "      <th>cand_nm</th>\n",
       "      <th>contbr_nm</th>\n",
       "      <th>contbr_city</th>\n",
       "      <th>contbr_st</th>\n",
       "      <th>contbr_zip</th>\n",
       "      <th>contbr_employer</th>\n",
       "      <th>contbr_occupation</th>\n",
       "      <th>contb_receipt_amt</th>\n",
       "      <th>contb_receipt_dt</th>\n",
       "      <th>receipt_desc</th>\n",
       "      <th>memo_cd</th>\n",
       "      <th>memo_text</th>\n",
       "      <th>form_tp</th>\n",
       "      <th>file_num</th>\n",
       "      <th>tran_id</th>\n",
       "      <th>election_tp</th>\n",
       "    </tr>\n",
       "  </thead>\n",
       "  <tbody>\n",
       "    <tr>\n",
       "      <th>C00577130</th>\n",
       "      <td> P60007168</td>\n",
       "      <td> Sanders, Bernard</td>\n",
       "      <td>  WELLS, CONNIE</td>\n",
       "      <td>  FRANKLIN</td>\n",
       "      <td> WI</td>\n",
       "      <td> 531328576</td>\n",
       "      <td> INTERNATIONAL FOUNDATION OF EMPLOYEE B</td>\n",
       "      <td>         EXECUTIVE MANAGEMENT</td>\n",
       "      <td> 50</td>\n",
       "      <td> 27-FEB-16</td>\n",
       "      <td> NaN</td>\n",
       "      <td> NaN</td>\n",
       "      <td> * EARMARKED CONTRIBUTION: SEE BELOW</td>\n",
       "      <td> SA17A</td>\n",
       "      <td> 1056899</td>\n",
       "      <td> VPF7BKJRP03</td>\n",
       "      <td> P2016</td>\n",
       "      <td>NaN</td>\n",
       "    </tr>\n",
       "    <tr>\n",
       "      <th>C00577130</th>\n",
       "      <td> P60007168</td>\n",
       "      <td> Sanders, Bernard</td>\n",
       "      <td>   TURNER, NICK</td>\n",
       "      <td> LA CROSSE</td>\n",
       "      <td> WI</td>\n",
       "      <td> 546032500</td>\n",
       "      <td>                   MARKETSHARP SOFTWARE</td>\n",
       "      <td>            SOFTWARE ENGINEER</td>\n",
       "      <td> 27</td>\n",
       "      <td> 26-FEB-16</td>\n",
       "      <td> NaN</td>\n",
       "      <td> NaN</td>\n",
       "      <td> * EARMARKED CONTRIBUTION: SEE BELOW</td>\n",
       "      <td> SA17A</td>\n",
       "      <td> 1056899</td>\n",
       "      <td> VPF7BKNCKC3</td>\n",
       "      <td> P2016</td>\n",
       "      <td>NaN</td>\n",
       "    </tr>\n",
       "    <tr>\n",
       "      <th>C00577130</th>\n",
       "      <td> P60007168</td>\n",
       "      <td> Sanders, Bernard</td>\n",
       "      <td>   TURNER, NICK</td>\n",
       "      <td> LA CROSSE</td>\n",
       "      <td> WI</td>\n",
       "      <td> 546032500</td>\n",
       "      <td>                   MARKETSHARP SOFTWARE</td>\n",
       "      <td>            SOFTWARE ENGINEER</td>\n",
       "      <td> 50</td>\n",
       "      <td> 26-FEB-16</td>\n",
       "      <td> NaN</td>\n",
       "      <td> NaN</td>\n",
       "      <td> * EARMARKED CONTRIBUTION: SEE BELOW</td>\n",
       "      <td> SA17A</td>\n",
       "      <td> 1056899</td>\n",
       "      <td> VPF7BKND3G9</td>\n",
       "      <td> P2016</td>\n",
       "      <td>NaN</td>\n",
       "    </tr>\n",
       "    <tr>\n",
       "      <th>C00577130</th>\n",
       "      <td> P60007168</td>\n",
       "      <td> Sanders, Bernard</td>\n",
       "      <td> DREWERY, CRAIG</td>\n",
       "      <td>  WAUKESHA</td>\n",
       "      <td> WI</td>\n",
       "      <td> 531882890</td>\n",
       "      <td>                          SIGMA ALDRICH</td>\n",
       "      <td> QUALITY ASSURANCE SPECIALIST</td>\n",
       "      <td> 15</td>\n",
       "      <td> 29-FEB-16</td>\n",
       "      <td> NaN</td>\n",
       "      <td> NaN</td>\n",
       "      <td> * EARMARKED CONTRIBUTION: SEE BELOW</td>\n",
       "      <td> SA17A</td>\n",
       "      <td> 1056899</td>\n",
       "      <td> VPF7BK6CB32</td>\n",
       "      <td> P2016</td>\n",
       "      <td>NaN</td>\n",
       "    </tr>\n",
       "    <tr>\n",
       "      <th>C00577130</th>\n",
       "      <td> P60007168</td>\n",
       "      <td> Sanders, Bernard</td>\n",
       "      <td> DREWERY, CRAIG</td>\n",
       "      <td>  WAUKESHA</td>\n",
       "      <td> WI</td>\n",
       "      <td> 531882890</td>\n",
       "      <td>                          SIGMA ALDRICH</td>\n",
       "      <td> QUALITY ASSURANCE SPECIALIST</td>\n",
       "      <td> 35</td>\n",
       "      <td> 29-FEB-16</td>\n",
       "      <td> NaN</td>\n",
       "      <td> NaN</td>\n",
       "      <td> * EARMARKED CONTRIBUTION: SEE BELOW</td>\n",
       "      <td> SA17A</td>\n",
       "      <td> 1056899</td>\n",
       "      <td> VPF7BK9V1H6</td>\n",
       "      <td> P2016</td>\n",
       "      <td>NaN</td>\n",
       "    </tr>\n",
       "  </tbody>\n",
       "</table>\n",
       "</div>"
      ],
      "text/plain": [
       "             cmte_id           cand_id         cand_nm  contbr_nm contbr_city  \\\n",
       "C00577130  P60007168  Sanders, Bernard   WELLS, CONNIE   FRANKLIN          WI   \n",
       "C00577130  P60007168  Sanders, Bernard    TURNER, NICK  LA CROSSE          WI   \n",
       "C00577130  P60007168  Sanders, Bernard    TURNER, NICK  LA CROSSE          WI   \n",
       "C00577130  P60007168  Sanders, Bernard  DREWERY, CRAIG   WAUKESHA          WI   \n",
       "C00577130  P60007168  Sanders, Bernard  DREWERY, CRAIG   WAUKESHA          WI   \n",
       "\n",
       "           contbr_st                              contbr_zip  \\\n",
       "C00577130  531328576  INTERNATIONAL FOUNDATION OF EMPLOYEE B   \n",
       "C00577130  546032500                    MARKETSHARP SOFTWARE   \n",
       "C00577130  546032500                    MARKETSHARP SOFTWARE   \n",
       "C00577130  531882890                           SIGMA ALDRICH   \n",
       "C00577130  531882890                           SIGMA ALDRICH   \n",
       "\n",
       "                        contbr_employer  contbr_occupation contb_receipt_amt  \\\n",
       "C00577130          EXECUTIVE MANAGEMENT                 50         27-FEB-16   \n",
       "C00577130             SOFTWARE ENGINEER                 27         26-FEB-16   \n",
       "C00577130             SOFTWARE ENGINEER                 50         26-FEB-16   \n",
       "C00577130  QUALITY ASSURANCE SPECIALIST                 15         29-FEB-16   \n",
       "C00577130  QUALITY ASSURANCE SPECIALIST                 35         29-FEB-16   \n",
       "\n",
       "          contb_receipt_dt receipt_desc                              memo_cd  \\\n",
       "C00577130              NaN          NaN  * EARMARKED CONTRIBUTION: SEE BELOW   \n",
       "C00577130              NaN          NaN  * EARMARKED CONTRIBUTION: SEE BELOW   \n",
       "C00577130              NaN          NaN  * EARMARKED CONTRIBUTION: SEE BELOW   \n",
       "C00577130              NaN          NaN  * EARMARKED CONTRIBUTION: SEE BELOW   \n",
       "C00577130              NaN          NaN  * EARMARKED CONTRIBUTION: SEE BELOW   \n",
       "\n",
       "          memo_text  form_tp     file_num tran_id  election_tp  \n",
       "C00577130     SA17A  1056899  VPF7BKJRP03   P2016          NaN  \n",
       "C00577130     SA17A  1056899  VPF7BKNCKC3   P2016          NaN  \n",
       "C00577130     SA17A  1056899  VPF7BKND3G9   P2016          NaN  \n",
       "C00577130     SA17A  1056899  VPF7BK6CB32   P2016          NaN  \n",
       "C00577130     SA17A  1056899  VPF7BK9V1H6   P2016          NaN  "
      ]
     },
     "execution_count": 4,
     "metadata": {},
     "output_type": "execute_result"
    }
   ],
   "source": [
    "df.head()\n",
    "# contbr_occupation = donation amt\n",
    "# contb_receipt_amt = donation date"
   ]
  },
  {
   "cell_type": "code",
   "execution_count": 5,
   "metadata": {
    "collapsed": false
   },
   "outputs": [
    {
     "data": {
      "text/plain": [
       "C00577130    Sanders, Bernard\n",
       "C00577130    Sanders, Bernard\n",
       "C00577130    Sanders, Bernard\n",
       "C00577130    Sanders, Bernard\n",
       "C00577130    Sanders, Bernard\n",
       "Name: cand_id, dtype: object"
      ]
     },
     "execution_count": 5,
     "metadata": {},
     "output_type": "execute_result"
    }
   ],
   "source": [
    "df.cand_id.head()"
   ]
  },
  {
   "cell_type": "code",
   "execution_count": 6,
   "metadata": {
    "collapsed": true
   },
   "outputs": [],
   "source": [
    "df2 = pd.DataFrame({'date' : df.contb_receipt_amt, 'amt' : df.contbr_occupation})"
   ]
  },
  {
   "cell_type": "code",
   "execution_count": 7,
   "metadata": {
    "collapsed": false
   },
   "outputs": [],
   "source": [
    "df3 = df2.sort(['date'])"
   ]
  },
  {
   "cell_type": "code",
   "execution_count": 8,
   "metadata": {
    "collapsed": false
   },
   "outputs": [
    {
     "data": {
      "text/html": [
       "<div style=\"max-height:1000px;max-width:1500px;overflow:auto;\">\n",
       "<table border=\"1\" class=\"dataframe\">\n",
       "  <thead>\n",
       "    <tr style=\"text-align: right;\">\n",
       "      <th></th>\n",
       "      <th>amt</th>\n",
       "      <th>date</th>\n",
       "      <th>cum_amt</th>\n",
       "    </tr>\n",
       "  </thead>\n",
       "  <tbody>\n",
       "    <tr>\n",
       "      <th>C00577130</th>\n",
       "      <td> 100.00</td>\n",
       "      <td> 01-AUG-15</td>\n",
       "      <td> 100.00</td>\n",
       "    </tr>\n",
       "    <tr>\n",
       "      <th>C00577130</th>\n",
       "      <td>  25.00</td>\n",
       "      <td> 01-AUG-15</td>\n",
       "      <td> 125.00</td>\n",
       "    </tr>\n",
       "    <tr>\n",
       "      <th>C00577130</th>\n",
       "      <td>   5.00</td>\n",
       "      <td> 01-AUG-15</td>\n",
       "      <td> 130.00</td>\n",
       "    </tr>\n",
       "    <tr>\n",
       "      <th>C00577130</th>\n",
       "      <td> 191.05</td>\n",
       "      <td> 01-AUG-15</td>\n",
       "      <td> 321.05</td>\n",
       "    </tr>\n",
       "    <tr>\n",
       "      <th>C00577130</th>\n",
       "      <td> 314.88</td>\n",
       "      <td> 01-AUG-15</td>\n",
       "      <td> 635.93</td>\n",
       "    </tr>\n",
       "  </tbody>\n",
       "</table>\n",
       "</div>"
      ],
      "text/plain": [
       "              amt       date  cum_amt\n",
       "C00577130  100.00  01-AUG-15   100.00\n",
       "C00577130   25.00  01-AUG-15   125.00\n",
       "C00577130    5.00  01-AUG-15   130.00\n",
       "C00577130  191.05  01-AUG-15   321.05\n",
       "C00577130  314.88  01-AUG-15   635.93"
      ]
     },
     "execution_count": 8,
     "metadata": {},
     "output_type": "execute_result"
    }
   ],
   "source": [
    "df3['cum_amt'] = df3.amt.cumsum()\n",
    "df3.head()"
   ]
  },
  {
   "cell_type": "code",
   "execution_count": 9,
   "metadata": {
    "collapsed": false
   },
   "outputs": [
    {
     "data": {
      "text/html": [
       "<div style=\"max-height:1000px;max-width:1500px;overflow:auto;\">\n",
       "<table border=\"1\" class=\"dataframe\">\n",
       "  <thead>\n",
       "    <tr style=\"text-align: right;\">\n",
       "      <th></th>\n",
       "      <th>amt</th>\n",
       "      <th>date</th>\n",
       "      <th>cum_amt</th>\n",
       "      <th>idx_date</th>\n",
       "    </tr>\n",
       "  </thead>\n",
       "  <tbody>\n",
       "    <tr>\n",
       "      <th>C00577130</th>\n",
       "      <td> 100.00</td>\n",
       "      <td> 01-AUG-15</td>\n",
       "      <td> 100.00</td>\n",
       "      <td> 0</td>\n",
       "    </tr>\n",
       "    <tr>\n",
       "      <th>C00577130</th>\n",
       "      <td>  25.00</td>\n",
       "      <td> 01-AUG-15</td>\n",
       "      <td> 125.00</td>\n",
       "      <td> 0</td>\n",
       "    </tr>\n",
       "    <tr>\n",
       "      <th>C00577130</th>\n",
       "      <td>   5.00</td>\n",
       "      <td> 01-AUG-15</td>\n",
       "      <td> 130.00</td>\n",
       "      <td> 0</td>\n",
       "    </tr>\n",
       "    <tr>\n",
       "      <th>C00577130</th>\n",
       "      <td> 191.05</td>\n",
       "      <td> 01-AUG-15</td>\n",
       "      <td> 321.05</td>\n",
       "      <td> 0</td>\n",
       "    </tr>\n",
       "    <tr>\n",
       "      <th>C00577130</th>\n",
       "      <td> 314.88</td>\n",
       "      <td> 01-AUG-15</td>\n",
       "      <td> 635.93</td>\n",
       "      <td> 0</td>\n",
       "    </tr>\n",
       "  </tbody>\n",
       "</table>\n",
       "</div>"
      ],
      "text/plain": [
       "              amt       date  cum_amt  idx_date\n",
       "C00577130  100.00  01-AUG-15   100.00         0\n",
       "C00577130   25.00  01-AUG-15   125.00         0\n",
       "C00577130    5.00  01-AUG-15   130.00         0\n",
       "C00577130  191.05  01-AUG-15   321.05         0\n",
       "C00577130  314.88  01-AUG-15   635.93         0"
      ]
     },
     "execution_count": 9,
     "metadata": {},
     "output_type": "execute_result"
    }
   ],
   "source": [
    "df_len = len(df3.index)\n",
    "bucket_size = int(df_len/1000)\n",
    "idx_date = []\n",
    "idx = 0\n",
    "curr_date = df3.date[0]\n",
    "for i in df3.date:\n",
    "    if i != curr_date:\n",
    "        curr_date = i\n",
    "        idx += 1\n",
    "    idx_date.append(idx)\n",
    "df3['idx_date'] = idx_date\n",
    "df3.head()"
   ]
  },
  {
   "cell_type": "code",
   "execution_count": 10,
   "metadata": {
    "collapsed": false
   },
   "outputs": [
    {
     "data": {
      "text/html": [
       "<div style=\"max-height:1000px;max-width:1500px;overflow:auto;\">\n",
       "<table border=\"1\" class=\"dataframe\">\n",
       "  <thead>\n",
       "    <tr style=\"text-align: right;\">\n",
       "      <th></th>\n",
       "      <th>amt</th>\n",
       "      <th>cum_amt</th>\n",
       "      <th>date_idx</th>\n",
       "    </tr>\n",
       "  </thead>\n",
       "  <tbody>\n",
       "    <tr>\n",
       "      <th>0</th>\n",
       "      <td> 848.40</td>\n",
       "      <td>  4205.64</td>\n",
       "      <td> 0</td>\n",
       "    </tr>\n",
       "    <tr>\n",
       "      <th>1</th>\n",
       "      <td> 311.00</td>\n",
       "      <td>  9065.00</td>\n",
       "      <td> 1</td>\n",
       "    </tr>\n",
       "    <tr>\n",
       "      <th>2</th>\n",
       "      <td> 505.00</td>\n",
       "      <td> 13424.00</td>\n",
       "      <td> 1</td>\n",
       "    </tr>\n",
       "    <tr>\n",
       "      <th>3</th>\n",
       "      <td> 408.45</td>\n",
       "      <td> 16923.15</td>\n",
       "      <td> 1</td>\n",
       "    </tr>\n",
       "    <tr>\n",
       "      <th>4</th>\n",
       "      <td> 298.60</td>\n",
       "      <td> 19099.30</td>\n",
       "      <td> 2</td>\n",
       "    </tr>\n",
       "  </tbody>\n",
       "</table>\n",
       "</div>"
      ],
      "text/plain": [
       "      amt   cum_amt  date_idx\n",
       "0  848.40   4205.64         0\n",
       "1  311.00   9065.00         1\n",
       "2  505.00  13424.00         1\n",
       "3  408.45  16923.15         1\n",
       "4  298.60  19099.30         2"
      ]
     },
     "execution_count": 10,
     "metadata": {},
     "output_type": "execute_result"
    }
   ],
   "source": [
    "compressed_idx = []\n",
    "compressed_amt = []\n",
    "compressed_cum_amt = []\n",
    "i = 0\n",
    "for index, row in df3.iterrows():\n",
    "    if i % bucket_size == 0:\n",
    "        compressed_idx.append(row['idx_date'])\n",
    "        compressed_amt.append(row['amt'])\n",
    "        compressed_cum_amt.append(row['cum_amt'])\n",
    "    compressed_amt[-1] += row['amt']\n",
    "    compressed_cum_amt[-1] += row['cum_amt']\n",
    "    i += 1\n",
    "\n",
    "df4 = pd.DataFrame({'date_idx' : compressed_idx, 'amt' : compressed_amt, 'cum_amt' : compressed_cum_amt})\n",
    "df4.head()"
   ]
  },
  {
   "cell_type": "code",
   "execution_count": 11,
   "metadata": {
    "collapsed": false
   },
   "outputs": [
    {
     "data": {
      "text/plain": [
       "<matplotlib.axes.AxesSubplot at 0x7f07fef286d0>"
      ]
     },
     "execution_count": 11,
     "metadata": {},
     "output_type": "execute_result"
    },
    {
     "data": {
      "image/png": "[encoded data removed]",
      "text/plain": [
       "<matplotlib.figure.Figure at 0x7f07fef28310>"
      ]
     },
     "metadata": {},
     "output_type": "display_data"
    }
   ],
   "source": [
    "df4.plot(x='date_idx', y='amt', style='o')"
   ]
  },
  {
   "cell_type": "code",
   "execution_count": 12,
   "metadata": {
    "collapsed": false
   },
   "outputs": [
    {
     "data": {
      "text/plain": [
       "<matplotlib.axes.AxesSubplot at 0x7f07fee371d0>"
      ]
     },
     "execution_count": 12,
     "metadata": {},
     "output_type": "execute_result"
    },
    {
     "data": {
      "image/png": "[encoded data removed]",
      "text/plain": [
       "<matplotlib.figure.Figure at 0x7f07feefe550>"
      ]
     },
     "metadata": {},
     "output_type": "display_data"
    }
   ],
   "source": [
    "df4.plot(x='date_idx', y='cum_amt', style='o')"
   ]
  },
  {
   "cell_type": "code",
   "execution_count": 13,
   "metadata": {
    "collapsed": false
   },
   "outputs": [
    {
     "data": {
      "text/plain": [
       "<matplotlib.axes.AxesSubplot at 0x7f07fecd9210>"
      ]
     },
     "execution_count": 13,
     "metadata": {},
     "output_type": "execute_result"
    },
    {
     "data": {
      "image/png": "[encoded data removed]",
      "text/plain": [
       "<matplotlib.figure.Figure at 0x7f07fecc87d0>"
      ]
     },
     "metadata": {},
     "output_type": "display_data"
    }
   ],
   "source": [
    "df4.plot(x='date_idx', y='amt', style='o')"
   ]
  },
  {
   "cell_type": "code",
   "execution_count": 14,
   "metadata": {
    "collapsed": false
   },
   "outputs": [
    {
     "data": {
      "text/plain": [
       "<matplotlib.axes.AxesSubplot at 0x7f07febb83d0>"
      ]
     },
     "execution_count": 14,
     "metadata": {},
     "output_type": "execute_result"
    },
    {
     "data": {
      "image/png": "[encoded data removed]",
      "text/plain": [
       "<matplotlib.figure.Figure at 0x7f07fec478d0>"
      ]
     },
     "metadata": {},
     "output_type": "display_data"
    }
   ],
   "source": [
    "df4.plot(x='date_idx', y='cum_amt', style='o')"
   ]
  },
  {
   "cell_type": "code",
   "execution_count": null,
   "metadata": {
    "collapsed": true
   },
   "outputs": [],
   "source": []
  }
 ],
 "metadata": {
  "kernelspec": {
   "display_name": "Python 2",
   "language": "python",
   "name": "python2"
  },
  "language_info": {
   "codemirror_mode": {
    "name": "ipython",
    "version": 2
   },
   "file_extension": ".py",
   "mimetype": "text/x-python",
   "name": "python",
   "nbconvert_exporter": "python",
   "pygments_lexer": "ipython2",
   "version": "2.7.6"
  }
 },
 "nbformat": 4,
 "nbformat_minor": 0
}
