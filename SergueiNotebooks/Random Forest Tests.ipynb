{
 "cells": [
  {
   "cell_type": "code",
   "execution_count": 20,
   "metadata": {
    "collapsed": true
   },
   "outputs": [],
   "source": [
    "%matplotlib inline\n",
    "\n",
    "import matplotlib\n",
    "import matplotlib.pyplot as plt\n",
    "\n",
    "import pandas as pd\n",
    "\n",
    "import numpy as np\n",
    "import math\n",
    "\n",
    "from sklearn.datasets import load_boston\n",
    "from sklearn.ensemble import RandomForestRegressor\n",
    "from sklearn.pipeline import Pipeline\n",
    "from sklearn.preprocessing import Imputer\n",
    "from sklearn.cross_validation import cross_val_score\n",
    "\n",
    "from collections import defaultdict\n",
    "import cPickle\n",
    "\n",
    "import csv"
   ]
  },
  {
   "cell_type": "markdown",
   "metadata": {},
   "source": [
    "### Data Processing"
   ]
  },
  {
   "cell_type": "markdown",
   "metadata": {},
   "source": [
    "#### Prelim Vars (Edit when running)"
   ]
  },
  {
   "cell_type": "markdown",
   "metadata": {},
   "source": [
    "**Preconditions**:\n",
    "\n",
    "State format: 2 letters, both caps (ie 'NY')\n",
    "\n",
    "Candidate format: Last name, capital letter\n",
    "\n",
    "Zip file name format: ../CSVs/[state]zips.csv\n",
    "\n",
    "Contribution file name format: ../CSVs/[candidate]-[state].csv\n",
    "\n",
    "Expenditure file name format: ../CSVs/[candidate]-Expenditures.csv"
   ]
  },
  {
   "cell_type": "code",
   "execution_count": 21,
   "metadata": {
    "collapsed": true
   },
   "outputs": [],
   "source": [
    "state = 'NY'\n",
    "candidate = 'Clinton'"
   ]
  },
  {
   "cell_type": "markdown",
   "metadata": {},
   "source": [
    "#### The full function"
   ]
  },
  {
   "cell_type": "code",
   "execution_count": 80,
   "metadata": {
    "collapsed": true
   },
   "outputs": [],
   "source": [
    "# Return dictionary of zip codes to counties\n",
    "def getZips(state):\n",
    "    zipToCounty = defaultdict(int)\n",
    "\n",
    "    with open('../CSVs/' + state + 'zips.csv', 'rb') as f:\n",
    "        reader = csv.reader(f)\n",
    "        for row in reader:\n",
    "            zipToCounty[row[0]] = row[1]\n",
    "    return zipToCounty\n",
    "\n",
    "# Return dataframe of contributions for a candidate in a state\n",
    "def getContributions(state, candidate):\n",
    "    # Build new dataframe, sort by date, and add cumulative column\n",
    "    df = pd.read_csv('../CSVs/' + candidate + '-' + state + '.csv')\n",
    "    df2 = pd.DataFrame({'date' : df.contb_receipt_amt, 'amt' : df.contbr_occupation, 'zip9' : df.contbr_st})\n",
    "    df3 = df2.sort(['date'])\n",
    "    df3['cum_amt'] = df3.amt.cumsum()\n",
    "    return df3\n",
    "\n",
    "def getExpenditures(state, candidate):\n",
    "    df = pd.read_csv('../CSVs/' + candidate + '-Expenditures.csv')\n",
    "    df = df[df['recipient_city'] == state]\n",
    "    df2 = pd.DataFrame({'date' : df.disb_amt, 'amt' : df.recipient_nm, 'zip9' : df.recipient_st})\n",
    "    df3 = df2.sort(['date'])\n",
    "    df3['cum_amt'] = df3.amt.cumsum()\n",
    "    return df3\n",
    "\n",
    "# Clean up the dataframe\n",
    "def parseFinances(df):\n",
    "    # Index the dates numerically\n",
    "    df_len = len(df.index)\n",
    "    bucket_size = int(df_len/1000)\n",
    "    idx_date = []\n",
    "    idx = 0\n",
    "    curr_date = df.date[0]\n",
    "    for i in df.date:\n",
    "        if i != curr_date:\n",
    "            curr_date = i\n",
    "            idx += 1\n",
    "        idx_date.append(idx)\n",
    "    df['idx_date'] = idx_date\n",
    "\n",
    "    # Transform zip data to county data\n",
    "    zipToCounty = getZips(state)\n",
    "    zip6 = []\n",
    "    county = []    \n",
    "    for i in df.zip9:\n",
    "        if not math.isnan(float(i)):\n",
    "            z = str(int(i))\n",
    "            if len(str(int(i))) > 5:\n",
    "                z = z[:5]\n",
    "            zip6.append(z)\n",
    "            while not zipToCounty[z]:\n",
    "                intZ = int(z)\n",
    "                intZ -= 1\n",
    "                z = str(intZ)\n",
    "                if intZ < 10000:\n",
    "                    zipToCounty[z] = \"None\"\n",
    "            county.append(zipToCounty[z])\n",
    "        else:\n",
    "            zip6.append(\"00000\")\n",
    "            county.append(\"None\")\n",
    "    df['zip6'] = zip6\n",
    "    df['county'] = county\n",
    "    return df\n",
    "\n",
    "# Features are [avg contribution, total raised, total contributions, {those 3 for the last 14 days}]\n",
    "def addContributionsToFF(state, candidate, FF, counties, inclTime=True, timeRange=14):\n",
    "    candidateFinances = parseFinances(getContributions(state, candidate))\n",
    "    candidateByCounty = candidateFinances.groupby('county')\n",
    "    countyAggregates = candidateByCounty['amt'].agg(['mean', 'sum', 'count'])\n",
    "    numCounties = len(counties)\n",
    "    \n",
    "    for i in range(numCounties):\n",
    "        FF[i] += [countyAggregates['mean'][i], countyAggregates['sum'][i], countyAggregates['count'][i]]\n",
    "            \n",
    "    if inclTime:\n",
    "        candidateByDate = candidateFinances.groupby('idx_date')\n",
    "        endDate = list(candidateByDate.groups)[-1]\n",
    "        startDate = endDate - timeRange\n",
    "        for i in range(startDate, endDate):\n",
    "            cbdByCounty = candidateByDate.get_group(i).groupby('county')\n",
    "            timeAggregates = cbdByCounty['amt'].agg(['mean', 'sum', 'count'])\n",
    "            for j in range(numCounties):\n",
    "                if counties[j] in timeAggregates.index:\n",
    "                    FF[j] += [timeAggregates['mean'][counties[j]], timeAggregates['sum'][counties[j]], timeAggregates['count'][counties[j]]]\n",
    "                else:\n",
    "                    FF[j] += [0, 0, 0]\n",
    "\n",
    "# Features are [avg contribution, total raised, total contributions, {those 3 for the last 14 days}]\n",
    "def addExpendituresToFF(state, candidate, FF, counties, inclTime=True, timeRange=14):\n",
    "    candidateFinances = parseFinances(getExpenditures(state, candidate))\n",
    "    candidateByCounty = candidateFinances.groupby('county')\n",
    "    countyAggregates = candidateByCounty['amt'].agg(['mean', 'sum', 'count'])\n",
    "    numCounties = len(counties)\n",
    "    \n",
    "    for j in range(numCounties):\n",
    "        if counties[j] in countyAggregates.index:\n",
    "            FF[j] += [countyAggregates['mean'][counties[j]], countyAggregates['sum'][counties[j]], countyAggregates['count'][counties[j]]]\n",
    "        else:\n",
    "            FF[j] += [0, 0, 0]\n",
    "            \n",
    "    if inclTime:\n",
    "        candidateByDate = candidateFinances.groupby('idx_date')\n",
    "        endDate = list(candidateByDate.groups)[-1]\n",
    "        startDate = endDate - timeRange\n",
    "        for i in range(startDate, endDate):\n",
    "            cbdByCounty = candidateByDate.get_group(i).groupby('county')\n",
    "            timeAggregates = cbdByCounty['amt'].agg(['mean', 'sum', 'count'])\n",
    "            for j in range(numCounties):\n",
    "                if counties[j] in timeAggregates.index:\n",
    "                    FF[j] += [timeAggregates['mean'][counties[j]], timeAggregates['sum'][counties[j]], timeAggregates['count'][counties[j]]]\n",
    "                else:\n",
    "                    FF[j] += [0, 0, 0]\n",
    "    \n",
    "# Takes state and list of candidates and builds featureFrame\n",
    "def buildFinanceFeatureFrame(state, candidates, X=[], inclTime=True, timeRange=14):\n",
    "    tempFinances = parseFinances(getContributions(state, candidates[0]))\n",
    "    counties = [tup[0] for tup in list(tempFinances.groupby('county'))]\n",
    "    numCounties = len(counties)\n",
    "    if not X:\n",
    "        X = [[] for i in range(numCounties)]\n",
    "    \n",
    "    for candidate in candidates:\n",
    "        addContributionsToFF(state, candidate, X, counties, inclTime=inclTime, timeRange=timeRange)\n",
    "#         addExpendituresToFF(state, candidate, X, counties, inclTime=inclTime, timeRange=timeRange)\n",
    "    \n",
    "    if \"None\" in counties:\n",
    "        X.pop(counties.index(\"None\"))\n",
    "    return X"
   ]
  },
  {
   "cell_type": "code",
   "execution_count": 63,
   "metadata": {
    "collapsed": true
   },
   "outputs": [],
   "source": [
    "def buildTwitterFeatureFrame(state, candidates, X=[]):\n",
    "    with open('../pickles/' + state + '_feature_df.p', 'rb') as f:\n",
    "        twitterData = cPickle.load(f)\n",
    "\n",
    "    colns = list(twitterData.columns.values)\n",
    "    ids = []\n",
    "    for c in candidates:\n",
    "        ids += [i for i, coln in enumerate(colns) if c in coln]\n",
    "\n",
    "    if not X:\n",
    "        X = [[] for i in range(len(twitterData))]\n",
    "    iterIdx= 0\n",
    "    for index, row in twitterData.iterrows():\n",
    "        X[iterIdx] += list(row[ids].values)\n",
    "        iterIdx += 1\n",
    "    return X"
   ]
  },
  {
   "cell_type": "code",
   "execution_count": 75,
   "metadata": {
    "collapsed": true
   },
   "outputs": [],
   "source": [
    "def buildSmallPollFF(numCounties, X=[]):\n",
    "    if not X:\n",
    "        X = [[] for i in range(numCounties)]\n",
    "    tbl = []\n",
    "    with open('../CSVs/NyPrimaryPollsD.csv', 'rb') as f:\n",
    "        reader = csv.reader(f)\n",
    "        for row in reader:\n",
    "            # Remove LVs\n",
    "            if row[1]:\n",
    "                row[1] = row[1][:-3]\n",
    "            tbl.append(row)\n",
    "    X1 = map(float, tbl[1][3:])\n",
    "    X1 = [X[i] += X1 for i in range(numCounties)]\n",
    "    return X1\n",
    "\n",
    "def buildBigPollFF(numCounties, X=[]):\n",
    "    tbl = []\n",
    "    with open('../CSVs/NyPrimaryPollsD.csv', 'rb') as f:\n",
    "        reader = csv.reader(f)\n",
    "        for row in reader:\n",
    "            # Remove LVs\n",
    "            if row[1]:\n",
    "                row[1] = row[1][:-3]\n",
    "            tbl.append(row)\n",
    "    X2 = [map(float, t[1:]) for t in tbl[3:]]\n",
    "    X2 = [i for arr in X2 for i in arr]\n",
    "    X2 = [X2 for i in range(numCounties)]\n",
    "    return X2"
   ]
  },
  {
   "cell_type": "code",
   "execution_count": 64,
   "metadata": {
    "collapsed": true
   },
   "outputs": [],
   "source": [
    "def buildTargetDems(state):\n",
    "    y = []\n",
    "    with open('../CSVs/' + state + 'PrimaryResultsRaw.csv', 'rb') as f:\n",
    "        reader = csv.reader(f)\n",
    "        for i, row in enumerate(reader):\n",
    "            if not i:\n",
    "                continue\n",
    "            percent = float(row[1].replace(',', ''))/(int(row[1].replace(',', '')) + int(row[2].replace(',', '')))\n",
    "            y.append(percent)\n",
    "    return y\n",
    "\n",
    "def buildTargetReps(state):\n",
    "    y = []\n",
    "    with open('../CSVs/' + state + 'PrimaryResultsRaw.csv', 'rb') as f:\n",
    "        reader = csv.reader(f)\n",
    "        for i, row in enumerate(reader):\n",
    "            if not i:\n",
    "                continue\n",
    "            percent1 = float(row[3].replace(',', ''))/(int(row[3].replace(',', '')) + \\\n",
    "                                                       int(row[4].replace(',', '')) + \\\n",
    "                                                       int(row[5].replace(',', '')))\n",
    "            percent2 = float(row[4].replace(',', ''))/(int(row[3].replace(',', '')) + \\\n",
    "                                                       int(row[4].replace(',', '')) + \\\n",
    "                                                       int(row[5].replace(',', '')))\n",
    "            y.append([percent1, percent2])\n",
    "    return y"
   ]
  },
  {
   "cell_type": "code",
   "execution_count": 76,
   "metadata": {
    "collapsed": false,
    "scrolled": true
   },
   "outputs": [
    {
     "ename": "NameError",
     "evalue": "global name 'numCounties' is not defined",
     "output_type": "error",
     "traceback": [
      "\u001b[1;31m---------------------------------------------------------------------------\u001b[0m",
      "\u001b[1;31mNameError\u001b[0m                                 Traceback (most recent call last)",
      "\u001b[1;32m<ipython-input-76-92f1369ec018>\u001b[0m in \u001b[0;36m<module>\u001b[1;34m()\u001b[0m\n\u001b[0;32m      1\u001b[0m \u001b[1;31m# X = buildFinanceFeatureFrame('NY', ['Clinton', 'Sanders'], inclTime=True)\u001b[0m\u001b[1;33m\u001b[0m\u001b[1;33m\u001b[0m\u001b[0m\n\u001b[0;32m      2\u001b[0m \u001b[1;31m# X = buildTwitterFeatureFrame('NY', ['Clinton', 'Sanders'], X = X)\u001b[0m\u001b[1;33m\u001b[0m\u001b[1;33m\u001b[0m\u001b[0m\n\u001b[1;32m----> 3\u001b[1;33m \u001b[0mX\u001b[0m \u001b[1;33m=\u001b[0m \u001b[0mbuildSmallPollFF\u001b[0m\u001b[1;33m(\u001b[0m\u001b[1;33m)\u001b[0m\u001b[1;33m\u001b[0m\u001b[0m\n\u001b[0m\u001b[0;32m      4\u001b[0m \u001b[1;31m# X = buildBigPollFF()\u001b[0m\u001b[1;33m\u001b[0m\u001b[1;33m\u001b[0m\u001b[0m\n\u001b[0;32m      5\u001b[0m \u001b[0my\u001b[0m \u001b[1;33m=\u001b[0m \u001b[0mbuildTarget\u001b[0m\u001b[1;33m(\u001b[0m\u001b[1;34m'NY'\u001b[0m\u001b[1;33m)\u001b[0m\u001b[1;33m\u001b[0m\u001b[0m\n",
      "\u001b[1;32m<ipython-input-75-61279a2f14e0>\u001b[0m in \u001b[0;36mbuildSmallPollFF\u001b[1;34m()\u001b[0m\n\u001b[0;32m      9\u001b[0m             \u001b[0mtbl\u001b[0m\u001b[1;33m.\u001b[0m\u001b[0mappend\u001b[0m\u001b[1;33m(\u001b[0m\u001b[0mrow\u001b[0m\u001b[1;33m)\u001b[0m\u001b[1;33m\u001b[0m\u001b[0m\n\u001b[0;32m     10\u001b[0m     \u001b[0mX1\u001b[0m \u001b[1;33m=\u001b[0m \u001b[0mmap\u001b[0m\u001b[1;33m(\u001b[0m\u001b[0mfloat\u001b[0m\u001b[1;33m,\u001b[0m \u001b[0mtbl\u001b[0m\u001b[1;33m[\u001b[0m\u001b[1;36m1\u001b[0m\u001b[1;33m]\u001b[0m\u001b[1;33m[\u001b[0m\u001b[1;36m3\u001b[0m\u001b[1;33m:\u001b[0m\u001b[1;33m]\u001b[0m\u001b[1;33m)\u001b[0m\u001b[1;33m\u001b[0m\u001b[0m\n\u001b[1;32m---> 11\u001b[1;33m     \u001b[0mX1\u001b[0m \u001b[1;33m=\u001b[0m \u001b[1;33m[\u001b[0m\u001b[0mX1\u001b[0m \u001b[1;32mfor\u001b[0m \u001b[0mi\u001b[0m \u001b[1;32min\u001b[0m \u001b[0mrange\u001b[0m\u001b[1;33m(\u001b[0m\u001b[0mnumCounties\u001b[0m\u001b[1;33m)\u001b[0m\u001b[1;33m]\u001b[0m\u001b[1;33m\u001b[0m\u001b[0m\n\u001b[0m\u001b[0;32m     12\u001b[0m     \u001b[1;32mreturn\u001b[0m \u001b[0mX1\u001b[0m\u001b[1;33m\u001b[0m\u001b[0m\n\u001b[0;32m     13\u001b[0m \u001b[1;33m\u001b[0m\u001b[0m\n",
      "\u001b[1;31mNameError\u001b[0m: global name 'numCounties' is not defined"
     ]
    }
   ],
   "source": [
    "# X = buildFinanceFeatureFrame('NY', ['Clinton', 'Sanders'], inclTime=True)\n",
    "# X = buildTwitterFeatureFrame('NY', ['Clinton', 'Sanders'], X = X)\n",
    "X = buildSmallPollFF()\n",
    "# X = buildBigPollFF()\n",
    "y = buildTarget('NY')"
   ]
  },
  {
   "cell_type": "code",
   "execution_count": 71,
   "metadata": {
    "collapsed": false
   },
   "outputs": [],
   "source": [
    "def testRandomForest(X, y):\n",
    "    rng = np.random.RandomState(0)\n",
    "\n",
    "    # dataset = load_boston()\n",
    "    # X_full, y_full = dataset.data, dataset.target\n",
    "    X_full = np.array(X)\n",
    "    y_full = np.array(y)\n",
    "    n_samples = X_full.shape[0]\n",
    "    n_features = X_full.shape[1]\n",
    "\n",
    "    # Estimate the score on the entire dataset, with no missing values\n",
    "    estimator = RandomForestRegressor(random_state=0, n_estimators=100)\n",
    "    score = cross_val_score(estimator, X_full, y_full).mean()\n",
    "    print(\"Score with the entire dataset = %.2f\" % score)\n",
    "    return estimator"
   ]
  },
  {
   "cell_type": "code",
   "execution_count": 73,
   "metadata": {
    "collapsed": false
   },
   "outputs": [
    {
     "name": "stdout",
     "output_type": "stream",
     "text": [
      "Score with the entire dataset = -0.49\n"
     ]
    }
   ],
   "source": [
    "estimator = testRandomForest(X, y)"
   ]
  },
  {
   "cell_type": "code",
   "execution_count": 81,
   "metadata": {
    "collapsed": false
   },
   "outputs": [
    {
     "data": {
      "image/png": "[encoded data removed]",
      "text/plain": [
       "<matplotlib.figure.Figure at 0x7f15f98aa750>"
      ]
     },
     "metadata": {},
     "output_type": "display_data"
    }
   ],
   "source": [
    "df = buildFinanceFeatureFrame('NY', ['Clinton', 'Sanders'], inclTime=True)\n",
    "for row in df:\n",
    "    plt.plot(row)\n",
    "plt.show()"
   ]
  },
  {
   "cell_type": "code",
   "execution_count": null,
   "metadata": {
    "collapsed": true
   },
   "outputs": [],
   "source": []
  },
  {
   "cell_type": "code",
   "execution_count": null,
   "metadata": {
    "collapsed": true
   },
   "outputs": [],
   "source": []
  },
  {
   "cell_type": "code",
   "execution_count": null,
   "metadata": {
    "collapsed": true
   },
   "outputs": [],
   "source": []
  },
  {
   "cell_type": "code",
   "execution_count": null,
   "metadata": {
    "collapsed": true
   },
   "outputs": [],
   "source": []
  },
  {
   "cell_type": "markdown",
   "metadata": {},
   "source": [
    "## Below is old scratchwork that has been reformatted nicely above"
   ]
  },
  {
   "cell_type": "markdown",
   "metadata": {},
   "source": [
    "#### Finance Data"
   ]
  },
  {
   "cell_type": "code",
   "execution_count": 5,
   "metadata": {
    "collapsed": false
   },
   "outputs": [],
   "source": [
    "zipToCounty = defaultdict(int)\n",
    "\n",
    "with open('../CSVs/NYzips.csv', 'rb') as f:\n",
    "    reader = csv.reader(f)\n",
    "    for row in reader:\n",
    "        zipToCounty[row[0]] = row[1]"
   ]
  },
  {
   "cell_type": "markdown",
   "metadata": {},
   "source": [
    "#### Clinton"
   ]
  },
  {
   "cell_type": "code",
   "execution_count": 7,
   "metadata": {
    "collapsed": false
   },
   "outputs": [],
   "source": [
    "df = pd.read_csv('../CSVs/Clinton-NY.csv')\n",
    "df2 = pd.DataFrame({'date' : df.contb_receipt_amt, 'amt' : df.contbr_occupation, 'zip9' : df.contbr_st})\n",
    "df3 = df2.sort(['date'])\n",
    "df3['cum_amt'] = df3.amt.cumsum()"
   ]
  },
  {
   "cell_type": "code",
   "execution_count": 69,
   "metadata": {
    "collapsed": false
   },
   "outputs": [],
   "source": [
    "df_len = len(df3.index)\n",
    "bucket_size = int(df_len/1000)\n",
    "idx_date = []\n",
    "idx = 0\n",
    "curr_date = df3.date[0]\n",
    "for i in df3.date:\n",
    "    if i != curr_date:\n",
    "        curr_date = i\n",
    "        idx += 1\n",
    "    idx_date.append(idx)\n",
    "df3['idx_date'] = idx_date"
   ]
  },
  {
   "cell_type": "code",
   "execution_count": 70,
   "metadata": {
    "collapsed": false
   },
   "outputs": [
    {
     "name": "stdout",
     "output_type": "stream",
     "text": [
      "9309.0\n",
      "9309.0\n",
      "9309.0\n"
     ]
    }
   ],
   "source": [
    "zip6 = []\n",
    "county = []\n",
    "for i in df3.zip9:\n",
    "    if not math.isnan(i):\n",
    "        z = str(int(i))\n",
    "        if len(str(int(i))) > 5:\n",
    "            z = z[:5]\n",
    "        zip6.append(z)\n",
    "        while not zipToCounty[z]:\n",
    "            intZ = int(z)\n",
    "            intZ -= 1\n",
    "            z = str(intZ)\n",
    "            if intZ < 10000:\n",
    "                print i\n",
    "                zipToCounty[z] = \"None\"\n",
    "        county.append(zipToCounty[z])\n",
    "    else:\n",
    "        zip6.append(\"00000\")\n",
    "        county.append(\"None\")\n",
    "df3['zip6'] = zip6\n",
    "df3['county'] = county"
   ]
  },
  {
   "cell_type": "code",
   "execution_count": 71,
   "metadata": {
    "collapsed": true
   },
   "outputs": [],
   "source": [
    "clintonFinances = df3"
   ]
  },
  {
   "cell_type": "markdown",
   "metadata": {
    "collapsed": false
   },
   "source": [
    "#### Sanders"
   ]
  },
  {
   "cell_type": "code",
   "execution_count": 72,
   "metadata": {
    "collapsed": false
   },
   "outputs": [
    {
     "name": "stdout",
     "output_type": "stream",
     "text": [
      "10\n",
      "10\n",
      "10\n",
      "10\n",
      "10\n",
      "10\n",
      "10\n",
      "1180\n",
      "10\n",
      "10\n",
      "10\n",
      "10\n",
      "10\n",
      "10\n",
      "1180\n",
      "1180\n",
      "10\n",
      "10\n",
      "1180\n"
     ]
    }
   ],
   "source": [
    "df = pd.read_csv('Sanders-NY.csv')\n",
    "df2 = pd.DataFrame({'date' : df.contb_receipt_amt, 'amt' : df.contbr_occupation, 'zip9' : df.contbr_st})\n",
    "df3 = df2.sort(['date'])\n",
    "df3['cum_amt'] = df3.amt.cumsum()\n",
    "\n",
    "df_len = len(df3.index)\n",
    "bucket_size = int(df_len/1000)\n",
    "idx_date = []\n",
    "idx = 0\n",
    "curr_date = df3.date[0]\n",
    "for i in df3.date:\n",
    "    if i != curr_date:\n",
    "        curr_date = i\n",
    "        idx += 1\n",
    "    idx_date.append(idx)\n",
    "df3['idx_date'] = idx_date\n",
    "\n",
    "zip6 = []\n",
    "county = []\n",
    "for i in df3.zip9:\n",
    "    if not math.isnan(i):\n",
    "        z = str(int(i))\n",
    "        if len(str(int(i))) > 5:\n",
    "            z = z[:5]\n",
    "        zip6.append(z)\n",
    "        while not zipToCounty[z]:\n",
    "            intZ = int(z)\n",
    "            intZ -= 1\n",
    "            z = str(intZ)\n",
    "            if intZ < 10000:\n",
    "                print i\n",
    "                zipToCounty[z] = \"None\"\n",
    "        county.append(zipToCounty[z])\n",
    "    else:\n",
    "        zip6.append(\"00000\")\n",
    "        county.append(\"None\")\n",
    "df3['zip6'] = zip6\n",
    "df3['county'] = county\n",
    "sandersFinances = df3"
   ]
  },
  {
   "cell_type": "code",
   "execution_count": 91,
   "metadata": {
    "collapsed": false,
    "scrolled": true
   },
   "outputs": [
    {
     "name": "stdout",
     "output_type": "stream",
     "text": [
      "63\n",
      "62\n"
     ]
    }
   ],
   "source": [
    "# Features are [avg contribution, total raised, total contributions, {those 3 for the last 14 days}]\n",
    "counties = [tup[0] for tup in list(clintonFinances.groupby('county'))]\n",
    "numCounties = len(counties)\n",
    "X_dems = [[] for i in range(numCounties)]\n",
    "\n",
    "##### Sanders\n",
    "clintonByCounty = clintonFinances.groupby('county')\n",
    "countyAggregates = clintonByCounty['amt'].agg(['mean', 'sum', 'count'])\n",
    "\n",
    "for i in range(numCounties):\n",
    "    X_dems[i] += [countyAggregates['mean'][i], countyAggregates['sum'][i], countyAggregates['count'][i]]\n",
    "\n",
    "# clintonByDate = clintonFinances.groupby('idx_date')\n",
    "# startDate = 309\n",
    "# endDate = 323\n",
    "# for i in range(startDate, endDate):\n",
    "#     cbdByCounty = clintonByDate.get_group(i).groupby('county')\n",
    "#     timeAggregates = cbdByCounty['amt'].agg(['mean', 'sum', 'count'])\n",
    "#     for j in range(numCounties):\n",
    "#         if counties[j] in timeAggregates.index:\n",
    "#             X_dems[j] += [timeAggregates['mean'][counties[j]], timeAggregates['sum'][counties[j]], timeAggregates['count'][counties[j]]]\n",
    "#         else:\n",
    "#             X_dems[j] += [0, 0, 0]\n",
    "\n",
    "##### Sanders\n",
    "sandersByCounty = sandersFinances.groupby('county')\n",
    "countyAggregates = sandersByCounty['amt'].agg(['mean', 'sum', 'count'])\n",
    "\n",
    "for i in range(numCounties):\n",
    "    X_dems[i] += [countyAggregates['mean'][i], countyAggregates['sum'][i], countyAggregates['count'][i]]\n",
    "\n",
    "# sandersByDate = sandersFinances.groupby('idx_date')\n",
    "# startDate = 290\n",
    "# endDate = 304\n",
    "# for i in range(startDate, endDate):\n",
    "#     cbdByCounty = sandersByDate.get_group(i).groupby('county')\n",
    "#     timeAggregates = cbdByCounty['amt'].agg(['mean', 'sum', 'count'])\n",
    "#     for j in range(numCounties):\n",
    "#         if counties[j] in timeAggregates.index:\n",
    "#             X_dems[j] += [timeAggregates['mean'][counties[j]], timeAggregates['sum'][counties[j]], timeAggregates['count'][counties[j]]]\n",
    "#         else:\n",
    "#             X_dems[j] += [0, 0, 0]\n",
    "print len(X_dems)\n",
    "X_dems.pop(counties.index(\"None\"))\n",
    "print len(X_dems)"
   ]
  },
  {
   "cell_type": "code",
   "execution_count": 41,
   "metadata": {
    "collapsed": false
   },
   "outputs": [],
   "source": [
    "compressed_idx = []\n",
    "compressed_amt = []\n",
    "compressed_cum_amt = []\n",
    "i = 0\n",
    "for index, row in df3.iterrows():\n",
    "    if i % bucket_size == 0:\n",
    "        compressed_idx.append(row['idx_date'])\n",
    "        compressed_amt.append(row['amt'])\n",
    "        compressed_cum_amt.append(row['cum_amt'])\n",
    "    compressed_amt[-1] += row['amt']\n",
    "    compressed_cum_amt[-1] += row['cum_amt']\n",
    "    i += 1\n",
    "\n",
    "compressed_df3 = pd.DataFrame({'date_idx' : compressed_idx, 'amt' : compressed_amt, 'cum_amt' : compressed_cum_amt})"
   ]
  },
  {
   "cell_type": "code",
   "execution_count": 5,
   "metadata": {
    "collapsed": false
   },
   "outputs": [
    {
     "name": "stdout",
     "output_type": "stream",
     "text": [
      "['Date', 'Sample', 'Margin oE', 'Trump', 'Kasich', 'Cruz']\n",
      "['--', '--', '--', '60.4', '25.1', '14.5']\n",
      "['4/6 - 4/17', '--', '--', '53.1', '22.8', '18.1']\n",
      "['4/15 - 4/17', '361 LV', '5.1', '55', '21', '18']\n",
      "['4/13 - 4/15', '705 LV', '5.9', '54', '19', '21']\n",
      "['4/13 - 4/13', '481 LV', '4.5', '57', '22', '20']\n",
      "['4/11 - 4/14', '14201 LV', '1', '49', '23', '14']\n",
      "['4/10 - 4/13', '313 LV', '5.5', '54', '25', '16']\n",
      "['4/7 - 4/10', '483 LV', '4.5', '51', '25', '20']\n",
      "['4/6 - 4/11', '469 LV', '5', '50', '27', '17']\n",
      "['4/6 - 4/11', '550 LV', '4.2', '55', '20', '19']\n",
      "['4/6 - 4/10', '259 LV', '6.1', '54', '21', '18']\n",
      "['4/5 - 4/10', '324 LV', '5.8', '60', '17', '14']\n",
      "['4/6 - 4/7', '321 LV', '5.4', '56', '17', '22']\n",
      "['4/6 - 4/7', '6041 LV', '3', '52', '23', '19']\n",
      "['4/4 - 4/7', '602 LV', '4', '54', '22', '15']\n",
      "['4/5 - 4/6', '857 LV', '3.3', '56', '24', '20']\n",
      "['4/3 - 4/5', '302 LV', '5.6', '52', '25', '17']\n",
      "['3/29 - 4/1', '657 LV', '5.6', '52', '20', '21']\n",
      "['3/22 - 3/29', '457 LV', '4.6', '56', '19', '20']\n",
      "['3/24 - 3/26', '1796 LV', '3', '55', '22', '19']\n",
      "['3/22 - 3/24', '14234 LV', '1', '50', '24', '16']\n",
      "['3/14 - 3/16', '298 LV', '5.6', '64', '1', '12']\n",
      "['2/28 - 3/3', '229 RV', '6.7', '45', '18', '11']\n"
     ]
    }
   ],
   "source": [
    "\n",
    "with open('NyPrimaryPollsR.csv', 'rb') as f:\n",
    "    reader = csv.reader(f)\n",
    "    for row in reader:\n",
    "        print row"
   ]
  },
  {
   "cell_type": "code",
   "execution_count": null,
   "metadata": {
    "collapsed": true
   },
   "outputs": [],
   "source": [
    "x_dems = []\n",
    "with open('NyPrimaryPollsD.csv', 'rb') as f:\n",
    "    reader = csv.reader(f)\n",
    "#     for i, row in enumerate(reader):\n",
    "#         if not i:\n",
    "#             continue\n",
    "#         print row"
   ]
  },
  {
   "cell_type": "code",
   "execution_count": 92,
   "metadata": {
    "collapsed": false
   },
   "outputs": [],
   "source": [
    "y_dems = [] # Hillary's percentages per county\n",
    "with open('NyPrimaryResultsRaw.csv', 'rb') as f:\n",
    "    reader = csv.reader(f)\n",
    "    for i, row in enumerate(reader):\n",
    "        if not i:\n",
    "            continue\n",
    "        percent = float(row[1].replace(',', ''))/(int(row[1].replace(',', '')) + int(row[2].replace(',', '')))\n",
    "        y_dems.append(percent)\n"
   ]
  },
  {
   "cell_type": "markdown",
   "metadata": {},
   "source": [
    "### Random Forest"
   ]
  },
  {
   "cell_type": "code",
   "execution_count": 93,
   "metadata": {
    "collapsed": false
   },
   "outputs": [
    {
     "name": "stdout",
     "output_type": "stream",
     "text": [
      "Score with the entire dataset = -0.70\n"
     ]
    }
   ],
   "source": [
    "rng = np.random.RandomState(0)\n",
    "\n",
    "# dataset = load_boston()\n",
    "# X_full, y_full = dataset.data, dataset.target\n",
    "X_full = np.array(X_dems)\n",
    "y_full = np.array(y_dems)\n",
    "n_samples = X_full.shape[0]\n",
    "n_features = X_full.shape[1]\n",
    "\n",
    "# Estimate the score on the entire dataset, with no missing values\n",
    "estimator = RandomForestRegressor(random_state=0, n_estimators=100)\n",
    "score = cross_val_score(estimator, X_full, y_full).mean()\n",
    "print(\"Score with the entire dataset = %.2f\" % score)"
   ]
  },
  {
   "cell_type": "code",
   "execution_count": null,
   "metadata": {
    "collapsed": true
   },
   "outputs": [],
   "source": []
  },
  {
   "cell_type": "code",
   "execution_count": 11,
   "metadata": {
    "collapsed": false
   },
   "outputs": [
    {
     "data": {
      "text/html": [
       "<div style=\"max-height:1000px;max-width:1500px;overflow:auto;\">\n",
       "<table border=\"1\" class=\"dataframe\">\n",
       "  <thead>\n",
       "    <tr style=\"text-align: right;\">\n",
       "      <th></th>\n",
       "      <th>amt</th>\n",
       "      <th>date</th>\n",
       "      <th>zip9</th>\n",
       "      <th>cum_amt</th>\n",
       "    </tr>\n",
       "  </thead>\n",
       "  <tbody>\n",
       "    <tr>\n",
       "      <th>C00575795</th>\n",
       "      <td> 27884.50</td>\n",
       "      <td> 01-APR-15</td>\n",
       "      <td> 101701999</td>\n",
       "      <td> 27884.50</td>\n",
       "    </tr>\n",
       "    <tr>\n",
       "      <th>C00575795</th>\n",
       "      <td>   120.38</td>\n",
       "      <td> 01-AUG-15</td>\n",
       "      <td> 100236227</td>\n",
       "      <td> 28004.88</td>\n",
       "    </tr>\n",
       "  </tbody>\n",
       "</table>\n",
       "</div>"
      ],
      "text/plain": [
       "                amt       date       zip9   cum_amt\n",
       "C00575795  27884.50  01-APR-15  101701999  27884.50\n",
       "C00575795    120.38  01-AUG-15  100236227  28004.88"
      ]
     },
     "execution_count": 11,
     "metadata": {},
     "output_type": "execute_result"
    }
   ],
   "source": [
    "state = 'NY'\n",
    "df = pd.read_csv('../CSVs/Clinton-Expenditures.csv')\n",
    "df = df[df['recipient_city'] == state]\n",
    "df2 = pd.DataFrame({'date' : df.disb_amt, 'amt' : df.recipient_nm, 'zip9' : df.recipient_st})\n",
    "df3 = df2.sort(['date'])\n",
    "df3['cum_amt'] = df3.amt.cumsum()\n",
    "df3.head(2)"
   ]
  },
  {
   "cell_type": "code",
   "execution_count": null,
   "metadata": {
    "collapsed": true
   },
   "outputs": [],
   "source": []
  }
 ],
 "metadata": {
  "kernelspec": {
   "display_name": "Python 2",
   "language": "python",
   "name": "python2"
  },
  "language_info": {
   "codemirror_mode": {
    "name": "ipython",
    "version": 2
   },
   "file_extension": ".py",
   "mimetype": "text/x-python",
   "name": "python",
   "nbconvert_exporter": "python",
   "pygments_lexer": "ipython2",
   "version": "2.7.6"
  }
 },
 "nbformat": 4,
 "nbformat_minor": 0
}
