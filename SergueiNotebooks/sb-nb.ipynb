{
 "cells": [
  {
   "cell_type": "code",
   "execution_count": 1,
   "metadata": {
    "collapsed": false
   },
   "outputs": [
    {
     "name": "stdout",
     "output_type": "stream",
     "text": [
      "<twitter.api.Twitter object at 0x7f522c7c7b10>\n"
     ]
    }
   ],
   "source": [
    "import twitter\n",
    "\n",
    "# XXX: Go to http://dev.twitter.com/apps/new to create an app and get values\n",
    "# for these credentials, which you'll need to provide in place of these\n",
    "# empty string values that are defined as placeholders.\n",
    "# See https://dev.twitter.com/docs/auth/oauth for more information \n",
    "# on Twitter's OAuth implementation.\n",
    "\n",
    "CONSUMER_KEY = 'KBx5ff3Km0q8s7ESa7G6ZWWcE'\n",
    "CONSUMER_SECRET = 'QPb59eocVqHorI6pVttmr6kzx6bgeBh1Hso1r3avZIrZJjiU6y'\n",
    "OAUTH_TOKEN = ''\n",
    "OAUTH_TOKEN_SECRET = ''\n",
    "\n",
    "auth = twitter.oauth.OAuth(OAUTH_TOKEN, OAUTH_TOKEN_SECRET,\n",
    "                           CONSUMER_KEY, CONSUMER_SECRET)\n",
    "\n",
    "twitter_api = twitter.Twitter(auth=auth)\n",
    "\n",
    "# Nothing to see by displaying twitter_api except that it's now a\n",
    "# defined variable\n",
    "\n",
    "print twitter_api"
   ]
  },
  {
   "cell_type": "code",
   "execution_count": 2,
   "metadata": {
    "collapsed": false
   },
   "outputs": [
    {
     "name": "stdout",
     "output_type": "stream",
     "text": [
      "[{u'created_at': u'2016-04-21T22:09:40Z', u'trends': [{u'url': u'http://twitter.com/search?q=Prince', u'query': u'Prince', u'tweet_volume': 5473447, u'name': u'Prince', u'promoted_content': None}, {u'url': u'http://twitter.com/search?q=%23Supervivientes2016', u'query': u'%23Supervivientes2016', u'tweet_volume': 34602, u'name': u'#Supervivientes2016', u'promoted_content': None}, {u'url': u'http://twitter.com/search?q=%23TPMPAVegas', u'query': u'%23TPMPAVegas', u'tweet_volume': 297596, u'name': u'#TPMPAVegas', u'promoted_content': None}, {u'url': u'http://twitter.com/search?q=%23RIPAmy', u'query': u'%23RIPAmy', u'tweet_volume': 71133, u'name': u'#RIPAmy', u'promoted_content': None}, {u'url': u'http://twitter.com/search?q=%23%D9%83%D9%85_%D8%B9%D9%85%D8%B1%D9%83_%D9%81%D9%8A_%D9%A2%D9%A0%D9%A3%D9%A0', u'query': u'%23%D9%83%D9%85_%D8%B9%D9%85%D8%B1%D9%83_%D9%81%D9%8A_%D9%A2%D9%A0%D9%A3%D9%A0', u'tweet_volume': None, u'name': u'#\\u0643\\u0645_\\u0639\\u0645\\u0631\\u0643_\\u0641\\u064a_\\u0662\\u0660\\u0663\\u0660', u'promoted_content': None}, {u'url': u'http://twitter.com/search?q=%23VisAVis4', u'query': u'%23VisAVis4', u'tweet_volume': 11515, u'name': u'#VisAVis4', u'promoted_content': None}, {u'url': u'http://twitter.com/search?q=%E3%83%97%E3%83%AA%E3%83%B3%E3%82%B9', u'query': u'%E3%83%97%E3%83%AA%E3%83%B3%E3%82%B9', u'tweet_volume': 87283, u'name': u'\\u30d7\\u30ea\\u30f3\\u30b9', u'promoted_content': None}, {u'url': u'http://twitter.com/search?q=%22Blac+Chyna%22', u'query': u'%22Blac+Chyna%22', u'tweet_volume': 40566, u'name': u'Blac Chyna', u'promoted_content': None}, {u'url': u'http://twitter.com/search?q=%22Scott+Brooks%22', u'query': u'%22Scott+Brooks%22', u'tweet_volume': 11029, u'name': u'Scott Brooks', u'promoted_content': None}, {u'url': u'http://twitter.com/search?q=%22Osman+Gazi+K%C3%B6pr%C3%BCs%C3%BC%22', u'query': u'%22Osman+Gazi+K%C3%B6pr%C3%BCs%C3%BC%22', u'tweet_volume': 31385, u'name': u'Osman Gazi K\\xf6pr\\xfcs\\xfc', u'promoted_content': None}, {u'url': u'http://twitter.com/search?q=Levante', u'query': u'Levante', u'tweet_volume': 32273, u'name': u'Levante', u'promoted_content': None}, {u'url': u'http://twitter.com/search?q=%22Rama+Yade%22', u'query': u'%22Rama+Yade%22', u'tweet_volume': None, u'name': u'Rama Yade', u'promoted_content': None}, {u'url': u'http://twitter.com/search?q=%22EMILY+VANCAMP+DESERVES+RESPECT%22', u'query': u'%22EMILY+VANCAMP+DESERVES+RESPECT%22', u'tweet_volume': None, u'name': u'EMILY VANCAMP DESERVES RESPECT', u'promoted_content': None}, {u'url': u'http://twitter.com/search?q=%23%D9%82%D9%8A%D8%A7%D8%AF%D9%87_%D8%A7%D9%84%D9%85%D8%B1%D8%A7%D9%87_%D9%82%D8%A7%D8%AF%D9%85%D9%87', u'query': u'%23%D9%82%D9%8A%D8%A7%D8%AF%D9%87_%D8%A7%D9%84%D9%85%D8%B1%D8%A7%D9%87_%D9%82%D8%A7%D8%AF%D9%85%D9%87', u'tweet_volume': 19452, u'name': u'#\\u0642\\u064a\\u0627\\u062f\\u0647_\\u0627\\u0644\\u0645\\u0631\\u0627\\u0647_\\u0642\\u0627\\u062f\\u0645\\u0647', u'promoted_content': None}, {u'url': u'http://twitter.com/search?q=%23Rischiatutto', u'query': u'%23Rischiatutto', u'tweet_volume': 14872, u'name': u'#Rischiatutto', u'promoted_content': None}, {u'url': u'http://twitter.com/search?q=%23%D9%83%D9%84%D9%85%D9%87_%D8%AA%D8%B9%D9%81%D8%B3_%D9%83%D9%8A%D8%A7%D9%86%D9%8A', u'query': u'%23%D9%83%D9%84%D9%85%D9%87_%D8%AA%D8%B9%D9%81%D8%B3_%D9%83%D9%8A%D8%A7%D9%86%D9%8A', u'tweet_volume': None, u'name': u'#\\u0643\\u0644\\u0645\\u0647_\\u062a\\u0639\\u0641\\u0633_\\u0643\\u064a\\u0627\\u0646\\u064a', u'promoted_content': None}, {u'url': u'http://twitter.com/search?q=%23LineOfDuty', u'query': u'%23LineOfDuty', u'tweet_volume': None, u'name': u'#LineOfDuty', u'promoted_content': None}, {u'url': u'http://twitter.com/search?q=%23CuentameNoche', u'query': u'%23CuentameNoche', u'tweet_volume': None, u'name': u'#CuentameNoche', u'promoted_content': None}, {u'url': u'http://twitter.com/search?q=%23TBTNoMTVHits', u'query': u'%23TBTNoMTVHits', u'tweet_volume': None, u'name': u'#TBTNoMTVHits', u'promoted_content': None}, {u'url': u'http://twitter.com/search?q=%23NoHayNadaComo', u'query': u'%23NoHayNadaComo', u'tweet_volume': 30619, u'name': u'#NoHayNadaComo', u'promoted_content': None}, {u'url': u'http://twitter.com/search?q=%23FirstDatesIRL', u'query': u'%23FirstDatesIRL', u'tweet_volume': None, u'name': u'#FirstDatesIRL', u'promoted_content': None}, {u'url': u'http://twitter.com/search?q=%23JamesIsNotAPlasticBag', u'query': u'%23JamesIsNotAPlasticBag', u'tweet_volume': 18851, u'name': u'#JamesIsNotAPlasticBag', u'promoted_content': None}, {u'url': u'http://twitter.com/search?q=%23BuscandoaCervantes', u'query': u'%23BuscandoaCervantes', u'tweet_volume': None, u'name': u'#BuscandoaCervantes', u'promoted_content': None}, {u'url': u'http://twitter.com/search?q=%23MilanCarpi', u'query': u'%23MilanCarpi', u'tweet_volume': 14413, u'name': u'#MilanCarpi', u'promoted_content': None}, {u'url': u'http://twitter.com/search?q=%23TibisayPlanillaYa', u'query': u'%23TibisayPlanillaYa', u'tweet_volume': 41576, u'name': u'#TibisayPlanillaYa', u'promoted_content': None}, {u'url': u'http://twitter.com/search?q=%23Iglesiascontralaprensa', u'query': u'%23Iglesiascontralaprensa', u'tweet_volume': 70303, u'name': u'#Iglesiascontralaprensa', u'promoted_content': None}, {u'url': u'http://twitter.com/search?q=%23ElizabethAt90', u'query': u'%23ElizabethAt90', u'tweet_volume': None, u'name': u'#ElizabethAt90', u'promoted_content': None}, {u'url': u'http://twitter.com/search?q=%23PorTuFinalDejoTodoMicaVOT2', u'query': u'%23PorTuFinalDejoTodoMicaVOT2', u'tweet_volume': 42372, u'name': u'#PorTuFinalDejoTodoMicaVOT2', u'promoted_content': None}, {u'url': u'http://twitter.com/search?q=%23StopCoupInBrazil', u'query': u'%23StopCoupInBrazil', u'tweet_volume': 11281, u'name': u'#StopCoupInBrazil', u'promoted_content': None}, {u'url': u'http://twitter.com/search?q=%23FreeOmid', u'query': u'%23FreeOmid', u'tweet_volume': 276047, u'name': u'#FreeOmid', u'promoted_content': None}, {u'url': u'http://twitter.com/search?q=%23PorUmMundoComMais', u'query': u'%23PorUmMundoComMais', u'tweet_volume': 23378, u'name': u'#PorUmMundoComMais', u'promoted_content': None}, {u'url': u'http://twitter.com/search?q=%23GNTM', u'query': u'%23GNTM', u'tweet_volume': 14979, u'name': u'#GNTM', u'promoted_content': None}, {u'url': u'http://twitter.com/search?q=%23ComandoTagSeguiDiVouta', u'query': u'%23ComandoTagSeguiDiVouta', u'tweet_volume': None, u'name': u'#ComandoTagSeguiDiVouta', u'promoted_content': None}, {u'url': u'http://twitter.com/search?q=%23%D9%84%D9%88_%D8%B1%D8%AC%D8%B9%D8%AA_%D8%A8%D8%A7%D9%84%D8%B2%D9%85%D9%86_%D8%AA%D8%B9%D9%85%D9%84', u'query': u'%23%D9%84%D9%88_%D8%B1%D8%AC%D8%B9%D8%AA_%D8%A8%D8%A7%D9%84%D8%B2%D9%85%D9%86_%D8%AA%D8%B9%D9%85%D9%84', u'tweet_volume': None, u'name': u'#\\u0644\\u0648_\\u0631\\u062c\\u0639\\u062a_\\u0628\\u0627\\u0644\\u0632\\u0645\\u0646_\\u062a\\u0639\\u0645\\u0644', u'promoted_content': None}, {u'url': u'http://twitter.com/search?q=%23Exig%C3%A8nciesMontoroTV3', u'query': u'%23Exig%C3%A8nciesMontoroTV3', u'tweet_volume': None, u'name': u'#Exig\\xe8nciesMontoroTV3', u'promoted_content': None}, {u'url': u'http://twitter.com/search?q=%23NoBajaremosLosBrazosGonza', u'query': u'%23NoBajaremosLosBrazosGonza', u'tweet_volume': 12894, u'name': u'#NoBajaremosLosBrazosGonza', u'promoted_content': None}, {u'url': u'http://twitter.com/search?q=%23TheMomentIBecameAnAdult', u'query': u'%23TheMomentIBecameAnAdult', u'tweet_volume': None, u'name': u'#TheMomentIBecameAnAdult', u'promoted_content': None}, {u'url': u'http://twitter.com/search?q=%23NationalHighFiveDay', u'query': u'%23NationalHighFiveDay', u'tweet_volume': 25318, u'name': u'#NationalHighFiveDay', u'promoted_content': None}, {u'url': u'http://twitter.com/search?q=%23%D9%84%D9%8A%D9%87_%D8%B9%D8%A7%D9%8A%D8%B2_%D8%AA%D9%84%D8%BA%D9%8A_%D8%AD%D9%83%D9%85_%D8%A7%D9%84%D8%B9%D8%B3%D9%83%D8%B1', u'query': u'%23%D9%84%D9%8A%D9%87_%D8%B9%D8%A7%D9%8A%D8%B2_%D8%AA%D9%84%D8%BA%D9%8A_%D8%AD%D9%83%D9%85_%D8%A7%D9%84%D8%B9%D8%B3%D9%83%D8%B1', u'tweet_volume': 21866, u'name': u'#\\u0644\\u064a\\u0647_\\u0639\\u0627\\u064a\\u0632_\\u062a\\u0644\\u063a\\u064a_\\u062d\\u0643\\u0645_\\u0627\\u0644\\u0639\\u0633\\u0643\\u0631', u'promoted_content': None}, {u'url': u'http://twitter.com/search?q=%23HDPyeDiz%C3%87%C3%B6kt%C3%BCremeyeceksiniz', u'query': u'%23HDPyeDiz%C3%87%C3%B6kt%C3%BCremeyeceksiniz', u'tweet_volume': 25111, u'name': u'#HDPyeDiz\\xc7\\xf6kt\\xfcremeyeceksiniz', u'promoted_content': None}, {u'url': u'http://twitter.com/search?q=%23%D8%B1%D9%86%D8%A7_%D8%B3%D9%85%D8%A7%D8%AD%D9%87_%D8%B9%D9%84%D9%8A_%D8%A7%D9%84%D9%81%D8%B6%D8%A7%D9%8A%D9%8A%D9%87_%D8%A7%D9%84%D9%85%D8%B5%D8%B1%D9%8A%D9%87', u'query': u'%23%D8%B1%D9%86%D8%A7_%D8%B3%D9%85%D8%A7%D8%AD%D9%87_%D8%B9%D9%84%D9%8A_%D8%A7%D9%84%D9%81%D8%B6%D8%A7%D9%8A%D9%8A%D9%87_%D8%A7%D9%84%D9%85%D8%B5%D8%B1%D9%8A%D9%87', u'tweet_volume': None, u'name': u'#\\u0631\\u0646\\u0627_\\u0633\\u0645\\u0627\\u062d\\u0647_\\u0639\\u0644\\u064a_\\u0627\\u0644\\u0641\\u0636\\u0627\\u064a\\u064a\\u0647_\\u0627\\u0644\\u0645\\u0635\\u0631\\u064a\\u0647', u'promoted_content': None}, {u'url': u'http://twitter.com/search?q=%23leiene', u'query': u'%23leiene', u'tweet_volume': None, u'name': u'#leiene', u'promoted_content': None}, {u'url': u'http://twitter.com/search?q=%23TeAconsejar%C3%ADaQue', u'query': u'%23TeAconsejar%C3%ADaQue', u'tweet_volume': None, u'name': u'#TeAconsejar\\xedaQue', u'promoted_content': None}, {u'url': u'http://twitter.com/search?q=%23FeriadoComTagueirosSdv', u'query': u'%23FeriadoComTagueirosSdv', u'tweet_volume': None, u'name': u'#FeriadoComTagueirosSdv', u'promoted_content': None}, {u'url': u'http://twitter.com/search?q=%23%D8%AC%D9%86%D9%88%D8%A8%D9%8A%D8%A7%D8%AA_%D9%8A%D8%B7%D8%A7%D9%84%D8%A8%D9%88%D9%86_%D8%A8%D8%B1%D8%AF_%D8%A7%D8%B9%D8%AA%D8%A8%D8%A7%D8%B1%D9%87%D9%85', u'query': u'%23%D8%AC%D9%86%D9%88%D8%A8%D9%8A%D8%A7%D8%AA_%D9%8A%D8%B7%D8%A7%D9%84%D8%A8%D9%88%D9%86_%D8%A8%D8%B1%D8%AF_%D8%A7%D8%B9%D8%AA%D8%A8%D8%A7%D8%B1%D9%87%D9%85', u'tweet_volume': 20710, u'name': u'#\\u062c\\u0646\\u0648\\u0628\\u064a\\u0627\\u062a_\\u064a\\u0637\\u0627\\u0644\\u0628\\u0648\\u0646_\\u0628\\u0631\\u062f_\\u0627\\u0639\\u062a\\u0628\\u0627\\u0631\\u0647\\u0645', u'promoted_content': None}, {u'url': u'http://twitter.com/search?q=%23CelebJuice', u'query': u'%23CelebJuice', u'tweet_volume': None, u'name': u'#CelebJuice', u'promoted_content': None}, {u'url': u'http://twitter.com/search?q=%23TodosPorEcuador', u'query': u'%23TodosPorEcuador', u'tweet_volume': 23506, u'name': u'#TodosPorEcuador', u'promoted_content': None}, {u'url': u'http://twitter.com/search?q=%23Saudivision2030', u'query': u'%23Saudivision2030', u'tweet_volume': None, u'name': u'#Saudivision2030', u'promoted_content': None}, {u'url': u'http://twitter.com/search?q=%23FreeKodak', u'query': u'%23FreeKodak', u'tweet_volume': None, u'name': u'#FreeKodak', u'promoted_content': None}, {u'url': u'http://twitter.com/search?q=%23bpw16', u'query': u'%23bpw16', u'tweet_volume': None, u'name': u'#bpw16', u'promoted_content': None}], u'as_of': u'2016-04-21T22:17:34Z', u'locations': [{u'woeid': 1, u'name': u'Worldwide'}]}]\n",
      "\n",
      "[{u'created_at': u'2016-04-21T22:09:40Z', u'trends': [{u'url': u'http://twitter.com/search?q=Prince', u'query': u'Prince', u'tweet_volume': 5473447, u'name': u'Prince', u'promoted_content': None}, {u'url': u'http://twitter.com/search?q=%23RIPAmy', u'query': u'%23RIPAmy', u'tweet_volume': 71133, u'name': u'#RIPAmy', u'promoted_content': None}, {u'url': u'http://twitter.com/search?q=%22Blac+Chyna%22', u'query': u'%22Blac+Chyna%22', u'tweet_volume': 40566, u'name': u'Blac Chyna', u'promoted_content': None}, {u'url': u'http://twitter.com/search?q=%22Scott+Brooks%22', u'query': u'%22Scott+Brooks%22', u'tweet_volume': 11029, u'name': u'Scott Brooks', u'promoted_content': None}, {u'url': u'http://twitter.com/search?q=%23NationalHighFiveDay', u'query': u'%23NationalHighFiveDay', u'tweet_volume': 25318, u'name': u'#NationalHighFiveDay', u'promoted_content': None}, {u'url': u'http://twitter.com/search?q=%23TheMomentIBecameAnAdult', u'query': u'%23TheMomentIBecameAnAdult', u'tweet_volume': None, u'name': u'#TheMomentIBecameAnAdult', u'promoted_content': None}, {u'url': u'http://twitter.com/search?q=%22Jimmy+Johns%22', u'query': u'%22Jimmy+Johns%22', u'tweet_volume': 50971, u'name': u'Jimmy Johns', u'promoted_content': None}, {u'url': u'http://twitter.com/search?q=Miguel', u'query': u'Miguel', u'tweet_volume': 72647, u'name': u'Miguel', u'promoted_content': None}, {u'url': u'http://twitter.com/search?q=%23JamesIsNotAPlasticBag', u'query': u'%23JamesIsNotAPlasticBag', u'tweet_volume': 18851, u'name': u'#JamesIsNotAPlasticBag', u'promoted_content': None}, {u'url': u'http://twitter.com/search?q=%23MakeMeCryRelease', u'query': u'%23MakeMeCryRelease', u'tweet_volume': None, u'name': u'#MakeMeCryRelease', u'promoted_content': None}, {u'url': u'http://twitter.com/search?q=%22Dear+2016%22', u'query': u'%22Dear+2016%22', u'tweet_volume': None, u'name': u'Dear 2016', u'promoted_content': None}, {u'url': u'http://twitter.com/search?q=%22Charlie+Murphy%22', u'query': u'%22Charlie+Murphy%22', u'tweet_volume': None, u'name': u'Charlie Murphy', u'promoted_content': None}, {u'url': u'http://twitter.com/search?q=%22Erotic+City%22', u'query': u'%22Erotic+City%22', u'tweet_volume': None, u'name': u'Erotic City', u'promoted_content': None}, {u'url': u'http://twitter.com/search?q=%22Under+the+Cherry+Moon%22', u'query': u'%22Under+the+Cherry+Moon%22', u'tweet_volume': None, u'name': u'Under the Cherry Moon', u'promoted_content': None}, {u'url': u'http://twitter.com/search?q=%22The+Kardashians%22', u'query': u'%22The+Kardashians%22', u'tweet_volume': None, u'name': u'The Kardashians', u'promoted_content': None}, {u'url': u'http://twitter.com/search?q=%22Shelby+Miller%22', u'query': u'%22Shelby+Miller%22', u'tweet_volume': None, u'name': u'Shelby Miller', u'promoted_content': None}, {u'url': u'http://twitter.com/search?q=%23askfredo', u'query': u'%23askfredo', u'tweet_volume': None, u'name': u'#askfredo', u'promoted_content': None}], u'as_of': u'2016-04-21T22:17:35Z', u'locations': [{u'woeid': 23424977, u'name': u'United States'}]}]\n"
     ]
    }
   ],
   "source": [
    "# The Yahoo! Where On Earth ID for the entire world is 1.\n",
    "# See https://dev.twitter.com/docs/api/1.1/get/trends/place and\n",
    "# http://developer.yahoo.com/geo/geoplanet/\n",
    "\n",
    "WORLD_WOE_ID = 1\n",
    "US_WOE_ID = 23424977\n",
    "\n",
    "# Prefix ID with the underscore for query string parameterization.\n",
    "# Without the underscore, the twitter package appends the ID value\n",
    "# to the URL itself as a special case keyword argument.\n",
    "\n",
    "world_trends = twitter_api.trends.place(_id=WORLD_WOE_ID)\n",
    "us_trends = twitter_api.trends.place(_id=US_WOE_ID)\n",
    "\n",
    "print world_trends\n",
    "print\n",
    "print us_trends"
   ]
  },
  {
   "cell_type": "code",
   "execution_count": 3,
   "metadata": {
    "collapsed": false
   },
   "outputs": [
    {
     "name": "stdout",
     "output_type": "stream",
     "text": [
      "[\n",
      " {\n",
      "  \"created_at\": \"2016-04-21T22:09:40Z\", \n",
      "  \"trends\": [\n",
      "   {\n",
      "    \"url\": \"http://twitter.com/search?q=Prince\", \n",
      "    \"query\": \"Prince\", \n",
      "    \"tweet_volume\": 5473447, \n",
      "    \"name\": \"Prince\", \n",
      "    \"promoted_content\": null\n",
      "   }, \n",
      "   {\n",
      "    \"url\": \"http://twitter.com/search?q=%23Supervivientes2016\", \n",
      "    \"query\": \"%23Supervivientes2016\", \n",
      "    \"tweet_volume\": 34602, \n",
      "    \"name\": \"#Supervivientes2016\", \n",
      "    \"promoted_content\": null\n",
      "   }, \n",
      "   {\n",
      "    \"url\": \"http://twitter.com/search?q=%23TPMPAVegas\", \n",
      "    \"query\": \"%23TPMPAVegas\", \n",
      "    \"tweet_volume\": 297596, \n",
      "    \"name\": \"#TPMPAVegas\", \n",
      "    \"promoted_content\": null\n",
      "   }, \n",
      "   {\n",
      "    \"url\": \"http://twitter.com/search?q=%23RIPAmy\", \n",
      "    \"query\": \"%23RIPAmy\", \n",
      "    \"tweet_volume\": 71133, \n",
      "    \"name\": \"#RIPAmy\", \n",
      "    \"promoted_content\": null\n",
      "   }, \n",
      "   {\n",
      "    \"url\": \"http://twitter.com/search?q=%23%D9%83%D9%85_%D8%B9%D9%85%D8%B1%D9%83_%D9%81%D9%8A_%D9%A2%D9%A0%D9%A3%D9%A0\", \n",
      "    \"query\": \"%23%D9%83%D9%85_%D8%B9%D9%85%D8%B1%D9%83_%D9%81%D9%8A_%D9%A2%D9%A0%D9%A3%D9%A0\", \n",
      "    \"tweet_volume\": null, \n",
      "    \"name\": \"#\\u0643\\u0645_\\u0639\\u0645\\u0631\\u0643_\\u0641\\u064a_\\u0662\\u0660\\u0663\\u0660\", \n",
      "    \"promoted_content\": null\n",
      "   }, \n",
      "   {\n",
      "    \"url\": \"http://twitter.com/search?q=%23VisAVis4\", \n",
      "    \"query\": \"%23VisAVis4\", \n",
      "    \"tweet_volume\": 11515, \n",
      "    \"name\": \"#VisAVis4\", \n",
      "    \"promoted_content\": null\n",
      "   }, \n",
      "   {\n",
      "    \"url\": \"http://twitter.com/search?q=%E3%83%97%E3%83%AA%E3%83%B3%E3%82%B9\", \n",
      "    \"query\": \"%E3%83%97%E3%83%AA%E3%83%B3%E3%82%B9\", \n",
      "    \"tweet_volume\": 87283, \n",
      "    \"name\": \"\\u30d7\\u30ea\\u30f3\\u30b9\", \n",
      "    \"promoted_content\": null\n",
      "   }, \n",
      "   {\n",
      "    \"url\": \"http://twitter.com/search?q=%22Blac+Chyna%22\", \n",
      "    \"query\": \"%22Blac+Chyna%22\", \n",
      "    \"tweet_volume\": 40566, \n",
      "    \"name\": \"Blac Chyna\", \n",
      "    \"promoted_content\": null\n",
      "   }, \n",
      "   {\n",
      "    \"url\": \"http://twitter.com/search?q=%22Scott+Brooks%22\", \n",
      "    \"query\": \"%22Scott+Brooks%22\", \n",
      "    \"tweet_volume\": 11029, \n",
      "    \"name\": \"Scott Brooks\", \n",
      "    \"promoted_content\": null\n",
      "   }, \n",
      "   {\n",
      "    \"url\": \"http://twitter.com/search?q=%22Osman+Gazi+K%C3%B6pr%C3%BCs%C3%BC%22\", \n",
      "    \"query\": \"%22Osman+Gazi+K%C3%B6pr%C3%BCs%C3%BC%22\", \n",
      "    \"tweet_volume\": 31385, \n",
      "    \"name\": \"Osman Gazi K\\u00f6pr\\u00fcs\\u00fc\", \n",
      "    \"promoted_content\": null\n",
      "   }, \n",
      "   {\n",
      "    \"url\": \"http://twitter.com/search?q=Levante\", \n",
      "    \"query\": \"Levante\", \n",
      "    \"tweet_volume\": 32273, \n",
      "    \"name\": \"Levante\", \n",
      "    \"promoted_content\": null\n",
      "   }, \n",
      "   {\n",
      "    \"url\": \"http://twitter.com/search?q=%22Rama+Yade%22\", \n",
      "    \"query\": \"%22Rama+Yade%22\", \n",
      "    \"tweet_volume\": null, \n",
      "    \"name\": \"Rama Yade\", \n",
      "    \"promoted_content\": null\n",
      "   }, \n",
      "   {\n",
      "    \"url\": \"http://twitter.com/search?q=%22EMILY+VANCAMP+DESERVES+RESPECT%22\", \n",
      "    \"query\": \"%22EMILY+VANCAMP+DESERVES+RESPECT%22\", \n",
      "    \"tweet_volume\": null, \n",
      "    \"name\": \"EMILY VANCAMP DESERVES RESPECT\", \n",
      "    \"promoted_content\": null\n",
      "   }, \n",
      "   {\n",
      "    \"url\": \"http://twitter.com/search?q=%23%D9%82%D9%8A%D8%A7%D8%AF%D9%87_%D8%A7%D9%84%D9%85%D8%B1%D8%A7%D9%87_%D9%82%D8%A7%D8%AF%D9%85%D9%87\", \n",
      "    \"query\": \"%23%D9%82%D9%8A%D8%A7%D8%AF%D9%87_%D8%A7%D9%84%D9%85%D8%B1%D8%A7%D9%87_%D9%82%D8%A7%D8%AF%D9%85%D9%87\", \n",
      "    \"tweet_volume\": 19452, \n",
      "    \"name\": \"#\\u0642\\u064a\\u0627\\u062f\\u0647_\\u0627\\u0644\\u0645\\u0631\\u0627\\u0647_\\u0642\\u0627\\u062f\\u0645\\u0647\", \n",
      "    \"promoted_content\": null\n",
      "   }, \n",
      "   {\n",
      "    \"url\": \"http://twitter.com/search?q=%23Rischiatutto\", \n",
      "    \"query\": \"%23Rischiatutto\", \n",
      "    \"tweet_volume\": 14872, \n",
      "    \"name\": \"#Rischiatutto\", \n",
      "    \"promoted_content\": null\n",
      "   }, \n",
      "   {\n",
      "    \"url\": \"http://twitter.com/search?q=%23%D9%83%D9%84%D9%85%D9%87_%D8%AA%D8%B9%D9%81%D8%B3_%D9%83%D9%8A%D8%A7%D9%86%D9%8A\", \n",
      "    \"query\": \"%23%D9%83%D9%84%D9%85%D9%87_%D8%AA%D8%B9%D9%81%D8%B3_%D9%83%D9%8A%D8%A7%D9%86%D9%8A\", \n",
      "    \"tweet_volume\": null, \n",
      "    \"name\": \"#\\u0643\\u0644\\u0645\\u0647_\\u062a\\u0639\\u0641\\u0633_\\u0643\\u064a\\u0627\\u0646\\u064a\", \n",
      "    \"promoted_content\": null\n",
      "   }, \n",
      "   {\n",
      "    \"url\": \"http://twitter.com/search?q=%23LineOfDuty\", \n",
      "    \"query\": \"%23LineOfDuty\", \n",
      "    \"tweet_volume\": null, \n",
      "    \"name\": \"#LineOfDuty\", \n",
      "    \"promoted_content\": null\n",
      "   }, \n",
      "   {\n",
      "    \"url\": \"http://twitter.com/search?q=%23CuentameNoche\", \n",
      "    \"query\": \"%23CuentameNoche\", \n",
      "    \"tweet_volume\": null, \n",
      "    \"name\": \"#CuentameNoche\", \n",
      "    \"promoted_content\": null\n",
      "   }, \n",
      "   {\n",
      "    \"url\": \"http://twitter.com/search?q=%23TBTNoMTVHits\", \n",
      "    \"query\": \"%23TBTNoMTVHits\", \n",
      "    \"tweet_volume\": null, \n",
      "    \"name\": \"#TBTNoMTVHits\", \n",
      "    \"promoted_content\": null\n",
      "   }, \n",
      "   {\n",
      "    \"url\": \"http://twitter.com/search?q=%23NoHayNadaComo\", \n",
      "    \"query\": \"%23NoHayNadaComo\", \n",
      "    \"tweet_volume\": 30619, \n",
      "    \"name\": \"#NoHayNadaComo\", \n",
      "    \"promoted_content\": null\n",
      "   }, \n",
      "   {\n",
      "    \"url\": \"http://twitter.com/search?q=%23FirstDatesIRL\", \n",
      "    \"query\": \"%23FirstDatesIRL\", \n",
      "    \"tweet_volume\": null, \n",
      "    \"name\": \"#FirstDatesIRL\", \n",
      "    \"promoted_content\": null\n",
      "   }, \n",
      "   {\n",
      "    \"url\": \"http://twitter.com/search?q=%23JamesIsNotAPlasticBag\", \n",
      "    \"query\": \"%23JamesIsNotAPlasticBag\", \n",
      "    \"tweet_volume\": 18851, \n",
      "    \"name\": \"#JamesIsNotAPlasticBag\", \n",
      "    \"promoted_content\": null\n",
      "   }, \n",
      "   {\n",
      "    \"url\": \"http://twitter.com/search?q=%23BuscandoaCervantes\", \n",
      "    \"query\": \"%23BuscandoaCervantes\", \n",
      "    \"tweet_volume\": null, \n",
      "    \"name\": \"#BuscandoaCervantes\", \n",
      "    \"promoted_content\": null\n",
      "   }, \n",
      "   {\n",
      "    \"url\": \"http://twitter.com/search?q=%23MilanCarpi\", \n",
      "    \"query\": \"%23MilanCarpi\", \n",
      "    \"tweet_volume\": 14413, \n",
      "    \"name\": \"#MilanCarpi\", \n",
      "    \"promoted_content\": null\n",
      "   }, \n",
      "   {\n",
      "    \"url\": \"http://twitter.com/search?q=%23TibisayPlanillaYa\", \n",
      "    \"query\": \"%23TibisayPlanillaYa\", \n",
      "    \"tweet_volume\": 41576, \n",
      "    \"name\": \"#TibisayPlanillaYa\", \n",
      "    \"promoted_content\": null\n",
      "   }, \n",
      "   {\n",
      "    \"url\": \"http://twitter.com/search?q=%23Iglesiascontralaprensa\", \n",
      "    \"query\": \"%23Iglesiascontralaprensa\", \n",
      "    \"tweet_volume\": 70303, \n",
      "    \"name\": \"#Iglesiascontralaprensa\", \n",
      "    \"promoted_content\": null\n",
      "   }, \n",
      "   {\n",
      "    \"url\": \"http://twitter.com/search?q=%23ElizabethAt90\", \n",
      "    \"query\": \"%23ElizabethAt90\", \n",
      "    \"tweet_volume\": null, \n",
      "    \"name\": \"#ElizabethAt90\", \n",
      "    \"promoted_content\": null\n",
      "   }, \n",
      "   {\n",
      "    \"url\": \"http://twitter.com/search?q=%23PorTuFinalDejoTodoMicaVOT2\", \n",
      "    \"query\": \"%23PorTuFinalDejoTodoMicaVOT2\", \n",
      "    \"tweet_volume\": 42372, \n",
      "    \"name\": \"#PorTuFinalDejoTodoMicaVOT2\", \n",
      "    \"promoted_content\": null\n",
      "   }, \n",
      "   {\n",
      "    \"url\": \"http://twitter.com/search?q=%23StopCoupInBrazil\", \n",
      "    \"query\": \"%23StopCoupInBrazil\", \n",
      "    \"tweet_volume\": 11281, \n",
      "    \"name\": \"#StopCoupInBrazil\", \n",
      "    \"promoted_content\": null\n",
      "   }, \n",
      "   {\n",
      "    \"url\": \"http://twitter.com/search?q=%23FreeOmid\", \n",
      "    \"query\": \"%23FreeOmid\", \n",
      "    \"tweet_volume\": 276047, \n",
      "    \"name\": \"#FreeOmid\", \n",
      "    \"promoted_content\": null\n",
      "   }, \n",
      "   {\n",
      "    \"url\": \"http://twitter.com/search?q=%23PorUmMundoComMais\", \n",
      "    \"query\": \"%23PorUmMundoComMais\", \n",
      "    \"tweet_volume\": 23378, \n",
      "    \"name\": \"#PorUmMundoComMais\", \n",
      "    \"promoted_content\": null\n",
      "   }, \n",
      "   {\n",
      "    \"url\": \"http://twitter.com/search?q=%23GNTM\", \n",
      "    \"query\": \"%23GNTM\", \n",
      "    \"tweet_volume\": 14979, \n",
      "    \"name\": \"#GNTM\", \n",
      "    \"promoted_content\": null\n",
      "   }, \n",
      "   {\n",
      "    \"url\": \"http://twitter.com/search?q=%23ComandoTagSeguiDiVouta\", \n",
      "    \"query\": \"%23ComandoTagSeguiDiVouta\", \n",
      "    \"tweet_volume\": null, \n",
      "    \"name\": \"#ComandoTagSeguiDiVouta\", \n",
      "    \"promoted_content\": null\n",
      "   }, \n",
      "   {\n",
      "    \"url\": \"http://twitter.com/search?q=%23%D9%84%D9%88_%D8%B1%D8%AC%D8%B9%D8%AA_%D8%A8%D8%A7%D9%84%D8%B2%D9%85%D9%86_%D8%AA%D8%B9%D9%85%D9%84\", \n",
      "    \"query\": \"%23%D9%84%D9%88_%D8%B1%D8%AC%D8%B9%D8%AA_%D8%A8%D8%A7%D9%84%D8%B2%D9%85%D9%86_%D8%AA%D8%B9%D9%85%D9%84\", \n",
      "    \"tweet_volume\": null, \n",
      "    \"name\": \"#\\u0644\\u0648_\\u0631\\u062c\\u0639\\u062a_\\u0628\\u0627\\u0644\\u0632\\u0645\\u0646_\\u062a\\u0639\\u0645\\u0644\", \n",
      "    \"promoted_content\": null\n",
      "   }, \n",
      "   {\n",
      "    \"url\": \"http://twitter.com/search?q=%23Exig%C3%A8nciesMontoroTV3\", \n",
      "    \"query\": \"%23Exig%C3%A8nciesMontoroTV3\", \n",
      "    \"tweet_volume\": null, \n",
      "    \"name\": \"#Exig\\u00e8nciesMontoroTV3\", \n",
      "    \"promoted_content\": null\n",
      "   }, \n",
      "   {\n",
      "    \"url\": \"http://twitter.com/search?q=%23NoBajaremosLosBrazosGonza\", \n",
      "    \"query\": \"%23NoBajaremosLosBrazosGonza\", \n",
      "    \"tweet_volume\": 12894, \n",
      "    \"name\": \"#NoBajaremosLosBrazosGonza\", \n",
      "    \"promoted_content\": null\n",
      "   }, \n",
      "   {\n",
      "    \"url\": \"http://twitter.com/search?q=%23TheMomentIBecameAnAdult\", \n",
      "    \"query\": \"%23TheMomentIBecameAnAdult\", \n",
      "    \"tweet_volume\": null, \n",
      "    \"name\": \"#TheMomentIBecameAnAdult\", \n",
      "    \"promoted_content\": null\n",
      "   }, \n",
      "   {\n",
      "    \"url\": \"http://twitter.com/search?q=%23NationalHighFiveDay\", \n",
      "    \"query\": \"%23NationalHighFiveDay\", \n",
      "    \"tweet_volume\": 25318, \n",
      "    \"name\": \"#NationalHighFiveDay\", \n",
      "    \"promoted_content\": null\n",
      "   }, \n",
      "   {\n",
      "    \"url\": \"http://twitter.com/search?q=%23%D9%84%D9%8A%D9%87_%D8%B9%D8%A7%D9%8A%D8%B2_%D8%AA%D9%84%D8%BA%D9%8A_%D8%AD%D9%83%D9%85_%D8%A7%D9%84%D8%B9%D8%B3%D9%83%D8%B1\", \n",
      "    \"query\": \"%23%D9%84%D9%8A%D9%87_%D8%B9%D8%A7%D9%8A%D8%B2_%D8%AA%D9%84%D8%BA%D9%8A_%D8%AD%D9%83%D9%85_%D8%A7%D9%84%D8%B9%D8%B3%D9%83%D8%B1\", \n",
      "    \"tweet_volume\": 21866, \n",
      "    \"name\": \"#\\u0644\\u064a\\u0647_\\u0639\\u0627\\u064a\\u0632_\\u062a\\u0644\\u063a\\u064a_\\u062d\\u0643\\u0645_\\u0627\\u0644\\u0639\\u0633\\u0643\\u0631\", \n",
      "    \"promoted_content\": null\n",
      "   }, \n",
      "   {\n",
      "    \"url\": \"http://twitter.com/search?q=%23HDPyeDiz%C3%87%C3%B6kt%C3%BCremeyeceksiniz\", \n",
      "    \"query\": \"%23HDPyeDiz%C3%87%C3%B6kt%C3%BCremeyeceksiniz\", \n",
      "    \"tweet_volume\": 25111, \n",
      "    \"name\": \"#HDPyeDiz\\u00c7\\u00f6kt\\u00fcremeyeceksiniz\", \n",
      "    \"promoted_content\": null\n",
      "   }, \n",
      "   {\n",
      "    \"url\": \"http://twitter.com/search?q=%23%D8%B1%D9%86%D8%A7_%D8%B3%D9%85%D8%A7%D8%AD%D9%87_%D8%B9%D9%84%D9%8A_%D8%A7%D9%84%D9%81%D8%B6%D8%A7%D9%8A%D9%8A%D9%87_%D8%A7%D9%84%D9%85%D8%B5%D8%B1%D9%8A%D9%87\", \n",
      "    \"query\": \"%23%D8%B1%D9%86%D8%A7_%D8%B3%D9%85%D8%A7%D8%AD%D9%87_%D8%B9%D9%84%D9%8A_%D8%A7%D9%84%D9%81%D8%B6%D8%A7%D9%8A%D9%8A%D9%87_%D8%A7%D9%84%D9%85%D8%B5%D8%B1%D9%8A%D9%87\", \n",
      "    \"tweet_volume\": null, \n",
      "    \"name\": \"#\\u0631\\u0646\\u0627_\\u0633\\u0645\\u0627\\u062d\\u0647_\\u0639\\u0644\\u064a_\\u0627\\u0644\\u0641\\u0636\\u0627\\u064a\\u064a\\u0647_\\u0627\\u0644\\u0645\\u0635\\u0631\\u064a\\u0647\", \n",
      "    \"promoted_content\": null\n",
      "   }, \n",
      "   {\n",
      "    \"url\": \"http://twitter.com/search?q=%23leiene\", \n",
      "    \"query\": \"%23leiene\", \n",
      "    \"tweet_volume\": null, \n",
      "    \"name\": \"#leiene\", \n",
      "    \"promoted_content\": null\n",
      "   }, \n",
      "   {\n",
      "    \"url\": \"http://twitter.com/search?q=%23TeAconsejar%C3%ADaQue\", \n",
      "    \"query\": \"%23TeAconsejar%C3%ADaQue\", \n",
      "    \"tweet_volume\": null, \n",
      "    \"name\": \"#TeAconsejar\\u00edaQue\", \n",
      "    \"promoted_content\": null\n",
      "   }, \n",
      "   {\n",
      "    \"url\": \"http://twitter.com/search?q=%23FeriadoComTagueirosSdv\", \n",
      "    \"query\": \"%23FeriadoComTagueirosSdv\", \n",
      "    \"tweet_volume\": null, \n",
      "    \"name\": \"#FeriadoComTagueirosSdv\", \n",
      "    \"promoted_content\": null\n",
      "   }, \n",
      "   {\n",
      "    \"url\": \"http://twitter.com/search?q=%23%D8%AC%D9%86%D9%88%D8%A8%D9%8A%D8%A7%D8%AA_%D9%8A%D8%B7%D8%A7%D9%84%D8%A8%D9%88%D9%86_%D8%A8%D8%B1%D8%AF_%D8%A7%D8%B9%D8%AA%D8%A8%D8%A7%D8%B1%D9%87%D9%85\", \n",
      "    \"query\": \"%23%D8%AC%D9%86%D9%88%D8%A8%D9%8A%D8%A7%D8%AA_%D9%8A%D8%B7%D8%A7%D9%84%D8%A8%D9%88%D9%86_%D8%A8%D8%B1%D8%AF_%D8%A7%D8%B9%D8%AA%D8%A8%D8%A7%D8%B1%D9%87%D9%85\", \n",
      "    \"tweet_volume\": 20710, \n",
      "    \"name\": \"#\\u062c\\u0646\\u0648\\u0628\\u064a\\u0627\\u062a_\\u064a\\u0637\\u0627\\u0644\\u0628\\u0648\\u0646_\\u0628\\u0631\\u062f_\\u0627\\u0639\\u062a\\u0628\\u0627\\u0631\\u0647\\u0645\", \n",
      "    \"promoted_content\": null\n",
      "   }, \n",
      "   {\n",
      "    \"url\": \"http://twitter.com/search?q=%23CelebJuice\", \n",
      "    \"query\": \"%23CelebJuice\", \n",
      "    \"tweet_volume\": null, \n",
      "    \"name\": \"#CelebJuice\", \n",
      "    \"promoted_content\": null\n",
      "   }, \n",
      "   {\n",
      "    \"url\": \"http://twitter.com/search?q=%23TodosPorEcuador\", \n",
      "    \"query\": \"%23TodosPorEcuador\", \n",
      "    \"tweet_volume\": 23506, \n",
      "    \"name\": \"#TodosPorEcuador\", \n",
      "    \"promoted_content\": null\n",
      "   }, \n",
      "   {\n",
      "    \"url\": \"http://twitter.com/search?q=%23Saudivision2030\", \n",
      "    \"query\": \"%23Saudivision2030\", \n",
      "    \"tweet_volume\": null, \n",
      "    \"name\": \"#Saudivision2030\", \n",
      "    \"promoted_content\": null\n",
      "   }, \n",
      "   {\n",
      "    \"url\": \"http://twitter.com/search?q=%23FreeKodak\", \n",
      "    \"query\": \"%23FreeKodak\", \n",
      "    \"tweet_volume\": null, \n",
      "    \"name\": \"#FreeKodak\", \n",
      "    \"promoted_content\": null\n",
      "   }, \n",
      "   {\n",
      "    \"url\": \"http://twitter.com/search?q=%23bpw16\", \n",
      "    \"query\": \"%23bpw16\", \n",
      "    \"tweet_volume\": null, \n",
      "    \"name\": \"#bpw16\", \n",
      "    \"promoted_content\": null\n",
      "   }\n",
      "  ], \n",
      "  \"as_of\": \"2016-04-21T22:17:34Z\", \n",
      "  \"locations\": [\n",
      "   {\n",
      "    \"woeid\": 1, \n",
      "    \"name\": \"Worldwide\"\n",
      "   }\n",
      "  ]\n",
      " }\n",
      "]\n",
      "\n",
      "[\n",
      " {\n",
      "  \"created_at\": \"2016-04-21T22:09:40Z\", \n",
      "  \"trends\": [\n",
      "   {\n",
      "    \"url\": \"http://twitter.com/search?q=Prince\", \n",
      "    \"query\": \"Prince\", \n",
      "    \"tweet_volume\": 5473447, \n",
      "    \"name\": \"Prince\", \n",
      "    \"promoted_content\": null\n",
      "   }, \n",
      "   {\n",
      "    \"url\": \"http://twitter.com/search?q=%23RIPAmy\", \n",
      "    \"query\": \"%23RIPAmy\", \n",
      "    \"tweet_volume\": 71133, \n",
      "    \"name\": \"#RIPAmy\", \n",
      "    \"promoted_content\": null\n",
      "   }, \n",
      "   {\n",
      "    \"url\": \"http://twitter.com/search?q=%22Blac+Chyna%22\", \n",
      "    \"query\": \"%22Blac+Chyna%22\", \n",
      "    \"tweet_volume\": 40566, \n",
      "    \"name\": \"Blac Chyna\", \n",
      "    \"promoted_content\": null\n",
      "   }, \n",
      "   {\n",
      "    \"url\": \"http://twitter.com/search?q=%22Scott+Brooks%22\", \n",
      "    \"query\": \"%22Scott+Brooks%22\", \n",
      "    \"tweet_volume\": 11029, \n",
      "    \"name\": \"Scott Brooks\", \n",
      "    \"promoted_content\": null\n",
      "   }, \n",
      "   {\n",
      "    \"url\": \"http://twitter.com/search?q=%23NationalHighFiveDay\", \n",
      "    \"query\": \"%23NationalHighFiveDay\", \n",
      "    \"tweet_volume\": 25318, \n",
      "    \"name\": \"#NationalHighFiveDay\", \n",
      "    \"promoted_content\": null\n",
      "   }, \n",
      "   {\n",
      "    \"url\": \"http://twitter.com/search?q=%23TheMomentIBecameAnAdult\", \n",
      "    \"query\": \"%23TheMomentIBecameAnAdult\", \n",
      "    \"tweet_volume\": null, \n",
      "    \"name\": \"#TheMomentIBecameAnAdult\", \n",
      "    \"promoted_content\": null\n",
      "   }, \n",
      "   {\n",
      "    \"url\": \"http://twitter.com/search?q=%22Jimmy+Johns%22\", \n",
      "    \"query\": \"%22Jimmy+Johns%22\", \n",
      "    \"tweet_volume\": 50971, \n",
      "    \"name\": \"Jimmy Johns\", \n",
      "    \"promoted_content\": null\n",
      "   }, \n",
      "   {\n",
      "    \"url\": \"http://twitter.com/search?q=Miguel\", \n",
      "    \"query\": \"Miguel\", \n",
      "    \"tweet_volume\": 72647, \n",
      "    \"name\": \"Miguel\", \n",
      "    \"promoted_content\": null\n",
      "   }, \n",
      "   {\n",
      "    \"url\": \"http://twitter.com/search?q=%23JamesIsNotAPlasticBag\", \n",
      "    \"query\": \"%23JamesIsNotAPlasticBag\", \n",
      "    \"tweet_volume\": 18851, \n",
      "    \"name\": \"#JamesIsNotAPlasticBag\", \n",
      "    \"promoted_content\": null\n",
      "   }, \n",
      "   {\n",
      "    \"url\": \"http://twitter.com/search?q=%23MakeMeCryRelease\", \n",
      "    \"query\": \"%23MakeMeCryRelease\", \n",
      "    \"tweet_volume\": null, \n",
      "    \"name\": \"#MakeMeCryRelease\", \n",
      "    \"promoted_content\": null\n",
      "   }, \n",
      "   {\n",
      "    \"url\": \"http://twitter.com/search?q=%22Dear+2016%22\", \n",
      "    \"query\": \"%22Dear+2016%22\", \n",
      "    \"tweet_volume\": null, \n",
      "    \"name\": \"Dear 2016\", \n",
      "    \"promoted_content\": null\n",
      "   }, \n",
      "   {\n",
      "    \"url\": \"http://twitter.com/search?q=%22Charlie+Murphy%22\", \n",
      "    \"query\": \"%22Charlie+Murphy%22\", \n",
      "    \"tweet_volume\": null, \n",
      "    \"name\": \"Charlie Murphy\", \n",
      "    \"promoted_content\": null\n",
      "   }, \n",
      "   {\n",
      "    \"url\": \"http://twitter.com/search?q=%22Erotic+City%22\", \n",
      "    \"query\": \"%22Erotic+City%22\", \n",
      "    \"tweet_volume\": null, \n",
      "    \"name\": \"Erotic City\", \n",
      "    \"promoted_content\": null\n",
      "   }, \n",
      "   {\n",
      "    \"url\": \"http://twitter.com/search?q=%22Under+the+Cherry+Moon%22\", \n",
      "    \"query\": \"%22Under+the+Cherry+Moon%22\", \n",
      "    \"tweet_volume\": null, \n",
      "    \"name\": \"Under the Cherry Moon\", \n",
      "    \"promoted_content\": null\n",
      "   }, \n",
      "   {\n",
      "    \"url\": \"http://twitter.com/search?q=%22The+Kardashians%22\", \n",
      "    \"query\": \"%22The+Kardashians%22\", \n",
      "    \"tweet_volume\": null, \n",
      "    \"name\": \"The Kardashians\", \n",
      "    \"promoted_content\": null\n",
      "   }, \n",
      "   {\n",
      "    \"url\": \"http://twitter.com/search?q=%22Shelby+Miller%22\", \n",
      "    \"query\": \"%22Shelby+Miller%22\", \n",
      "    \"tweet_volume\": null, \n",
      "    \"name\": \"Shelby Miller\", \n",
      "    \"promoted_content\": null\n",
      "   }, \n",
      "   {\n",
      "    \"url\": \"http://twitter.com/search?q=%23askfredo\", \n",
      "    \"query\": \"%23askfredo\", \n",
      "    \"tweet_volume\": null, \n",
      "    \"name\": \"#askfredo\", \n",
      "    \"promoted_content\": null\n",
      "   }\n",
      "  ], \n",
      "  \"as_of\": \"2016-04-21T22:17:35Z\", \n",
      "  \"locations\": [\n",
      "   {\n",
      "    \"woeid\": 23424977, \n",
      "    \"name\": \"United States\"\n",
      "   }\n",
      "  ]\n",
      " }\n",
      "]\n"
     ]
    }
   ],
   "source": [
    "import json\n",
    "\n",
    "print json.dumps(world_trends, indent=1)\n",
    "print\n",
    "print json.dumps(us_trends, indent=1)"
   ]
  },
  {
   "cell_type": "code",
   "execution_count": 4,
   "metadata": {
    "collapsed": false
   },
   "outputs": [
    {
     "name": "stdout",
     "output_type": "stream",
     "text": [
      "set([u'Scott Brooks', u'Blac Chyna', u'#NationalHighFiveDay', u'#JamesIsNotAPlasticBag', u'#RIPAmy', u'Prince', u'#TheMomentIBecameAnAdult'])\n"
     ]
    }
   ],
   "source": [
    "world_trends_set = set([trend['name'] \n",
    "                        for trend in world_trends[0]['trends']])\n",
    "\n",
    "us_trends_set = set([trend['name'] \n",
    "                     for trend in us_trends[0]['trends']]) \n",
    "\n",
    "common_trends = world_trends_set.intersection(us_trends_set)\n",
    "\n",
    "print common_trends"
   ]
  },
  {
   "cell_type": "code",
   "execution_count": 5,
   "metadata": {
    "collapsed": false,
    "scrolled": true
   },
   "outputs": [
    {
     "ename": "TwitterHTTPError",
     "evalue": "Twitter sent status 429 for URL: 1.1/search/tweets.json using parameters: (count=100&oauth_consumer_key=KBx5ff3Km0q8s7ESa7G6ZWWcE&oauth_nonce=18161191396454690282&oauth_signature_method=HMAC-SHA1&oauth_timestamp=1461277055&oauth_version=1.0&q=%23sanders&oauth_signature=wnLktP4qb6PqB96WDJ2UNgtcAxk%3D)\ndetails: {u'errors': [{u'message': u'Rate limit exceeded', u'code': 88}]}",
     "output_type": "error",
     "traceback": [
      "\u001b[1;31m---------------------------------------------------------------------------\u001b[0m",
      "\u001b[1;31mTwitterHTTPError\u001b[0m                          Traceback (most recent call last)",
      "\u001b[1;32m<ipython-input-5-ec047a7cc563>\u001b[0m in \u001b[0;36m<module>\u001b[1;34m()\u001b[0m\n\u001b[0;32m     10\u001b[0m \u001b[1;31m# See https://dev.twitter.com/docs/api/1.1/get/search/tweets\u001b[0m\u001b[1;33m\u001b[0m\u001b[1;33m\u001b[0m\u001b[0m\n\u001b[0;32m     11\u001b[0m \u001b[1;33m\u001b[0m\u001b[0m\n\u001b[1;32m---> 12\u001b[1;33m \u001b[0msearch_results\u001b[0m \u001b[1;33m=\u001b[0m \u001b[0mtwitter_api\u001b[0m\u001b[1;33m.\u001b[0m\u001b[0msearch\u001b[0m\u001b[1;33m.\u001b[0m\u001b[0mtweets\u001b[0m\u001b[1;33m(\u001b[0m\u001b[0mq\u001b[0m\u001b[1;33m=\u001b[0m\u001b[0mq\u001b[0m\u001b[1;33m,\u001b[0m \u001b[0mcount\u001b[0m\u001b[1;33m=\u001b[0m\u001b[0mcount\u001b[0m\u001b[1;33m)\u001b[0m\u001b[1;33m\u001b[0m\u001b[0m\n\u001b[0m\u001b[0;32m     13\u001b[0m \u001b[1;33m\u001b[0m\u001b[0m\n\u001b[0;32m     14\u001b[0m \u001b[0mstatuses\u001b[0m \u001b[1;33m=\u001b[0m \u001b[0msearch_results\u001b[0m\u001b[1;33m[\u001b[0m\u001b[1;34m'statuses'\u001b[0m\u001b[1;33m]\u001b[0m\u001b[1;33m\u001b[0m\u001b[0m\n",
      "\u001b[1;32m/usr/local/lib/python2.7/dist-packages/twitter/api.pyc\u001b[0m in \u001b[0;36m__call__\u001b[1;34m(self, **kwargs)\u001b[0m\n\u001b[0;32m    310\u001b[0m             \u001b[1;32mreturn\u001b[0m \u001b[0mself\u001b[0m\u001b[1;33m.\u001b[0m\u001b[0m_handle_response_with_retry\u001b[0m\u001b[1;33m(\u001b[0m\u001b[0mreq\u001b[0m\u001b[1;33m,\u001b[0m \u001b[0muri\u001b[0m\u001b[1;33m,\u001b[0m \u001b[0marg_data\u001b[0m\u001b[1;33m,\u001b[0m \u001b[0m_timeout\u001b[0m\u001b[1;33m)\u001b[0m\u001b[1;33m\u001b[0m\u001b[0m\n\u001b[0;32m    311\u001b[0m         \u001b[1;32melse\u001b[0m\u001b[1;33m:\u001b[0m\u001b[1;33m\u001b[0m\u001b[0m\n\u001b[1;32m--> 312\u001b[1;33m             \u001b[1;32mreturn\u001b[0m \u001b[0mself\u001b[0m\u001b[1;33m.\u001b[0m\u001b[0m_handle_response\u001b[0m\u001b[1;33m(\u001b[0m\u001b[0mreq\u001b[0m\u001b[1;33m,\u001b[0m \u001b[0muri\u001b[0m\u001b[1;33m,\u001b[0m \u001b[0marg_data\u001b[0m\u001b[1;33m,\u001b[0m \u001b[0m_timeout\u001b[0m\u001b[1;33m)\u001b[0m\u001b[1;33m\u001b[0m\u001b[0m\n\u001b[0m\u001b[0;32m    313\u001b[0m \u001b[1;33m\u001b[0m\u001b[0m\n\u001b[0;32m    314\u001b[0m     \u001b[1;32mdef\u001b[0m \u001b[0m_handle_response\u001b[0m\u001b[1;33m(\u001b[0m\u001b[0mself\u001b[0m\u001b[1;33m,\u001b[0m \u001b[0mreq\u001b[0m\u001b[1;33m,\u001b[0m \u001b[0muri\u001b[0m\u001b[1;33m,\u001b[0m \u001b[0marg_data\u001b[0m\u001b[1;33m,\u001b[0m \u001b[0m_timeout\u001b[0m\u001b[1;33m=\u001b[0m\u001b[0mNone\u001b[0m\u001b[1;33m)\u001b[0m\u001b[1;33m:\u001b[0m\u001b[1;33m\u001b[0m\u001b[0m\n",
      "\u001b[1;32m/usr/local/lib/python2.7/dist-packages/twitter/api.pyc\u001b[0m in \u001b[0;36m_handle_response\u001b[1;34m(self, req, uri, arg_data, _timeout)\u001b[0m\n\u001b[0;32m    343\u001b[0m                 \u001b[1;32mreturn\u001b[0m \u001b[1;33m[\u001b[0m\u001b[1;33m]\u001b[0m\u001b[1;33m\u001b[0m\u001b[0m\n\u001b[0;32m    344\u001b[0m             \u001b[1;32melse\u001b[0m\u001b[1;33m:\u001b[0m\u001b[1;33m\u001b[0m\u001b[0m\n\u001b[1;32m--> 345\u001b[1;33m                 \u001b[1;32mraise\u001b[0m \u001b[0mTwitterHTTPError\u001b[0m\u001b[1;33m(\u001b[0m\u001b[0me\u001b[0m\u001b[1;33m,\u001b[0m \u001b[0muri\u001b[0m\u001b[1;33m,\u001b[0m \u001b[0mself\u001b[0m\u001b[1;33m.\u001b[0m\u001b[0mformat\u001b[0m\u001b[1;33m,\u001b[0m \u001b[0marg_data\u001b[0m\u001b[1;33m)\u001b[0m\u001b[1;33m\u001b[0m\u001b[0m\n\u001b[0m\u001b[0;32m    346\u001b[0m \u001b[1;33m\u001b[0m\u001b[0m\n\u001b[0;32m    347\u001b[0m     \u001b[1;32mdef\u001b[0m \u001b[0m_handle_response_with_retry\u001b[0m\u001b[1;33m(\u001b[0m\u001b[0mself\u001b[0m\u001b[1;33m,\u001b[0m \u001b[0mreq\u001b[0m\u001b[1;33m,\u001b[0m \u001b[0muri\u001b[0m\u001b[1;33m,\u001b[0m \u001b[0marg_data\u001b[0m\u001b[1;33m,\u001b[0m \u001b[0m_timeout\u001b[0m\u001b[1;33m=\u001b[0m\u001b[0mNone\u001b[0m\u001b[1;33m)\u001b[0m\u001b[1;33m:\u001b[0m\u001b[1;33m\u001b[0m\u001b[0m\n",
      "\u001b[1;31mTwitterHTTPError\u001b[0m: Twitter sent status 429 for URL: 1.1/search/tweets.json using parameters: (count=100&oauth_consumer_key=KBx5ff3Km0q8s7ESa7G6ZWWcE&oauth_nonce=18161191396454690282&oauth_signature_method=HMAC-SHA1&oauth_timestamp=1461277055&oauth_version=1.0&q=%23sanders&oauth_signature=wnLktP4qb6PqB96WDJ2UNgtcAxk%3D)\ndetails: {u'errors': [{u'message': u'Rate limit exceeded', u'code': 88}]}"
     ]
    }
   ],
   "source": [
    "# XXX: Set this variable to a trending topic, \n",
    "# or anything else for that matter. The example query below\n",
    "# was a trending topic when this content was being developed\n",
    "# and is used throughout the remainder of this chapter.\n",
    "\n",
    "q = '#sanders' \n",
    "\n",
    "count = 100\n",
    "\n",
    "# See https://dev.twitter.com/docs/api/1.1/get/search/tweets\n",
    "\n",
    "search_results = twitter_api.search.tweets(q=q, count=count)\n",
    "\n",
    "statuses = search_results['statuses']\n",
    "\n",
    "\n",
    "# Iterate through 5 more batches of results by following the cursor\n",
    "\n",
    "for _ in range(5):\n",
    "    print \"Length of statuses\", len(statuses)\n",
    "    try:\n",
    "        next_results = search_results['search_metadata']['next_results']\n",
    "    except KeyError, e: # No more results when next_results doesn't exist\n",
    "        break\n",
    "        \n",
    "    # Create a dictionary from next_results, which has the following form:\n",
    "    # ?max_id=313519052523986943&q=NCAA&include_entities=1\n",
    "    kwargs = dict([ kv.split('=') for kv in next_results[1:].split(\"&\") ])\n",
    "    \n",
    "    search_results = twitter_api.search.tweets(**kwargs)\n",
    "    statuses += search_results['statuses']\n",
    "\n",
    "# Show one sample search result by slicing the list...\n",
    "print json.dumps(statuses[0], indent=1)"
   ]
  },
  {
   "cell_type": "code",
   "execution_count": null,
   "metadata": {
    "collapsed": true
   },
   "outputs": [],
   "source": [
    "import json\n",
    "# statuses = json.loads(open('resources/ch01-twitter/data/sanders.json').read())\n",
    "\n",
    "# The result of the list comprehension is a list with only one element that\n",
    "# can be accessed by its index and set to the variable t\n",
    "t = [ status \n",
    "      for status in statuses\n",
    "          if status['id'] == 717529748881145856 ][0]\n",
    "\n",
    "# Explore the variable t to get familiarized with the data structure...\n",
    "\n",
    "print t['retweet_count']\n",
    "print t['retweeted_status']\n",
    "\n",
    "# Can you find the most retweeted tweet in your search results? Try do do it!"
   ]
  },
  {
   "cell_type": "code",
   "execution_count": null,
   "metadata": {
    "collapsed": false
   },
   "outputs": [],
   "source": [
    "status_texts = [ status['text'] \n",
    "                 for status in statuses ]\n",
    "\n",
    "screen_names = [ user_mention['screen_name'] \n",
    "                 for status in statuses\n",
    "                     for user_mention in status['entities']['user_mentions'] ]\n",
    "\n",
    "hashtags = [ hashtag['text'] \n",
    "             for status in statuses\n",
    "                 for hashtag in status['entities']['hashtags'] ]\n",
    "\n",
    "# Compute a collection of all words from all tweets\n",
    "words = [ w \n",
    "          for t in status_texts \n",
    "              for w in t.split() ]\n",
    "\n",
    "# Explore the first 5 items for each...\n",
    "\n",
    "print json.dumps(status_texts[0:5], indent=1)\n",
    "print json.dumps(screen_names[0:5], indent=1) \n",
    "print json.dumps(hashtags[0:5], indent=1)\n",
    "print json.dumps(words[0:5], indent=1)"
   ]
  },
  {
   "cell_type": "code",
   "execution_count": null,
   "metadata": {
    "collapsed": false
   },
   "outputs": [],
   "source": [
    "from collections import Counter\n",
    "\n",
    "for item in [words, screen_names, hashtags]:\n",
    "    c = Counter(item)\n",
    "    print c.most_common()[:10] # top 10\n",
    "    print"
   ]
  },
  {
   "cell_type": "code",
   "execution_count": 6,
   "metadata": {
    "collapsed": false
   },
   "outputs": [
    {
     "ename": "NameError",
     "evalue": "name 'words' is not defined",
     "output_type": "error",
     "traceback": [
      "\u001b[1;31m---------------------------------------------------------------------------\u001b[0m",
      "\u001b[1;31mNameError\u001b[0m                                 Traceback (most recent call last)",
      "\u001b[1;32m<ipython-input-6-766a6a42c202>\u001b[0m in \u001b[0;36m<module>\u001b[1;34m()\u001b[0m\n\u001b[0;32m      1\u001b[0m \u001b[1;32mfrom\u001b[0m \u001b[0mprettytable\u001b[0m \u001b[1;32mimport\u001b[0m \u001b[0mPrettyTable\u001b[0m\u001b[1;33m\u001b[0m\u001b[0m\n\u001b[0;32m      2\u001b[0m \u001b[1;33m\u001b[0m\u001b[0m\n\u001b[1;32m----> 3\u001b[1;33m for label, data in (('Word', words), \n\u001b[0m\u001b[0;32m      4\u001b[0m                     \u001b[1;33m(\u001b[0m\u001b[1;34m'Screen Name'\u001b[0m\u001b[1;33m,\u001b[0m \u001b[0mscreen_names\u001b[0m\u001b[1;33m)\u001b[0m\u001b[1;33m,\u001b[0m\u001b[1;33m\u001b[0m\u001b[0m\n\u001b[0;32m      5\u001b[0m                     ('Hashtag', hashtags)):\n",
      "\u001b[1;31mNameError\u001b[0m: name 'words' is not defined"
     ]
    }
   ],
   "source": [
    "from prettytable import PrettyTable\n",
    "\n",
    "for label, data in (('Word', words), \n",
    "                    ('Screen Name', screen_names), \n",
    "                    ('Hashtag', hashtags)):\n",
    "    pt = PrettyTable(field_names=[label, 'Count']) \n",
    "    c = Counter(data)\n",
    "    [ pt.add_row(kv) for kv in c.most_common()[:10] ]\n",
    "    pt.align[label], pt.align['Count'] = 'l', 'r' # Set column alignment\n",
    "    print pt"
   ]
  },
  {
   "cell_type": "code",
   "execution_count": 7,
   "metadata": {
    "collapsed": false
   },
   "outputs": [
    {
     "ename": "NameError",
     "evalue": "name 'words' is not defined",
     "output_type": "error",
     "traceback": [
      "\u001b[1;31m---------------------------------------------------------------------------\u001b[0m",
      "\u001b[1;31mNameError\u001b[0m                                 Traceback (most recent call last)",
      "\u001b[1;32m<ipython-input-7-19fad7a8a73e>\u001b[0m in \u001b[0;36m<module>\u001b[1;34m()\u001b[0m\n\u001b[0;32m      8\u001b[0m     \u001b[1;32mreturn\u001b[0m \u001b[1;36m1.0\u001b[0m\u001b[1;33m*\u001b[0m\u001b[0mtotal_words\u001b[0m\u001b[1;33m/\u001b[0m\u001b[0mlen\u001b[0m\u001b[1;33m(\u001b[0m\u001b[0mstatuses\u001b[0m\u001b[1;33m)\u001b[0m\u001b[1;33m\u001b[0m\u001b[0m\n\u001b[0;32m      9\u001b[0m \u001b[1;33m\u001b[0m\u001b[0m\n\u001b[1;32m---> 10\u001b[1;33m \u001b[1;32mprint\u001b[0m \u001b[0mlexical_diversity\u001b[0m\u001b[1;33m(\u001b[0m\u001b[0mwords\u001b[0m\u001b[1;33m)\u001b[0m\u001b[1;33m\u001b[0m\u001b[0m\n\u001b[0m\u001b[0;32m     11\u001b[0m \u001b[1;32mprint\u001b[0m \u001b[0mlexical_diversity\u001b[0m\u001b[1;33m(\u001b[0m\u001b[0mscreen_names\u001b[0m\u001b[1;33m)\u001b[0m\u001b[1;33m\u001b[0m\u001b[0m\n\u001b[0;32m     12\u001b[0m \u001b[1;32mprint\u001b[0m \u001b[0mlexical_diversity\u001b[0m\u001b[1;33m(\u001b[0m\u001b[0mhashtags\u001b[0m\u001b[1;33m)\u001b[0m\u001b[1;33m\u001b[0m\u001b[0m\n",
      "\u001b[1;31mNameError\u001b[0m: name 'words' is not defined"
     ]
    }
   ],
   "source": [
    "# A function for computing lexical diversity\n",
    "def lexical_diversity(tokens):\n",
    "    return 1.0*len(set(tokens))/len(tokens) \n",
    "\n",
    "# A function for computing the average number of words per tweet\n",
    "def average_words(statuses):\n",
    "    total_words = sum([ len(s.split()) for s in statuses ]) \n",
    "    return 1.0*total_words/len(statuses)\n",
    "\n",
    "print lexical_diversity(words)\n",
    "print lexical_diversity(screen_names)\n",
    "print lexical_diversity(hashtags)\n",
    "print average_words(status_texts)"
   ]
  },
  {
   "cell_type": "code",
   "execution_count": 8,
   "metadata": {
    "collapsed": false
   },
   "outputs": [
    {
     "ename": "NameError",
     "evalue": "name 'statuses' is not defined",
     "output_type": "error",
     "traceback": [
      "\u001b[1;31m---------------------------------------------------------------------------\u001b[0m",
      "\u001b[1;31mNameError\u001b[0m                                 Traceback (most recent call last)",
      "\u001b[1;32m<ipython-input-8-c38e5fce73f0>\u001b[0m in \u001b[0;36m<module>\u001b[1;34m()\u001b[0m\n\u001b[0;32m      6\u001b[0m \u001b[1;33m\u001b[0m\u001b[0m\n\u001b[0;32m      7\u001b[0m             \u001b[1;31m# ... for each status ...\u001b[0m\u001b[1;33m\u001b[0m\u001b[1;33m\u001b[0m\u001b[0m\n\u001b[1;32m----> 8\u001b[1;33m             \u001b[1;32mfor\u001b[0m \u001b[0mstatus\u001b[0m \u001b[1;32min\u001b[0m \u001b[0mstatuses\u001b[0m\u001b[1;33m\u001b[0m\u001b[0m\n\u001b[0m\u001b[0;32m      9\u001b[0m \u001b[1;33m\u001b[0m\u001b[0m\n\u001b[0;32m     10\u001b[0m             \u001b[1;31m# ... so long as the status meets this condition.\u001b[0m\u001b[1;33m\u001b[0m\u001b[1;33m\u001b[0m\u001b[0m\n",
      "\u001b[1;31mNameError\u001b[0m: name 'statuses' is not defined"
     ]
    }
   ],
   "source": [
    "retweets = [\n",
    "            # Store out a tuple of these three values ...\n",
    "            (status['retweet_count'], \n",
    "             status['retweeted_status']['user']['screen_name'],\n",
    "             status['text']) \n",
    "            \n",
    "            # ... for each status ...\n",
    "            for status in statuses \n",
    "            \n",
    "            # ... so long as the status meets this condition.\n",
    "                if status.has_key('retweeted_status')\n",
    "           ]\n",
    "\n",
    "# Slice off the first 5 from the sorted results and display each item in the tuple\n",
    "\n",
    "pt = PrettyTable(field_names=['Count', 'Screen Name', 'Text'])\n",
    "[ pt.add_row(row) for row in sorted(retweets, reverse=True)[:5] ]\n",
    "pt.max_width['Text'] = 50\n",
    "pt.align= 'l'\n",
    "print pt"
   ]
  },
  {
   "cell_type": "code",
   "execution_count": 9,
   "metadata": {
    "collapsed": false
   },
   "outputs": [
    {
     "name": "stdout",
     "output_type": "stream",
     "text": [
      "[u'melissacaaag', u'jyeee', u'Ceejaynatics', u'ikaayyy_', u'RafaellaaaMae', u'LoveKyana18', u'iiaamcamillee', u'kidamgos', u'shangxshang', u'asdfghjbl', u'Papagars__']\n"
     ]
    }
   ],
   "source": [
    "# Get the original tweet id for a tweet from its retweeted_status node \n",
    "# and insert it here in place of the sample value that is provided\n",
    "# from the text of the book\n",
    "\n",
    "_retweets = twitter_api.statuses.retweets(id=317127304981667841)\n",
    "print [r['user']['screen_name'] for r in _retweets]"
   ]
  },
  {
   "cell_type": "code",
   "execution_count": 10,
   "metadata": {
    "collapsed": false
   },
   "outputs": [
    {
     "ename": "NameError",
     "evalue": "name 'Counter' is not defined",
     "output_type": "error",
     "traceback": [
      "\u001b[1;31m---------------------------------------------------------------------------\u001b[0m",
      "\u001b[1;31mNameError\u001b[0m                                 Traceback (most recent call last)",
      "\u001b[1;32m<ipython-input-10-65958f71acdd>\u001b[0m in \u001b[0;36m<module>\u001b[1;34m()\u001b[0m\n\u001b[0;32m      1\u001b[0m \u001b[0mget_ipython\u001b[0m\u001b[1;33m(\u001b[0m\u001b[1;33m)\u001b[0m\u001b[1;33m.\u001b[0m\u001b[0mmagic\u001b[0m\u001b[1;33m(\u001b[0m\u001b[1;34mu'matplotlib inline'\u001b[0m\u001b[1;33m)\u001b[0m\u001b[1;33m\u001b[0m\u001b[0m\n\u001b[0;32m      2\u001b[0m \u001b[1;32mimport\u001b[0m \u001b[0mmatplotlib\u001b[0m\u001b[1;33m.\u001b[0m\u001b[0mpyplot\u001b[0m \u001b[1;32mas\u001b[0m \u001b[0mplt\u001b[0m\u001b[1;33m\u001b[0m\u001b[0m\n\u001b[1;32m----> 3\u001b[1;33m \u001b[0mword_counts\u001b[0m \u001b[1;33m=\u001b[0m \u001b[0msorted\u001b[0m\u001b[1;33m(\u001b[0m\u001b[0mCounter\u001b[0m\u001b[1;33m(\u001b[0m\u001b[0mwords\u001b[0m\u001b[1;33m)\u001b[0m\u001b[1;33m.\u001b[0m\u001b[0mvalues\u001b[0m\u001b[1;33m(\u001b[0m\u001b[1;33m)\u001b[0m\u001b[1;33m,\u001b[0m \u001b[0mreverse\u001b[0m\u001b[1;33m=\u001b[0m\u001b[0mTrue\u001b[0m\u001b[1;33m)\u001b[0m\u001b[1;33m\u001b[0m\u001b[0m\n\u001b[0m\u001b[0;32m      4\u001b[0m \u001b[1;33m\u001b[0m\u001b[0m\n\u001b[0;32m      5\u001b[0m \u001b[0mplt\u001b[0m\u001b[1;33m.\u001b[0m\u001b[0mloglog\u001b[0m\u001b[1;33m(\u001b[0m\u001b[0mword_counts\u001b[0m\u001b[1;33m)\u001b[0m\u001b[1;33m\u001b[0m\u001b[0m\n",
      "\u001b[1;31mNameError\u001b[0m: name 'Counter' is not defined"
     ]
    }
   ],
   "source": [
    "%matplotlib inline\n",
    "import matplotlib.pyplot as plt\n",
    "word_counts = sorted(Counter(words).values(), reverse=True)\n",
    "\n",
    "plt.loglog(word_counts)\n",
    "plt.ylabel(\"Freq\")\n",
    "plt.xlabel(\"Word Rank\")"
   ]
  },
  {
   "cell_type": "code",
   "execution_count": null,
   "metadata": {
    "collapsed": false
   },
   "outputs": [],
   "source": [
    "for label, data in (('Words', words), \n",
    "                    ('Screen Names', screen_names), \n",
    "                    ('Hashtags', hashtags)):\n",
    "\n",
    "    # Build a frequency map for each set of data\n",
    "    # and plot the values\n",
    "    c = Counter(data)\n",
    "    plt.hist(c.values())\n",
    "    \n",
    "    # Add a title and y-label ...\n",
    "    plt.title(label)\n",
    "    plt.ylabel(\"Number of items in bin\")\n",
    "    plt.xlabel(\"Bins (number of times an item appeared)\")\n",
    "    \n",
    "    # ... and display as a new figure\n",
    "    plt.figure()"
   ]
  },
  {
   "cell_type": "code",
   "execution_count": null,
   "metadata": {
    "collapsed": false
   },
   "outputs": [],
   "source": [
    "# Using underscores while unpacking values in\n",
    "# a tuple is idiomatic for discarding them\n",
    "\n",
    "counts = [count for count, _, _ in retweets]\n",
    "\n",
    "plt.hist(counts)\n",
    "plt.title(\"Retweets\")\n",
    "plt.xlabel('Bins (number of times retweeted)')\n",
    "plt.ylabel('Number of tweets in bin')\n",
    "\n",
    "print counts"
   ]
  },
  {
   "cell_type": "code",
   "execution_count": null,
   "metadata": {
    "collapsed": false,
    "scrolled": true
   },
   "outputs": [],
   "source": []
  },
  {
   "cell_type": "code",
   "execution_count": null,
   "metadata": {
    "collapsed": true
   },
   "outputs": [],
   "source": []
  },
  {
   "cell_type": "code",
   "execution_count": null,
   "metadata": {
    "collapsed": true
   },
   "outputs": [],
   "source": []
  },
  {
   "cell_type": "code",
   "execution_count": null,
   "metadata": {
    "collapsed": true
   },
   "outputs": [],
   "source": []
  },
  {
   "cell_type": "code",
   "execution_count": 1,
   "metadata": {
    "collapsed": false
   },
   "outputs": [
    {
     "name": "stdout",
     "output_type": "stream",
     "text": [
      "Score with the entire dataset = 0.56\n",
      "Score without the samples containing missing values = 0.49\n",
      "Score after imputation of the missing values = 0.57\n"
     ]
    }
   ],
   "source": [
    "import numpy as np\n",
    "\n",
    "from sklearn.datasets import load_boston\n",
    "from sklearn.ensemble import RandomForestRegressor\n",
    "from sklearn.pipeline import Pipeline\n",
    "from sklearn.preprocessing import Imputer\n",
    "from sklearn.cross_validation import cross_val_score\n",
    "\n",
    "rng = np.random.RandomState(0)\n",
    "\n",
    "dataset = load_boston()\n",
    "X_full, y_full = dataset.data, dataset.target\n",
    "n_samples = X_full.shape[0]\n",
    "n_features = X_full.shape[1]\n",
    "\n",
    "# Estimate the score on the entire dataset, with no missing values\n",
    "estimator = RandomForestRegressor(random_state=0, n_estimators=100)\n",
    "score = cross_val_score(estimator, X_full, y_full).mean()\n",
    "print(\"Score with the entire dataset = %.2f\" % score)\n",
    "\n",
    "# Add missing values in 75% of the lines\n",
    "missing_rate = 0.75\n",
    "n_missing_samples = np.floor(n_samples * missing_rate)\n",
    "missing_samples = np.hstack((np.zeros(n_samples - n_missing_samples,\n",
    "                                      dtype=np.bool),\n",
    "                             np.ones(n_missing_samples,\n",
    "                                     dtype=np.bool)))\n",
    "rng.shuffle(missing_samples)\n",
    "missing_features = rng.randint(0, n_features, n_missing_samples)\n",
    "\n",
    "# Estimate the score without the lines containing missing values\n",
    "X_filtered = X_full[~missing_samples, :]\n",
    "y_filtered = y_full[~missing_samples]\n",
    "estimator = RandomForestRegressor(random_state=0, n_estimators=100)\n",
    "score = cross_val_score(estimator, X_filtered, y_filtered).mean()\n",
    "print(\"Score without the samples containing missing values = %.2f\" % score)\n",
    "\n",
    "# Estimate the score after imputation of the missing values\n",
    "X_missing = X_full.copy()\n",
    "X_missing[np.where(missing_samples)[0], missing_features] = 0\n",
    "y_missing = y_full.copy()\n",
    "estimator = Pipeline([(\"imputer\", Imputer(missing_values=0,\n",
    "                                          strategy=\"mean\",\n",
    "                                          axis=0)),\n",
    "                      (\"forest\", RandomForestRegressor(random_state=0,\n",
    "                                                       n_estimators=100))])\n",
    "score = cross_val_score(estimator, X_missing, y_missing).mean()\n",
    "print(\"Score after imputation of the missing values = %.2f\" % score)"
   ]
  },
  {
   "cell_type": "code",
   "execution_count": null,
   "metadata": {
    "collapsed": true
   },
   "outputs": [],
   "source": []
  },
  {
   "cell_type": "code",
   "execution_count": 11,
   "metadata": {
    "collapsed": false
   },
   "outputs": [],
   "source": [
    "import json\n",
    "\n",
    "f = open('twitterOutput2.txt', 'r+')\n",
    "arr = f.read().split('Peppa\\n')\n",
    "i = 0\n",
    "dictz = {}\n",
    "for a in arr:\n",
    "    dictz[i] = a\n",
    "#     with open(\"Output\"+str(i)+\".json\", \"w\") as text_file:\n",
    "#         text_file.write(a)\n",
    "    i += 1\n",
    "\n",
    "\n",
    "with open(\"OutputZ.json\", \"w\") as text_file:\n",
    "    text_file.write(json.dumps(dictz))\n"
   ]
  },
  {
   "cell_type": "code",
   "execution_count": 12,
   "metadata": {
    "collapsed": false
   },
   "outputs": [
    {
     "data": {
      "text/plain": [
       "5853"
      ]
     },
     "execution_count": 12,
     "metadata": {},
     "output_type": "execute_result"
    }
   ],
   "source": [
    "i"
   ]
  },
  {
   "cell_type": "code",
   "execution_count": 13,
   "metadata": {
    "collapsed": false
   },
   "outputs": [],
   "source": [
    "with open('OutputZ.json') as data_file:    \n",
    "    data = json.load(data_file)"
   ]
  },
  {
   "cell_type": "code",
   "execution_count": 127,
   "metadata": {
    "collapsed": true
   },
   "outputs": [],
   "source": [
    "# Takes list of tweets and queries and builds a single query for analysis\n",
    "def buildQuery(texts, queries):\n",
    "    queryStr = \"{'data': [\"\n",
    "    for txt in texts:\n",
    "        for q in queries:\n",
    "            queryStr += \"{'text': '\" + txt.replace(\"'\", r\"\\'\") + \"', 'query': '\" + q + \"'},\"\n",
    "    queryStr = queryStr[:-1] + \"]}\"\n",
    "    return queryStr\n",
    "\n",
    "# Calls sentiment140 to get an analysis on the tweets i a given query\n",
    "def getSentiment(query):\n",
    "    r = requests.post(url, data=query)\n",
    "    responses = r.json()['data']\n",
    "    sentiments = []\n",
    "    for resp in responses:\n",
    "        sentiments.append([resp['polarity'], resp['text']])\n",
    "    return sentiments\n",
    "\n",
    "# Gets Tweet Text from streaming data tweet\n",
    "def getTextFromStream(tweet):\n",
    "    tweet2 = tweet.split(\",\\\"truncated\")[0] + \"}\"\n",
    "    tweetDict = ast.literal_eval(tweet2)\n",
    "    tweetText = tweetDict[\"text\"]\n",
    "    return tweetText"
   ]
  },
  {
   "cell_type": "code",
   "execution_count": 128,
   "metadata": {
    "collapsed": true
   },
   "outputs": [
    {
     "name": "stdout",
     "output_type": "stream",
     "text": [
      "[[2, u'@HillaryClinton @POTUS'], [4, u'RT @LisaVikingstad: CONGRATULATIONS @BernieSanders ON BEING INVITED TO SPEAK AT THE VATICAN YOU ARE LOVED GLOBALLY ESPECIALLY IN NY NEVER S\\u2026'], [4, u'27 Honest Questions for Hillary Supporters - Good points #p2 @BernieSanders @BernieBrigade @bayonnebernie  https://t.co/BnVSsetkJh'], [2, u'RT @TWA2Garp: Wow, Bill Clinton goes after BLMTells the truthGood for himHowever, now he pulls backUnlike Trump who tells the truth a\\u2026'], [2, u'RT @eelawl1966: (FOR THE HATERS) Papal official denies report Sanders invited himself to Vatican m.t. #FeelTheBern    https://t.co/lAlfQD\\u2026'], [2, u'#FeelTheBern #WyomingForBernie #WyomingCaucus #NYPrimary #NewYorkCity  No trains in the U.S. can travel 375mph! https://t.co/wuy12p1DNC'], [4, u'RT @lotienetodo: #F1 @CarburandoTV @LaloMiglio  https://t.co/I9MuqA1aqj'], [2, u'Would this be the Margaret Archer who lied about Bernie &amp; his invite to the Vatican? They do know we have internet, right? A #HillLiar'], [2, u'RT @RossBarkan: A woman waves a Bernie sign from the fire escape of his childhood apartment building https://t.co/6OlBQek1pI'], [2, u\"RT @Libertea2012: RT: These Brooklynites say @BernieSanders is the change America needs and they're sick of being be\\u2026 #BernieStrong https:/\\u2026\"], [2, u'RT @CarolHello1: Wow! Donald Trump 52% New YorkPow!! Kasich Hillary Bill ClintonOw!! 3rd Ted Cruz 17%https://t.co/h5Mi1iuojs https://\\u2026'], [2, u'RT @jacobkornbluh: VIDEO: @BernieSanders exits apartment building of his childhood home to address supporters #NYPrimary https://t.co/yFB0q\\u2026'], [2, u'RT @BerningSandstrm: New York!  There are too many Bernie events to list!  Check the Berniemap for events near you!https://t.co/Vqh546dPsV'], [2, u\"RT @DannyEFreeman: People peeking out their windows in @BernieSanders' old building to see the senator at his Brooklyn event. https://t.co/\\u2026\"], [2, u'RT @Channel4News: .@BernieSanders says the \"status quo\" of \"wealthy people\" not paying their \"fair share\" of taxes must changehttps://t.co\\u2026'], [4, u\"RT @dquintana445: @HillaryClinton Yass Queen. You're amazing. Go Hill #HillYes\"], [2, u\"RT @Morning_Joe: .@BernieSanders: I have tried to stay away from personal attacks... We've got to fight back. https://t.co/OOrCjoPzDK\"], [2, u'@SenSanders Can you guys pleeeeeease talk about how often cnn &amp; msnbc run an anti Sanders story or only invite Clinton surrogates!!!!'], [2, u'RT @HarrietBaldwin: Abortion? https://t.co/6XGkfcRS1U'], [2, u'RT @DATOWORLD: ???? #NewYorkPrimary #primary2016 #Democraticparty Hillary Clinton 56%Bernie Sanders 38%Emerson CollegeMargin of error: \\xb1\\u2026'], [2, u'RT @ninaturner: My look when I saw video of Pres. Bill Clinton blaming #BlackLivesMatter activist 4 destructive 1990s policies https://t.co\\u2026'], [2, u'RT @UncleRUSH: The small drug users who were diseased and locked away deserve it? Bill Clinton u owe the black community and black lives ma\\u2026'], [2, u\"RT @jamesmarie33: I'm voting for the person who says loudly -disagrees w/pope on LGBTQP &amp; womens rights -same person -pope wants to see/hea\\u2026\"], [2, u'RT @ntrsfrml: Papal official denies report #BernieSanders invited himself to Vatican https://t.co/kuzksKdNP6#bernieinbrooklyn #nyprimar\\u2026'], [2, u'RT @BrewStudNo1: Hillary high-fiving guy who deafened reporters at fundraiser last night https://t.co/rjvGR8cLZ5 #HillarySoQualified https:\\u2026'], [2, u'RT @KendraZen: BREAKING NEWS: #BernMSM #HillNo #CorpWhore #DisqualifyHer #NYPrimary #FeelTheBern #BrooklynBernie #American #History https:/\\u2026'], [2, u'RT @marclamonthill: Interesting. When she ran for Senate, she said \"I wasn\\'t just First Lady, I was a key policy advisor.\"  https://t.co/bi\\u2026'], [4, u\"RT @Writeintrump: Yes I gave Hillary Clinton money in the past because I hoped she'd use it to buy a new wardrobe.  @RWSurferGirl1 https://\\u2026\"], [2, u\"Listen to your friend Paul Krugman, he's a cool dude. https://t.co/ttJma0nz1b\"], [2, u'RT @Anestheticx: April 9th, 2morrow IS THE WYOMING CAUCUS. Wyoming has closed caucuses. Must B reg. Dem. to vote 4 Bernie! #WyomingCaucus #\\u2026'], [2, u'RT @cascamike: .@HuffingtonPost: \"everything bill clinton said thursday to defend his 1996 welfare reform law was false.\\u201d https://t.co/pJi1\\u2026'], [2, u'U seem 2b supporters of hers @nytimes. #Hillary &amp; #Schultz r estab. v. #Bernie &amp; #Warren. I know/ hope ur up 2 date. https://t.co/crqlJlhPwF'], [2, u'Lying PoS just like Shillary https://t.co/JU2oZr7HZm'], [2, u\"RT @ByronYork: Lefties are so upset at Bill Clinton. 'He might as well have said, 'All lives matter!'' https://t.co/GxvuX3u79i\"], [2, u'RT @ABC: Bernie Sanders acknowledges that Clinton \\u201cobviously\\u201d has the experience to be president. https://t.co/7z3GQ3IppL https://t.co/wsY6\\u2026'], [2, u'Interested in a #Hospitality #job near ? This could be a great fit: https://t.co/qzCUj3hEfn #Veterans #Hiring #CareerArc'], [2, u\"@Buhma @HillaryClinton She's worked her way to that much an hour. Do the same, and who could complain? And you didnt answer my question\"], [2, u'RT @CryBabyPrize: University Pays Chelsea Clinton $65,000 for Ten-Minute Speech https://t.co/zI37HMvQwp &lt;&lt; The Bullshit Keeps Piling Up'], [4, u'RT @MaxRivlinNadler: People sticking their heads out the window to watch Bernie talk below. A cool NYC scene. @Gothamist https://t.co/oQcy3\\u2026'], [2, u'RT @mmmoonie: @HillaryClinton https://t.co/SLXrBHmq9H'], [2, u'RT @peacevehicle: Papal official denies report Sanders invited himself to Vatican https://t.co/BvwyV3q5IE via Reuters'], [4, u'RT @KatBrezler: On the left in my friend Tina meeting @janeosanders on the right is a meme of her from July this is #FeelTheBern https://t.\\u2026'], [2, u'Slain Children, Hillary Clinton and American Politics w/ Ms. Anoa Changa https://t.co/pRqmagBKDv by @BLUpfront @MsNonoESQ'], [2, u'#denver Bernie Sanders surrenders: \\u2018Of course\\u2019 Hillary Clinton is qua... https://t.co/JxuRMmKI6p'], [2, u'@WGRZ @HillaryClinton https://t.co/8wcxG4ShbX'], [2, u'Slain Children, Hillary Clinton and American Politics w/ Ms. Anoa Changa https://t.co/nH7kEZh3Jm by @BLUpfront @MsNonoESQ'], [2, u'RT @edrinalin: We as a society have responsibility for Iraq war.Those who voted for that war are responsible even more.#BernieSanders #Hill\\u2026'], [2, u'RT @DanielDenvir: Well said, @zachdcarter: Nothing Bill Clinton Said To Defend His Welfare Reform Is True https://t.co/pDAS1Fv193'], [2, u'Slain Children, Hillary Clinton and American Politics w/ Ms. Anoa Changa https://t.co/t4zDaDcfuk by @BLUpfront @MsNonoESQ'], [2, u\"RT @ScottWalker: What she told the families about the Benghazi tragedy is another reason Hillary Clinton isn't qualified to be POTUS. https\\u2026\"], [2, u'#SandersOverTheEdge spreading TRUTH and JUSTICE to the world! Fighting for YOU!  #FeelTheBern #PeoplePower #Bernie2016'], [2, u'RT @Fanny57: #MO delegates join #NV delegates and Flip to .@BernieSanders after Clinton delegates are no-shows #FeelTheBern https://t.co/ks\\u2026'], [4, u'RT @marshmellomusic: Hey @BernieSanders ill play a free show for you and give you music for your campaign'], [2, u'RT @TheBpDShow: He almost cares https://t.co/SXUOVxR9jk'], [4, u'#thetwittazine @writerswebla #TheNitWits @theAAoAA #SPOTtheNITWIT  ! #HillaryClinton  https://t.co/blGEjX1mqX'], [4, u'RT @TheLaunchMag: Today in 1998 The Players Club hits theaters. Ice Cube brings back his Friday crew - Bernie Mac Ezal Deebo Big Worm https\\u2026'], [0, u'RT @funkinatrix: Looks like someone is busted when her boss gets back. Close aide to Pope Francis says he invited Bernie to Vatican. https:\\u2026'], [2, u'RT @HuffPostPol: Bernie Sanders talks about the \"unbelievable\" support he receives from young people https://t.co/XZIDJXFBa2 https://t.co/2\\u2026'], [2, u'@paphotog @JoeHNewYork @MarthaStewart @HillaryClinton Wonder who Martha is supporting ? !'], [4, u'RT @TheLeadCNN: Bernie Sanders to visit Vatican City days before the #NYPrimary https://t.co/jSa4Jyz2HS https://t.co/wm90A77D1z'], [0, u\"RT @gregpinelo: So, invitation did not come from Pope and no Bernie-Pope meeting is planned. That's according to Pope's spokesman. https://\\u2026\"], [2, u'RT @CarolEvansWM: This is a disaster! https://t.co/NJjflTVv2h'], [2, u'RT @OzForBernie: Bernie Sanders Over the Edge he thinks 2 million every day Americans will fund his campaign. https://t.co/1YJZdtthry'], [2, u'RT @jimmy_dore: Saying that criticizing female politicians is sexist is actually patronizing to women.  #EstablishmentMediaFail https://t.c\\u2026'], [2, u'Retweeted Takahata101-WTFU (@Takahata101):Sanders it the first presidential candidate to get an invite from the... https://t.co/66CmNByt5a'], [2, u'@HillaryClinton @RollingStone not even just need...but WANT!'], [2, u'@realDonaldTrump mr trump  no one ask Cruz, Clinton and Sanders how they would protect the USA from another Paris or Brussels'], [4, u\"RT @realDenaldTrump: Nobody beats me on National Security! I'll be a great advisor to Clinton!https://t.co/9VDVCTjNVR @realDonaldTrump htt\\u2026\"], [2, u'Clinton returns to Buffalo  https://t.co/VMbymf2fn3'], [4, u\"RT @ARTSYJUDITH: Sen. Bernie Sanders will be  a President for all America! As4  the 'old man' referenced here.....HRC is 68yrs..old! https\\u2026\"], [2, u\"#FollowMe #F2F Bill Clinton Recasts Black Lives Matter Protest Clash As 'Example': The former ... https://t.co/EJ138Avz5n #FollowBack #RT\"], [2, u\"@cookiesnomnom I mean if Trump is the lowest standard &amp; Bernie has said worse things about women than Trump has, that's gotta fire ya up! ;)\"], [2, u'#ImWithHer #NYPrimary #CTPrimary #PAprimary #DEPrimary #RIprimary #MDPrimary #Wycaucus  https://t.co/biOw1jf1Bt'], [2, u'RT @CathyYoung63: Must have been the speech where Hitlery pledged to turn America over to her Illuminati masters https://t.co/M4svsSRTam'], [4, u'RT @maryaliceparks: .@BernieSanders comes out to rally in front of his childhood home, introduced by @MarkRuffalo https://t.co/LPF8AnY8om'], [2, u'#FeelTheBern #BernieOrBust #BirdieSanders ?? #Bernie2016 https://t.co/XFG57olUVH'], [0, u'Twenty academics invited to Vatican and Bernie wants us to believe they invited him too! #FleeTheBern Bad foreign policy! #NewYorkPrimary'], [2, u\"RT @TheXclass: Paul Krugman changes his mind about his most issue ever: Too Big To Fail wasn't really a thing. https://t.co/eR3RZDojjd #Fee\\u2026\"], [2, u'Intel Source: No Coincidence Romanian Hacker Guccifer Is Extradited To US Amid Clinton Probe https://t.co/RzWkRy1I9z via @WeaselZippers'], [2, u'RT @KRansome83: RT BernieSanders: The problems facing this country now are so serious, are so deep, that the same-old, same-old establishme\\u2026'], [2, u'@NeilTurner_ @HillaryClinton you have one hell of job???? trump must be paying well?? where can i apply Neil?'], [4, u'RT @PuestoLoco: Exactly! Are you listening @maddow and @chrislhayes? https://t.co/9BYKbfBKvr'], [2, u'RT @MarkSimoneNY: Bill Clinton backs down and apologizes to BLM (Hillary must have threatened to lock him back up in the attic) https://t.c\\u2026'], [2, u'RT @kujo71: Hillary Drops 15 Points in New Emerson NY Poll. Bernie Gaining in all NY Polls! #FeelTheBern #BernieSanders  https://t.co/vEB24\\u2026'], [2, u\"RT @iaaronmitch: I'm under 30 and I'm supporting Hillary Clinton. I will not apologize for understanding politics better than most American\\u2026\"], [2, u'#Philly #Lancaster #Pittsburgh #Erie #Harrisburg#Hazleton @PittsburghPG @Gburg_Times @mcall @PhillyInquirer  https://t.co/UoSUpbzqgf'], [2, u'RT @Myannazuos: &amp; they r saying \"Sanders over the edge\"..that\\'s just where corporate lobbyists want 2 throw him 4 helping the people https:\\u2026'], [4, u'RT @TheView: We\\u2019re about to #FeelTheBern: Sen. @BernieSanders joins the ladies NEXT! #BernieOnTheView  https://t.co/Tk2opDM1w3'], [2, u\"RT @KFedFan69: Say what you want about #Trump, but he'd never be seen dancing on the beach with Bill Clinton in a one-piece. https://t.co/W\\u2026\"], [2, u'? Tweet by Tweet: The Clinton-Sanders debate about a NY debatehttps://t.co/9YbBw8M6aN'], [2, u\"RT @TrillSouth: The Clinton's are really showing their true Republican roots lately\"], [2, u'#gop Revealed: Clinton\\u2019s Connection With Russia\\u2019s Most POWERFUL Bank! https://t.co/B3RaPniXYq #pjnet #tcot\\xa0#ccot https://t.co/DANQmbd3p9'], [2, u'@almcquilkin @TheYoungTurks  \"I signed a bill that made the problem worse,\\u201d he said. \\u201cAnd I want to admit it.\\u201d https://t.co/J4ArH2CzsA'], [2, u'Bill Clinton: \"Obvious By A Country Mile\" Hillary Being Held To Different Standard ...:As low as that may be!'], [4, u'RT @smallswagg01: Unbelievable @hillaryclinton helped sell US Uranium rights to Russia as reported by @nytimes  https://t.co/c4fxFZiI4Z #pa\\u2026'], [4, u'RT @bernie99844507: @Bonkers45 Here the invite 4 some in denial @HillaryClinton @BernieSanders @MSNBC @CNN https://t.co/a63hk73EYs'], [2, u'Bernie Sanders closes deficit in California to 6 points: poll... https://t.co/S1pzMVTpjJ'], [2, u\"Dear #Bernie, please don't try to change something you already said. #Communists always do that.  https://t.co/W7Bd95c73U\"], [2, u\"RT @SassySenSanders: Here's Bernie! https://t.co/gBvcoEmWle\"], [4, u'RT @JonStall2009: @Momisbuff @kaceysharon glad that mo resolved due to more Clinton apathy but dem party rule corruption is still a problem'], [2, u'Yep, Bernie screwed up here.If president he would sink us faster than the weight on a fish line, but then, so... https://t.co/w3pcAGl1Ij'], [2, u'RT @DrGPradhan: 41Saudi (OIL) is facing Financial heat? Who support Saudi? Clinton? why @HillaryClinton as Pret would be disaster to wo\\u2026'], [2, u\".@benjamuniverse @admiralmpj @terryleerhea @BernieSanders Another story verifying Bernie's invitation. https://t.co/VbhsaKUtDr\"], [4, u'RT @tahino1: Here We go @MSNBC Vetting &amp; Question &amp; talking bad about  @HillaryClinton &amp; Not Doing it to @BernieSanders giving him a free H\\u2026'], [2, u'RT @AngrySenSanders: Senior Vatican Official: \"I invited him.\" says report he invited himself is \"100% untrue\"https://t.co/tuEhkHRLgv htt\\u2026'], [2, u'Krugman: Sanders Over the Edge https://t.co/B7erIaNuKs'], [2, u\"RT @NYDaily_News: Intersting piece by @SophieCo_RT on Bill Clinton's sexual assaults and Hillary's abuse issues https://t.co/nEtolbyu5p #NY\\u2026\"], [4, u'RT @kartpath: .@BernieSanders takes the stage in Flatbush, to chants of \"welcome home, Bernie!\" https://t.co/wQ9Il7RNlX'], [2, u'RT @katalin_pota: Go Bernie, go! https://t.co/8qywyf1u56'], [0, u'RT @agreatercountry: Hillary State Dept lost $6 Billion. Lost meaning misplaced. Maybe her friends found it? Trustworthy? Qualified?https\\u2026'], [4, u'RT @HrcGeneration: @HillaryClinton @hillaryforwin @Oregon4Hillary @NYC4Hillary @princessomuch @freewimin @France4Hillary @artist4ever https\\u2026'], [2, u\"RT @Shoq: Yeah, that's sort of an ouchie. #FeetheBurn #ImWithHer #HillaryClinton #BernieSanders #feelthebern  https://t.co/ezpZuHNA4m\"], [4, u'@ScottFoxonair @Z1035Toronto @KatCallaghan Our pleasure. Enjoy!'], [2, u\"He still doesn't get it. #WeWontHush  https://t.co/S2ymfGfxsT\"], [4, u\"RT @Morning_Joe: NEW: @BernieSanders invited to speak at the Vatican: 'I am a big, big fan of the Pope' https://t.co/H3hsF1W5te\"], [2, u'RT @foxnewspolitics: Sanders trip to Vatican conference causes dust-up  https://t.co/76Rfjv13St #FNPolitics https://t.co/h4jdHMWvZn'], [2, u'Conan At CGI U 2016: On \"Conan Korea\" &amp; Comedy As Diplomacy https://t.co/DGpj9owl7d #CONAN via @TeamCoco'], [4, u'RT @arizonasanders: BernieSanders: I applaud California and New York for listening to voters and raising the minimum wage. Now let\\u2019s bring\\u2026'], [2, u'RT @CNN: Bill Clinton: \"I almost want to apologize\" for sparring with protesters https://t.co/FnNGgWZAMp https://t.co/ikIKfpVko4'], [2, u'@Salon report this. https://t.co/FVLVjIyXzN'], [2, u'RT @OmanReagan: #IAlmost wish I had just divorced Bill Clinton. https://t.co/7K73aqzdib'], [2, u\"You've heard of Bernie Sanders' plan to break up the banks. Now here it is, explained. https://t.co/x0WnQA3imw https://t.co/N4fVyKMJgz\"], [2, u'A picture truly does speak 1,000 words.#BernieinBrooklyn #FeelTheBern  https://t.co/rIy3MElAfK'], [2, u'White Privilege, Thy Name is William Jefferson Clinton https://t.co/CREnrAcxDI'], [2, u'Any of these #ClintonFoundation donors are in the #panamapapers? Frank Giustra, Richard Caring, #JeffreyEpstein... https://t.co/zeB1T6bgFC'], [2, u\"RT @wbaltv11: Sanders campaign manager: Clinton has 'resume for the job' https://t.co/WCAYQ4MRl7\"], [2, u'Take that, @paulkrugman. No slanted journalism shall halt #BernieSanders. https://t.co/3D3cNpKkHf'], [2, u'@HillaryClinton #stillsanders https://t.co/pyyDxyQmQ1'], [4, u'Keep up the excellent work Bernie people!  Let your lights shine bright!#BernieRising'], [2, u'RT @Bernlennials: On 04/16 we will flood the streets of NYC with LOVE! JOIN US: https://t.co/mIzsJ0ycaD #MarchForBernie #FeelTheBern https:\\u2026'], [2, u'Eat a dick @billclinton  https://t.co/V2rfG8xxGi'], [2, u'RT @GStuedler: Bubba Clinton spoke the truth in Philly, he has nothing to apologize for. We all need to get real about what the threats are\\u2026'], [2, u'Added some more stickers to the Insight today, friends of water (not coal), #feelthebern, and Jeff Kessler for Gov. https://t.co/vMGqvNPCu5'], [2, u\"RT @TimBartender: Charlie Rose says Dem race looks like Repub race. Charlie's smoking crack! Dems = PG. GOP = NC-17  https://t.co/XfmpcGLoo\\u2026\"], [2, u'RT @OBrienMB_NY: #NY is #Hillary Country. #NYPrimary #NewYork #Albany #Syracuse #Rochester #Buffalo #NYC #HillaryClinton https://t.co/Udz30\\u2026'], [4, u'RT @gdebenedetti: White House\\'s @Schultz44 says @HillaryClinton \"comes to the race with more experience than any non-Vice President\" in rec\\u2026'], [2, u'LOLOLOLOL  https://t.co/jI9fzZUe7N'], [2, u'Ovnis y \\xc1rea 51: una apuesta de campa\\xf1a de Hillary Clinton https://t.co/IPAFAwpmjz'], [2, u'RT @ramzpaul: BLM is upset at Bill Clinton. https://t.co/S6PvX8I7EK'], [2, u\"Here's a Transcript of the Fundraising Speech Hillary Clinton Didn't Want Us to Hear\\xa0 https://t.co/709ORP3pj8 #whatsthatnoise #ImWithHer\"], [2, u\"Most OK rural infrastructure build during FDR Administration. It's failing fast. #WeNeedBernie  https://t.co/vxlzVyblfd\"], [2, u'@LadyZelan Hi! Please check your KY voter status / register online by MON 4/18 to vote in Pres. primary! ???? https://t.co/SP6GfGqMJo'], [2, u'RT @kausmickey: @MadeTrade8 And Gingrich and Livingston and Weiner. There was something with B Clinton too but I forget-only destroyed half\\u2026'], [2, u\"Bill Clinton 'almost' apologizes for clash with Black Lives Matter protester https://t.co/CD2MCuqFN0\"], [2, u'RT @DailyNewsBin: Bernie Sanders tried to trick his way into Pope Francis invitation, and the Vatican is pissedhttps://t.co/34cVvbuQBf'], [4, u'RT @princessomuch: NRA rated Bernie a D- for 1 yr; most other yrs are more favorable. In fact, Brady Campaign rated Bernie a lifetime D htt\\u2026'], [2, u'Sanders Over the Edge #ImWithHer #UniteBlue https://t.co/lGHgQ8E6CB'], [2, u'RT @pechosboys: Por qu\\xe9 es mucho m\\xe1s peligrosa Hillary Clinton que Donald Trumphttps://t.co/zYyVPALDZr https://t.co/1RS2ekdDh0'], [4, u'RT @Only4RM: Welfare reform \"helped\" impoverished communities the same way @BillClinton is \"helping\" @HillaryClinton\\'s campaign right now.\\u2026'], [4, u'RT @laughingcat2016: I agree. And can anyone picture Clinton getting the Health care act through? https://t.co/yeVJypZwgS'], [2, u\"RT @FattMernandez: Bernie will speak at the Vatican. Hillary won't because if she steps on holy land she reverts to her original form. http\\u2026\"]]\n",
      "[[2, u\"RT @BillKristol: It's not your grandfather's Democratic Party. Or your father's. Or Hillary Clinton's husband's. https://t.co/lKeW9ECpQF\"], [2, u'How the Panama Papers could hand Bernie Sanders the keys to the White House https://t.co/GTOO8LBysEWhat MSM wont report@CNN@MSNBC'], [4, u\"(IBD) Hillary Clinton's Anti-Israel, Pro-Hezbollah Donor https://t.co/vI5MCb7g8d  - #PJNET @IBDEditorials https://t.co/NUbB8Mm2y9\"], [2, u'@Rico55933  https://t.co/yQtmTy6zOF'], [2, u'I #AlmostBelieve that I #AlmostFeelSorry for @billclinton and @HillaryClinton #Almost'], [2, u'@casinopioiv this is what this inappropriate invitation to Bernie Sanders is doing. Pope should stay out of politics https://t.co/fzSuEp3ScK'], [2, u'RT @nytimes: \"Bernie Sanders is starting to sound like his worst followers.\" https://t.co/7dSZ9nXO4S via @nytopinion https://t.co/3tkajbhqI2'], [2, u'RT @Hillary4Florida: \"Millions of kids are alive bc of the law Senator Clinton authored.\"????#ImWithHer #HillYes #NYPrimary #DemDebate http\\u2026'], [2, u\"RT @PoliticalAnt: @brownone585 @ninaturner @BernieSanders spoke against '94 Crime Bill,but voted for it because it contained Violence Again\\u2026\"], [2, u'RT @BuzzFeedNews: This is what happened when @freehugsproject offered free hugs at rallies for @realdonaldtrump and @berniesandershttps://\\u2026'], [2, u\"RT @StoneSculptorJN: Sanders: Clinton's pursuit of 'regime change' in Libya helped facilitate the rise of Isis https://t.co/PakZZqs3e8\"], [2, u'RT @DavidAFrench: Bill Clinton Tries Sister Souljah, the Sequel, but It Won\\u2019t Fly with Today\\u2019s Progressives https://t.co/nEzRXfhkfG via @NRO'], [0, u\"@vausecnn awe. thanks john.  sorry for taking out my ''late night fed up w/ hearing everyone say bernie had no chance at nomination''..woes.\"], [2, u\"@LiberalLaTchr He's saying Bernie is a living stake in the heart of antisemitism (hatred of Jewish people). What's bad about that?\"], [4, u'RT @mostawesomeblog: IMPORTANT:  INDEPENDENT VOTERS - You MUST be REGISTERED as a DEMOCRAT 2 vote 4 #BernieSanders in NYPLS DO IT NOW!ht\\u2026'], [4, u\"@micahcohen @JeffersonObama One could reasonably argue that Bernie's vote % would be higher if his best states held primaries not caucuses\"], [2, u\"RT @coton_luver: #adjective #ImWithHer All I hear is #Hillary2016 has a lot of baggage. Who doesn't when ur as experienced as she is https:\\u2026\"], [2, u\"RT @lin_deshan: Wait , weren't fellow liberals equally humiliated about Kim Davis' Pope stunt, the same about Bernie doing it? #SandersOver\\u2026\"], [2, u'RT @DrJillStein: Bill Clinton shouting down at young #BlackLivesMatter activists who pointed out his policies have devastated their communi\\u2026'], [4, u'RT @Geeters_McGuffy: An amazing woman, and a fellow social worker, Jane Sanders #ImWithJane #FeelTheBern'], [2, u\"RT @DavidCayJ: So now when will Bernie release his full returns? He's played games since June 2015. https://t.co/v4erLhA1va\"], [2, u'RT @NPR: Bill Clinton says squabble with protester over crime bill should be a teachable moment. https://t.co/hSo17j3OQ3 https://t.co/rGU6n\\u2026'], [2, u'@HillaryClinton relies on Citizens United to help her win this election.  She will need them for re-election too https://t.co/F1Ko4xPU9Y'], [2, u\"Bill is right, we rarely listen to people who hold views that we don't like. We talk at each other instead.  https://t.co/ELffhZdpod\"], [2, u'.@BernieSanders speaking now from his home Flatbush neighborhood in Brooklyn NY https://t.co/5J8J6wN8CF #FeelTheBern https://t.co/hog6a21isJ'], [2, u'RT @LaborForBernie: Largest industry union in New Jersey, UNITE HERE Local 54 endorses Bernie! https://t.co/WgJJYzkuwa #FeelTheBern #1u htt\\u2026'], [2, u\"RT @MemesForBernie: It looks like Bernie flipped Missouri in Yesterday's county convention#MOPrimary #FeelTheBern #NotMeUs https://t.co/K\\u2026\"], [2, u\"RT @KevinDarryl: Sanders Questioning Clinton's Qualifications Is a Sign of Desperation https://t.co/7UB1xiNibL via @usnews\"], [4, u'RT @laughingcat2016: I agree. And can anyone picture Clinton getting the Health care act through? https://t.co/yeVJypZwgS'], [2, u'RT @thehill: Vatican official slams Sanders for \"monumental discourtesy\" over invite: https://t.co/4FOvhKo0Bu https://t.co/lUUrK0rd65'], [2, u'Bill Clinton Tries Sister Souljah, the Sequel, but It Won\\u2019t Fly with Today\\u2019s Progressives https://t.co/P70TI1LB7V via @NRO'], [4, u'RT @savannah_lb: The 1996 @EricaJong article that solidified my decision to support @HillaryClinton #MillenialsForHillary: https://t.co/2AT\\u2026'], [2, u'RT @Salon: #PanamaPapers revelations: With Saudi and Russian ties, Clinton machine\\u2019s tentacles are far reaching https://t.co/74pFsr1WIe'], [2, u\"RT @ab2788: Today at 1pm - @TishJames speaks out against Bernie's horrific record on guns w/ families impacted by #gunviolence https://t.co\\u2026\"], [2, u\"Sorry Mr. @evangelistToni I agree with @cristinalaila1- Hillary needs 2b in jail &amp; repay $100's-Millions 4 her fraud https://t.co/Gr2I0YU5u1\"], [0, u\"@thehill Bill Clinton can't repair his legacy. He wanted to rank higher than Obama in political history. And his wife is just as average.\"], [4, u\"WYOMING: Get my boy Bernie that 85 % and it'll be pretty pretty pretty good\"], [2, u'RT @Indayo: 01. Mike Sanders - Jet Lag (Blue5even Remix) @alteregorecords #TranceClub #TC407'], [2, u'RT @ChristiChat: ??TODAY @ 6@SheriffClarke on @cvpayneTalking Bill Clinton excoriating Black LIES Matter 4 sticking up 4 criminals https:\\u2026'], [2, u'RT @GomezReporting: Bernie Sanders Is Even Less Competitive Than He Appears#FeelTheMathhttps://t.co/SWbosNfJ89'], [2, u'For details on how to teach people about #BernieSanders through the #MultipleHashtagSearch concept, read the page at https://t.co/UVq1bMrT3R'], [2, u\"Obviously this guy can #FeelTheBern and he can't even vote for #Bernie down under. https://t.co/37Eveu3x6G\"], [2, u\"RT @benedetto: @ilovetosplash @benedetto https://t.co/pmSxX5iW6w  NOT SAYING IT'S ALIENS, BUT . . .SHH, FORGET THOSE PESKY PANAMA PAPERS.\\u2026\"], [2, u'@BobbyTBD @Jaffrica @Parker9_ @HillaryClinton weak people too'], [2, u'RT @doodlebug0: I think there is more to the story about Sanders and the Vatican and that more info will come out.'], [2, u'RT @newtgingrich: These six new voting blocs won\\u2019t want @HillaryClinton in  the White House - fascinating read by @GroverNorquist  https://\\u2026'], [2, u'RT @HillaryClinton: How much more money would you have if you didn\\u2019t have student loan debt? https://t.co/1TPQhv1j7d https://t.co/D4kNBgsVAU'], [4, u'RT @TheLaunchMag: Today in 1998 The Players Club hits theaters. Ice Cube brings back his Friday crew - Bernie Mac Ezal Deebo Big Worm https\\u2026'], [2, u'RT @ntrsfrml: Papal official denies report #BernieSanders invited himself to Vatican https://t.co/kuzksKdNP6#bernieinbrooklyn #nyprimar\\u2026'], [2, u'RT @Sam_Frizell: Marco Rubio in January: \"...Hillary Clinton is disqualified from being commander in chief of the United States\" https://t.\\u2026'], [2, u'RT @lianzifields: Sanders says he grew up here in rent controlled apartment 2z. Used to play punchball on this street in Flatbush https://t\\u2026'], [2, u'@greenmitera I thought @BernieSanders &amp; the Branch DaBernians were more inclined to side with the underdog &amp; not with the superior.'], [2, u'RT @marclamonthill: Interesting. When she ran for Senate, she said \"I wasn\\'t just First Lady, I was a key policy advisor.\"  https://t.co/bi\\u2026'], [2, u'@JonahNRO @NRO @HillaryClinton ..\"Women\\'s health care\" means don\\'t mess with my fornication and irresponsibility!  NO bastards wanted!!!'], [2, u'RT @BuzzFeedNews: This is what happened when @freehugsproject offered free hugs at rallies for @realdonaldtrump and @berniesandershttps://\\u2026'], [2, u'@maytennis @jaketapper He was invited. They started a lie on Bernie.https://t.co/7wzZJjKGWg'], [2, u'Bernie Sanders acknowledges that Clinton \\u201cobviously\\u201d has the experience to be president. https://t.co/hHpQhv2kRj https://t.co/5brcRkSVYN'], [2, u'RT @ToConservatives: Yes, The Vatican confirmed that they invited Bernie.https://t.co/O4sQ8mJp1J@skorpyos @ShawnGentry0'], [4, u'RT @CallawayBOT: Feelin it! @CBScheel #FeelTheBern RT @saintnic347: Jane Sanders is so very beautiful. Her smile lights up a room. \\u2026 https:\\u2026'], [4, u\"RT @lsarsour: Welcome home to #Brooklyn. Can't wait to welcome you back when you r President of the United States. #FeelTheBern https://t.c\\u2026\"], [2, u'#BernieSanders Brings Up #9/11 #missingtrillions https://t.co/bRam3Wqin6 via @peoplesvoice_tv'], [0, u\"RT @zachdcarter: Bill Clinton's welfare reform hurt the poor. He refuses to own up to it. https://t.co/jbcAA42BA5\"], [2, u'@sallykohn takes longer than 7 years to reverse 8 years of bleeding our country of lives n treasure #FeelTheBern'], [2, u\"@YourAnonNews oh Clinton said that? Then it's clearly not true. She wouldn't know how to tell the truth if her life depended on it.\"], [2, u'RT @BuzzFeedNews: This is what happened when @freehugsproject offered free hugs at rallies for @realdonaldtrump and @berniesandershttps://\\u2026'], [2, u\"@scrowder @realDonaldTrump @BernieSanders You misspelled 'aged.'\"], [2, u'RT @OperationOppo: #BlackLivesMatter #KillerMike  https://t.co/MazvY1sG5t'], [2, u'RT @AsheSchow: Yet more evidence Hillary Clinton is out of touch: https://t.co/F4QmxxnCpx'], [2, u'LMAO ???? https://t.co/7iap1QcfVI'], [2, u'I think you win the internet today @FattMernandez. #HillarySoQualified #HillaryClinton #HillaryResearch https://t.co/WqSd4rl3nK'], [4, u'RT @BurnsieAnn: What an amazing woman Giffords is. And what a great endorsement. #HillaryClinton #ImWithHer  https://t.co/Xj6BOpjccF'], [2, u\"People should be following PK's example instead of trying to force him to follow theirs. That's all I gotta say about this bullshit#Habs\"], [2, u'RT @JJFan18: #ImWithHer #NYPrimary #CTPrimary #PAprimary #DEPrimary #RIprimary #MDPrimary #Wycaucus  https://t.co/fsKivTn5Wr'], [0, u\"I just feel Bernie cares about my well-being as a human being more than Hillary. Still, if Bernie doesn't win nomination, I willvote4Hillary\"], [2, u'@sarajosleyn1 Hi! Please check your KY voter status / register online by MON 4/18 to vote in Pres. primary! ???? https://t.co/fgPtYs6gdM'], [2, u'RT @tomwatson: Huh. Go figure. https://t.co/EfJbXq82Z8'], [2, u\"RT @les_leopold: Why NY Daily News Doesn't Want Bernie  https://t.co/yWYGZIGcXl\"], [2, u\"Bernie Sanders: 'Of Course' Hillary Clinton Is Qualified To Be President - crooksandliars: Sen. Bernie... https://t.co/SJTnuGFFJv\"], [2, u'RT @Jonathanky74: Sanders Accused of \\u2018Discourtesy\\u2019 in Seeking Vatican Invitation https://t.co/BrGJ4YKWhH  Bernie is a liar like Kim Davis #\\u2026'], [2, u\"@people @BernieSanders I know he would like to dine on Hillary Clinton's innards\"], [2, u'RT @ChristiChat: ??TODAY @ 6@SheriffClarke on @cvpayneTalking Bill Clinton excoriating Black LIES Matter 4 sticking up 4 criminals https:\\u2026'], [2, u'#BoyBye: Bill Clinton Tells BLM Protestors They\\u2019re \\u2018Defending The People Who Killed The Lives You Say Matter\\u2019 https://t.co/FGRsD1LBEq'], [2, u'RT @eelawl1966: Bernie Sanders to Discuss Inequality at the Vatican While Clinton Hosts a $2,700 Plate Fundraiser   #ImSoSick  https://t.co\\u2026'], [2, u'#MonumentalDiscourtesy Sanders\\u2019s Vatican Invitation Sparks Accusation of \\u2018Discourtesy\\u2019 https://t.co/f5l101clqb via @bpolitics'], [2, u\"RT @BoingBoing: Clinton campaign chair Podesta says America 'can handle the truth' on UFOs, aliens, Area 51 https://t.co/dyuC9Bgdd0 https:/\\u2026\"], [2, u'RT @MarinaPibernatV: En cambio, el menos salvaje puede estar tranquilo... https://t.co/9Yvl8yRFxw'], [2, u'Bernie Sanders fans rally outside his old Brooklyn apartment: He\\u2019s just Bernie from the block.    https://t.co/5M0vhNjeiw'], [2, u'RT @DeAngeloRB: Ricky Williams and Barry sanders  https://t.co/Tb7JQ3rsqT'], [2, u'RT @DanielDenvir: Well said, @zachdcarter: Nothing Bill Clinton Said To Defend His Welfare Reform Is True https://t.co/pDAS1Fv193'], [4, u'RT @dnahealthnut: @RiotWomennn @boycotkochbros #SandersIsAFarce #ImWithHer https://t.co/SoMRhVXGJL'], [4, u'@njforbernie2016 @NoMoreDon8 This design should be one of @BernieSanders bumper stickers! I love it. #FeelTheBern #27Dollars #BumperStickers'], [4, u'RT @VerifiedDanielA: @oreillyfactor is right @BernieSanders should go to Cuba. They have free education and the average person makes $24 a\\u2026'], [2, u'RT @GaetaSusan: Rich get Richer/Poor get Poorer, TY Liberal Democrats! Obama! Hillary, Bernie!! Taxing the Hell out of US Works NOT? https:\\u2026'], [2, u'RT @Conservative_VW: This is what @BarackObama &amp; @HillaryClinton want to bring to America ...??where police are afraid of their shadow\\u203c? h\\u2026'], [2, u\"FU, #BILLCLINTON #27Shoes Via @NPR: Bill Clinton Recasts Black Lives Matter Protest Clash As 'Example' https://t.co/RUx9pT9qmM\"], [2, u'RT @boldandworthy: The Bernie Sanders campaign has officially jumped the shark.'], [2, u'RT @jupiter896: Dear Senator Sanders: Today I AM SICK to My Stomach https://t.co/pLc85EZWEP #ImWithHer #ShesMostQualified #Hillary2016 #Uni\\u2026'], [2, u'RT @KatrinaNation: Both Clinton and Sanders Are Qualified\\u2014but Only Sanders Calls for Political Revolution via @thenation https://t.co/zBX1q\\u2026'], [2, u\"@JessicaRain7 The pope's aid denied that Sanders invited himself, it was the MSM drama BS again, still can't wait for the conference!\"], [2, u'RT @aseitzwald: Huffington Post raking Bill Clinton over the coals on Welfare Reform comments. https://t.co/gdpsD0LUE0 https://t.co/LlKVj8f\\u2026'], [2, u\"RT @pivotamerica: The Unraveling of America's Inevitable Candidate: How @HillaryClinton Campaign is Falling Apart https://t.co/QjwZ4LfsvG #\\u2026\"], [2, u'RT @brownjenjen: Why some Democrats are calling for Bill Clinton to be arrested... https://t.co/P897pbRPU5'], [4, u\"@taddevine hillary has met with them many times.And Bernie's camp is the one that continuously belittles the south/black voters #ImWithHer\"], [2, u'RT @hassett_tawny: I just saw on MSNBC that the Vatican did invite him now.. not that u can trust anything they say lately.. who knows. htt\\u2026'], [2, u'RT @brownjenjen: Why some Democrats are calling for Bill Clinton to be arrested... https://t.co/P897pbRPU5'], [2, u'Bernie Sanders to Discuss Inequality at the Vatican While Clinton Hosts a $2,700 Plate Fundraiser https://t.co/lrTNKgd1ux'], [2, u\"#Bill Clinton 'Almost' Apologizes For Lecturing Black Lives Matter Protesters #jobs # #WatsApp: #Former Presid... https://t.co/uyBfZMykzl\"], [2, u\"RT @Stonekettle: If that's the case, then what REPUBLICANS told America about Benghazi makes them utterly unqualified for office https://t.\\u2026\"], [4, u\"RT @BernieCrowds: The corp. media's inability to report on something as straight forward as the Vatican inviting @BernieSanders to speak th\\u2026\"], [4, u'@100Concerned Vote for Bernie Sanders who speaks daily@ this+confronts the nay sayers = CLIMATE CHANGE IS REAL+WE MUST ACT NOW'], [2, u'RT @jupiter896: GRATITUDE: I\\u2019m With Hillary Because #Obamacare Saved My Life https://t.co/mZ3dH7nA7U#ImWithHer #Hillary2016 #ShesWithUs #U\\u2026'], [2, u\"Clinton Confusion - perfected by Bagala and Carville in '92#trump2016 #trumptrainhttps://t.co/ItQux1qvdo https://t.co/IRQ415SCqZ\"], [2, u'Bernie Sanders closes deficit in California to 6 points: poll... https://t.co/L9GgLfwxvk'], [2, u\"RT @billfasano: Vatican: Margaret Archer's comments are inaccurate; @BernieSanders was invited by Vatican, not the other way around https:/\\u2026\"], [2, u'RT @djolder: Bill Clinton said he did something yesterday he *almost* wants to apologize for... https://t.co/NHU4OmvGzg'], [2, u'COMEY: \\u2018NO OUTSIDE INFLUENCE\\u2019 ON CLINTON EMAIL\\xa0INVESTIGATION https://t.co/p5tJS01AL4 https://t.co/eARdZNWehO'], [2, u'On what day did Bernie become a Democrat?  Has he ever fundraised for other Dems or will he just want Dems money for himself?'], [2, u'Bernie Sanders: \\u2018Of course\\u2019 Hillary Clinton\\u2019s qualified, let\\u2019s focus on issues https://t.co/AhDkq9nfjz via @todayshow'], [2, u\"@LastWeekTonight Will not change my routine, brain waits till Sunday for new input. Until then: Clinton's white noise.\"], [2, u\"Um no. #IDidMyResearch: 'Papal official denies report #Sanders invited himself to #Vatican' https://t.co/NegRf5yUpb https://t.co/aoDVNc7j1E\"], [2, u'RT @MSNBC: Bill Clinton: \"I almost want to apologize\" for exchange with BLM https://t.co/d5eryrQeGw (Photo: AP) https://t.co/PQAc5BcLG1'], [2, u'Hillary Clinton uses Sandy Hook victims as \\u2018political props\\u2019 to shame Bernie Sanders on gun control:       sub... https://t.co/MaA1IdRgbI'], [2, u'@TRELolz300 Hillary Clinton'], [2, u'RT @C0RYH0FFMAN: Great Points. As former Dep. Tsy Sec Newman puts it - \"$\\'s don\\'t leave the U.S. financial system\" cc @HillaryClinton https\\u2026'], [2, u'RT @ChristiChat: ??TODAY @ 6@SheriffClarke on @cvpayneTalking Bill Clinton excoriating Black LIES Matter 4 sticking up 4 criminals https:\\u2026'], [2, u\"RT @NYDaily_News: Intersting piece by @SophieCo_RT on Bill Clinton's sexual assaults and Hillary's abuse issues https://t.co/nEtolbyu5p #NY\\u2026\"], [2, u'RT @tommiesunshine: .@BernieSanders At Childhood Home in Brooklyn via @AP #BernieInBrooklyn #FeelTheBern #Bernie2016  https://t.co/lJGNcb1s\\u2026'], [2, u'RT @Thom_Hartmann: Nothing Bill Clinton said to defend his welfare reform is true https://t.co/TICdPac427 via @HuffPostPol'], [2, u'RT @GottaBernNow: Bernie Sanders coming to Binghamton NY https://t.co/PxKvFZYsgH #BernieSanders #FeelTheBern #NYPrimary'], [2, u\"RT @SuziStaxxx: Everyone calling @BernieSanders a liar today, do you really want to have a real discussion about @HillaryClinton 's lies? #\\u2026\"], [2, u'RT @Thom_Hartmann: Nothing Bill Clinton said to defend his welfare reform is true https://t.co/TICdPac427 via @HuffPostPol'], [4, u\"RT @AngryAppalachia: Let's be frank--Bernie Sanders is the morally superior candidate in this race. And it's driving the snake den wild. #I\\u2026\"], [4, u'RT @HillaryClinton: \"Clinton is one of the brightest people in Congress &amp; she would be an excellent choice\\u201d \\u2014Sen. Sanders on Hillary as Sec\\u2026'], [2, u'@VanJones68 @BernieSanders @HillaryClinton Neoliberal establishment is SO GOD DAMN CERTAIN! that their golden technocrat is qualified LOL'], [2, u'RT @eddiecarl4468: How could anyone vote for this nut job? Her tactics are unbelievable.  https://t.co/IxkzH7zng0'], [2, u'RT @BuzzFeedNews: This is what happened when @freehugsproject offered free hugs at rallies for @realdonaldtrump and @berniesandershttps://\\u2026'], [4, u'RT @alexwennerberg: candidates as hot sauces:hillary - tabascobernie - srirachacruz - tricking u into eating a ghost peppertrump - punc\\u2026'], [2, u'@x5xAlexanderx5x @HillaryClinton A guy with your IQ should have a low voice too! A sharp tongue is no indication of a keen mind.'], [2, u'RT @wcsx: CSX Workforce shout out to Howell Western Wear on Michigan and Clinton in Howell #howellwesternwear #wcsx http://t.co/YQ8SlsCdWO'], [2, u'RT @BuzzFeedNews: This is what happened when @freehugsproject offered free hugs at rallies for @realdonaldtrump and @berniesandershttps://\\u2026'], [2, u'Everyone has worked with someone like Margaret Archer -person who makes u fill out 10 part form when 2 part will do. https://t.co/K6S9PCWJP0'], [2, u\"@ALVM77 @NurseDan23 @Morning_Joe @BernieSanders Doing what he's been saying for over 50 years with integrity and consistency = Presidential\"], [4, u'RT @democracynow: Military Historian Agrees with @BernieSanders: @HillaryClinton is an Unreconstructed Hawk https://t.co/FLKUuWhDOr'], [2, u\"RT @ShaunKing: I think it was Bill Clinton's dismissive and condescending tone that disturbed me just as much.\"], [2, u'Rasmussen Poll: Paul Ryan Would Lose to Clinton, Sanders  https://t.co/71dWucTd0h  @reince @gop'], [2, u\"RT @JayS2629: Source: No 'coincidence' Romanian hacker Guccifer extradited amid Clinton probe | Fox News |  https://t.co/QhfL9mhAaH\"], [2, u'Can someone at @FBI confirm whether current Clinton email investigation is just a security review as Clinton now claims?'], [2, u'VaticanYoung People Flock to Sanders Over The Edge with Enthusiasm because they see a Candidate with Core Values, Conviction and Morals'], [2, u\"RT @princessomuch: Hey Bernie, you think you're a civil rights hero but never introduced a SINGLE bill to help PoC, women, or LGBT people?\\u2026\"], [2, u'CNN Gets Confronted LIVE On Air Over Faked Bernie Sanders Interview And It Doesn\\u2019t End Well https://t.co/vsFVNlS7PT']]\n"
     ]
    },
    {
     "ename": "SyntaxError",
     "evalue": "invalid syntax (<unknown>, line 3)",
     "output_type": "error",
     "traceback": [
      "\u001b[1;36m  File \u001b[1;32m\"<unknown>\"\u001b[1;36m, line \u001b[1;32m3\u001b[0m\n\u001b[1;33m    }\u001b[0m\n\u001b[1;37m    ^\u001b[0m\n\u001b[1;31mSyntaxError\u001b[0m\u001b[1;31m:\u001b[0m invalid syntax\n"
     ]
    }
   ],
   "source": [
    "import ast\n",
    "import requests\n",
    "url = 'http://www.sentiment140.com/api/bulkClassifyJson?appid=sbalanovich@college.harvard.edu'\n",
    "sentiments = []\n",
    "texts = []\n",
    "queries = [\"\"]\n",
    "tweetVolume = 150\n",
    "for i, key in enumerate(data.keys()):\n",
    "    tweetText = getTextFromStream(data[key])    \n",
    "    texts.append(tweetText)\n",
    "    if i and i % tweetVolume == 0:\n",
    "        sentiments = getSentiment(buildQuery(texts, queries))\n",
    "        print sentiments\n",
    "        texts = []\n"
   ]
  },
  {
   "cell_type": "code",
   "execution_count": 58,
   "metadata": {
    "collapsed": false
   },
   "outputs": [],
   "source": [
    "locations = []\n",
    "for x in xrange(1, i):\n",
    "    js = json.loads(data[str(x)])\n",
    "    \n",
    "    try:\n",
    "        if js['coordinates'] != None:\n",
    "#             print x\n",
    "            locations.append(js['coordinates'])\n",
    "        \n",
    "    except KeyError:\n",
    "        continue\n"
   ]
  },
  {
   "cell_type": "code",
   "execution_count": 59,
   "metadata": {
    "collapsed": false
   },
   "outputs": [
    {
     "data": {
      "text/plain": [
       "17"
      ]
     },
     "execution_count": 59,
     "metadata": {},
     "output_type": "execute_result"
    }
   ],
   "source": [
    "len(locations)"
   ]
  },
  {
   "cell_type": "code",
   "execution_count": 61,
   "metadata": {
    "collapsed": false
   },
   "outputs": [
    {
     "data": {
      "text/plain": [
       "[{u'coordinates': [-105.3853, 40.2534], u'type': u'Point'},\n",
       " {u'coordinates': [-104.9856554, 40.0871374], u'type': u'Point'},\n",
       " {u'coordinates': [-104.8202462, 41.1399814], u'type': u'Point'},\n",
       " {u'coordinates': [-111.4779869, 40.6378815], u'type': u'Point'}]"
      ]
     },
     "execution_count": 61,
     "metadata": {},
     "output_type": "execute_result"
    }
   ],
   "source": [
    "locations2 = []\n",
    "for l in locations:\n",
    "    if l['coordinates'][1] > 40 and \\\n",
    "        l['coordinates'][1] < 46 and \\\n",
    "        l['coordinates'][0] < -103 and \\\n",
    "        l['coordinates'][1] > -112:\n",
    "            locations2.append(l)\n",
    "\n",
    "locations2"
   ]
  },
  {
   "cell_type": "code",
   "execution_count": null,
   "metadata": {
    "collapsed": true
   },
   "outputs": [],
   "source": []
  }
 ],
 "metadata": {
  "kernelspec": {
   "display_name": "Python 2",
   "language": "python",
   "name": "python2"
  },
  "language_info": {
   "codemirror_mode": {
    "name": "ipython",
    "version": 2
   },
   "file_extension": ".py",
   "mimetype": "text/x-python",
   "name": "python",
   "nbconvert_exporter": "python",
   "pygments_lexer": "ipython2",
   "version": "2.7.6"
  }
 },
 "nbformat": 4,
 "nbformat_minor": 0
}
