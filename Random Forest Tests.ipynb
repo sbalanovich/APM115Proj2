{
 "cells": [
  {
   "cell_type": "code",
   "execution_count": 2,
   "metadata": {
    "collapsed": true
   },
   "outputs": [],
   "source": [
    "%matplotlib inline\n",
    "\n",
    "import matplotlib\n",
    "import matplotlib.pyplot as plt\n",
    "\n",
    "import pandas as pd\n",
    "\n",
    "import numpy as np\n",
    "import math\n",
    "\n",
    "from sklearn.datasets import load_boston\n",
    "from sklearn.ensemble import RandomForestRegressor\n",
    "from sklearn.pipeline import Pipeline\n",
    "from sklearn.preprocessing import Imputer\n",
    "from sklearn.cross_validation import cross_val_score\n",
    "\n",
    "from collections import defaultdict\n",
    "\n",
    "import csv"
   ]
  },
  {
   "cell_type": "markdown",
   "metadata": {},
   "source": [
    "### Data Processing"
   ]
  },
  {
   "cell_type": "markdown",
   "metadata": {},
   "source": [
    "#### Finance Data"
   ]
  },
  {
   "cell_type": "code",
   "execution_count": 14,
   "metadata": {
    "collapsed": false
   },
   "outputs": [],
   "source": [
    "zipToCounty = defaultdict(int)\n",
    "\n",
    "with open('CSVs/NYzips.csv', 'rb') as f:\n",
    "    reader = csv.reader(f)\n",
    "    for row in reader:\n",
    "        zipToCounty[row[0]] = row[1]"
   ]
  },
  {
   "cell_type": "markdown",
   "metadata": {},
   "source": [
    "#### Clinton"
   ]
  },
  {
   "cell_type": "code",
   "execution_count": 15,
   "metadata": {
    "collapsed": false
   },
   "outputs": [],
   "source": [
    "df = pd.read_csv('CSVs/Clinton-NY.csv')\n",
    "df2 = pd.DataFrame({'date' : df.contb_receipt_amt, 'amt' : df.contbr_occupation, 'zip9' : df.contbr_st})\n",
    "df3 = df2.sort(['date'])\n",
    "df3['cum_amt'] = df3.amt.cumsum()"
   ]
  },
  {
   "cell_type": "code",
   "execution_count": 16,
   "metadata": {
    "collapsed": false
   },
   "outputs": [],
   "source": [
    "df_len = len(df3.index)\n",
    "bucket_size = int(df_len/1000)\n",
    "idx_date = []\n",
    "idx = 0\n",
    "curr_date = df3.date[0]\n",
    "for i in df3.date:\n",
    "    if i != curr_date:\n",
    "        curr_date = i\n",
    "        idx += 1\n",
    "    idx_date.append(idx)\n",
    "df3['idx_date'] = idx_date"
   ]
  },
  {
   "cell_type": "code",
   "execution_count": 17,
   "metadata": {
    "collapsed": false
   },
   "outputs": [
    {
     "name": "stdout",
     "output_type": "stream",
     "text": [
      "9309.0\n",
      "9309.0\n",
      "9309.0\n"
     ]
    }
   ],
   "source": [
    "zip6 = []\n",
    "county = []\n",
    "for i in df3.zip9:\n",
    "    if not math.isnan(i):\n",
    "        z = str(int(i))\n",
    "        if len(str(int(i))) > 5:\n",
    "            z = z[:5]\n",
    "        zip6.append(z)\n",
    "        while not zipToCounty[z]:\n",
    "            intZ = int(z)\n",
    "            intZ -= 1\n",
    "            z = str(intZ)\n",
    "            if intZ < 10000:\n",
    "                print i\n",
    "                zipToCounty[z] = \"None\"\n",
    "        county.append(zipToCounty[z])\n",
    "    else:\n",
    "        zip6.append(\"00000\")\n",
    "        county.append(\"None\")\n",
    "df3['zip6'] = zip6\n",
    "df3['county'] = county"
   ]
  },
  {
   "cell_type": "code",
   "execution_count": 18,
   "metadata": {
    "collapsed": false
   },
   "outputs": [],
   "source": [
    "clintonFinances = df3"
   ]
  },
  {
   "cell_type": "markdown",
   "metadata": {
    "collapsed": false
   },
   "source": [
    "#### Sanders"
   ]
  },
  {
   "cell_type": "code",
   "execution_count": 20,
   "metadata": {
    "collapsed": false
   },
   "outputs": [
    {
     "name": "stdout",
     "output_type": "stream",
     "text": [
      "10\n",
      "10\n",
      "10\n",
      "10\n",
      "10\n",
      "10\n",
      "10\n",
      "1180\n",
      "10\n",
      "10\n",
      "10\n",
      "10\n",
      "10\n",
      "10\n",
      "1180\n",
      "1180\n",
      "10\n",
      "10\n",
      "1180\n"
     ]
    },
    {
     "name": "stderr",
     "output_type": "stream",
     "text": [
      "/usr/local/lib/python2.7/dist-packages/pandas/io/parsers.py:1159: DtypeWarning: Columns (12) have mixed types. Specify dtype option on import or set low_memory=False.\n",
      "  data = self._reader.read(nrows)\n"
     ]
    }
   ],
   "source": [
    "df = pd.read_csv('CSVs/Sanders-NY.csv')\n",
    "df2 = pd.DataFrame({'date' : df.contb_receipt_amt, 'amt' : df.contbr_occupation, 'zip9' : df.contbr_st})\n",
    "df3 = df2.sort(['date'])\n",
    "df3['cum_amt'] = df3.amt.cumsum()\n",
    "\n",
    "df_len = len(df3.index)\n",
    "bucket_size = int(df_len/1000)\n",
    "idx_date = []\n",
    "idx = 0\n",
    "curr_date = df3.date[0]\n",
    "for i in df3.date:\n",
    "    if i != curr_date:\n",
    "        curr_date = i\n",
    "        idx += 1\n",
    "    idx_date.append(idx)\n",
    "df3['idx_date'] = idx_date\n",
    "\n",
    "zip6 = []\n",
    "county = []\n",
    "for i in df3.zip9:\n",
    "    if not math.isnan(i):\n",
    "        z = str(int(i))\n",
    "        if len(str(int(i))) > 5:\n",
    "            z = z[:5]\n",
    "        zip6.append(z)\n",
    "        while not zipToCounty[z]:\n",
    "            intZ = int(z)\n",
    "            intZ -= 1\n",
    "            z = str(intZ)\n",
    "            if intZ < 10000:\n",
    "                print i\n",
    "                zipToCounty[z] = \"None\"\n",
    "        county.append(zipToCounty[z])\n",
    "    else:\n",
    "        zip6.append(\"00000\")\n",
    "        county.append(\"None\")\n",
    "df3['zip6'] = zip6\n",
    "df3['county'] = county\n",
    "sandersFinances = df3"
   ]
  },
  {
   "cell_type": "code",
   "execution_count": 21,
   "metadata": {
    "collapsed": false,
    "scrolled": true
   },
   "outputs": [
    {
     "name": "stdout",
     "output_type": "stream",
     "text": [
      "63\n",
      "62\n"
     ]
    }
   ],
   "source": [
    "# Features are [avg contribution, total raised, total contributions, {those 3 for the last 14 days}]\n",
    "counties = [tup[0] for tup in list(clintonFinances.groupby('county'))]\n",
    "numCounties = len(counties)\n",
    "X_dems = [[] for i in range(numCounties)]\n",
    "\n",
    "##### Sanders\n",
    "clintonByCounty = clintonFinances.groupby('county')\n",
    "countyAggregates = clintonByCounty['amt'].agg(['mean', 'sum', 'count'])\n",
    "\n",
    "for i in range(numCounties):\n",
    "    X_dems[i] += [countyAggregates['mean'][i], countyAggregates['sum'][i], countyAggregates['count'][i]]\n",
    "\n",
    "clintonByDate = clintonFinances.groupby('idx_date')\n",
    "startDate = 309\n",
    "endDate = 323\n",
    "for i in range(startDate, endDate):\n",
    "    cbdByCounty = clintonByDate.get_group(i).groupby('county')\n",
    "    timeAggregates = cbdByCounty['amt'].agg(['mean', 'sum', 'count'])\n",
    "    for j in range(numCounties):\n",
    "        if counties[j] in timeAggregates.index:\n",
    "            X_dems[j] += [timeAggregates['mean'][counties[j]], timeAggregates['sum'][counties[j]], timeAggregates['count'][counties[j]]]\n",
    "        else:\n",
    "            X_dems[j] += [0, 0, 0]\n",
    "\n",
    "##### Sanders\n",
    "sandersByCounty = sandersFinances.groupby('county')\n",
    "countyAggregates = sandersByCounty['amt'].agg(['mean', 'sum', 'count'])\n",
    "\n",
    "for i in range(numCounties):\n",
    "    X_dems[i] += [countyAggregates['mean'][i], countyAggregates['sum'][i], countyAggregates['count'][i]]\n",
    "\n",
    "sandersByDate = sandersFinances.groupby('idx_date')\n",
    "startDate = 290\n",
    "endDate = 304\n",
    "for i in range(startDate, endDate):\n",
    "    cbdByCounty = sandersByDate.get_group(i).groupby('county')\n",
    "    timeAggregates = cbdByCounty['amt'].agg(['mean', 'sum', 'count'])\n",
    "    for j in range(numCounties):\n",
    "        if counties[j] in timeAggregates.index:\n",
    "            X_dems[j] += [timeAggregates['mean'][counties[j]], timeAggregates['sum'][counties[j]], timeAggregates['count'][counties[j]]]\n",
    "        else:\n",
    "            X_dems[j] += [0, 0, 0]\n",
    "print len(X_dems)\n",
    "X_dems.pop(counties.index(\"None\"))\n",
    "print len(X_dems)"
   ]
  },
  {
   "cell_type": "code",
   "execution_count": 22,
   "metadata": {
    "collapsed": false
   },
   "outputs": [],
   "source": [
    "compressed_idx = []\n",
    "compressed_amt = []\n",
    "compressed_cum_amt = []\n",
    "i = 0\n",
    "for index, row in df3.iterrows():\n",
    "    if i % bucket_size == 0:\n",
    "        compressed_idx.append(row['idx_date'])\n",
    "        compressed_amt.append(row['amt'])\n",
    "        compressed_cum_amt.append(row['cum_amt'])\n",
    "    compressed_amt[-1] += row['amt']\n",
    "    compressed_cum_amt[-1] += row['cum_amt']\n",
    "    i += 1\n",
    "\n",
    "compressed_df3 = pd.DataFrame({'date_idx' : compressed_idx, 'amt' : compressed_amt, 'cum_amt' : compressed_cum_amt})"
   ]
  },
  {
   "cell_type": "code",
   "execution_count": 25,
   "metadata": {
    "collapsed": false
   },
   "outputs": [
    {
     "name": "stdout",
     "output_type": "stream",
     "text": [
      "['Date', 'Sample', 'Margin oE', 'Trump', 'Kasich', 'Cruz']\n",
      "['--', '--', '--', '60.4', '25.1', '14.5']\n",
      "['4/6 - 4/17', '--', '--', '53.1', '22.8', '18.1']\n",
      "['4/15 - 4/17', '361 LV', '5.1', '55', '21', '18']\n",
      "['4/13 - 4/15', '705 LV', '5.9', '54', '19', '21']\n",
      "['4/13 - 4/13', '481 LV', '4.5', '57', '22', '20']\n",
      "['4/11 - 4/14', '14201 LV', '1', '49', '23', '14']\n",
      "['4/10 - 4/13', '313 LV', '5.5', '54', '25', '16']\n",
      "['4/7 - 4/10', '483 LV', '4.5', '51', '25', '20']\n",
      "['4/6 - 4/11', '469 LV', '5', '50', '27', '17']\n",
      "['4/6 - 4/11', '550 LV', '4.2', '55', '20', '19']\n",
      "['4/6 - 4/10', '259 LV', '6.1', '54', '21', '18']\n",
      "['4/5 - 4/10', '324 LV', '5.8', '60', '17', '14']\n",
      "['4/6 - 4/7', '321 LV', '5.4', '56', '17', '22']\n",
      "['4/6 - 4/7', '6041 LV', '3', '52', '23', '19']\n",
      "['4/4 - 4/7', '602 LV', '4', '54', '22', '15']\n",
      "['4/5 - 4/6', '857 LV', '3.3', '56', '24', '20']\n",
      "['4/3 - 4/5', '302 LV', '5.6', '52', '25', '17']\n",
      "['3/29 - 4/1', '657 LV', '5.6', '52', '20', '21']\n",
      "['3/22 - 3/29', '457 LV', '4.6', '56', '19', '20']\n",
      "['3/24 - 3/26', '1796 LV', '3', '55', '22', '19']\n",
      "['3/22 - 3/24', '14234 LV', '1', '50', '24', '16']\n",
      "['3/14 - 3/16', '298 LV', '5.6', '64', '1', '12']\n",
      "['2/28 - 3/3', '229 RV', '6.7', '45', '18', '11']\n"
     ]
    }
   ],
   "source": [
    "\n",
    "with open('CSVs/NyPrimaryPollsR.csv', 'rb') as f:\n",
    "    reader = csv.reader(f)\n",
    "    for row in reader:\n",
    "        print row"
   ]
  },
  {
   "cell_type": "code",
   "execution_count": 27,
   "metadata": {
    "collapsed": false
   },
   "outputs": [],
   "source": [
    "x_dems = []\n",
    "with open('CSVs/NyPrimaryPollsD.csv', 'rb') as f:\n",
    "    reader = csv.reader(f)\n",
    "#     for i, row in enumerate(reader):\n",
    "#         if not i:\n",
    "#             continue\n",
    "#         print row"
   ]
  },
  {
   "cell_type": "code",
   "execution_count": 29,
   "metadata": {
    "collapsed": false
   },
   "outputs": [],
   "source": [
    "y_dems = [] # Hillary's percentages per county\n",
    "with open('CSVs/NYPrimaryResultsRaw.csv', 'rb') as f:\n",
    "    reader = csv.reader(f)\n",
    "    for i, row in enumerate(reader):\n",
    "        if not i:\n",
    "            continue\n",
    "        percent = float(row[1].replace(',', ''))/(int(row[1].replace(',', '')) + int(row[2].replace(',', '')))\n",
    "        y_dems.append(percent)\n"
   ]
  },
  {
   "cell_type": "markdown",
   "metadata": {},
   "source": [
    "### Random Forest"
   ]
  },
  {
   "cell_type": "code",
   "execution_count": 30,
   "metadata": {
    "collapsed": false
   },
   "outputs": [
    {
     "name": "stdout",
     "output_type": "stream",
     "text": [
      "Score with the entire dataset = -0.72\n"
     ]
    }
   ],
   "source": [
    "rng = np.random.RandomState(0)\n",
    "\n",
    "# dataset = load_boston()\n",
    "# X_full, y_full = dataset.data, dataset.target\n",
    "X_full = np.array(X_dems)\n",
    "y_full = np.array(y_dems)\n",
    "n_samples = X_full.shape[0]\n",
    "n_features = X_full.shape[1]\n",
    "\n",
    "# Estimate the score on the entire dataset, with no missing values\n",
    "estimator = RandomForestRegressor(random_state=0, n_estimators=100)\n",
    "score = cross_val_score(estimator, X_full, y_full).mean()\n",
    "print(\"Score with the entire dataset = %.2f\" % score)"
   ]
  },
  {
   "cell_type": "code",
   "execution_count": 32,
   "metadata": {
    "collapsed": false
   },
   "outputs": [
    {
     "name": "stdout",
     "output_type": "stream",
     "text": [
      "62\n",
      "('Lose', 'Lose')\n",
      "('Lose', 'Lose')\n",
      "('Win', 'Win')\n",
      "('Lose', 'Lose')\n",
      "('Lose', 'Lose')\n",
      "('Win', 'Lose')\n",
      "('Win', 'Lose')\n",
      "('Win', 'Lose')\n",
      "('Lose', 'Lose')\n",
      "('Lose', 'Lose')\n",
      "('Win', 'Win')\n",
      "('Win', 'Win')\n",
      "('Win', 'Win')\n",
      "('Win', 'Win')\n",
      "('Win', 'Win')\n",
      "('Win', 'Win')\n",
      "('Win', 'Win')\n",
      "('Win', 'Win')\n",
      "('Win', 'Win')\n",
      "('Win', 'Win')\n",
      "('Win', 'Win')\n",
      "('Win', 'Win')\n",
      "('Win', 'Win')\n",
      "('Win', 'Win')\n",
      "('Win', 'Win')\n",
      "('Win', 'Win')\n",
      "('Win', 'Win')\n",
      "('Win', 'Win')\n",
      "('Win', 'Win')\n",
      "('Win', 'Win')\n",
      "('Win', 'Win')\n",
      "('Win', 'Win')\n",
      "('Win', 'Win')\n",
      "('Win', 'Win')\n",
      "('Win', 'Win')\n",
      "('Win', 'Win')\n",
      "('Win', 'Win')\n",
      "('Win', 'Win')\n",
      "('Win', 'Win')\n",
      "('Win', 'Win')\n",
      "('Win', 'Win')\n",
      "('Win', 'Win')\n",
      "('Win', 'Win')\n",
      "('Win', 'Win')\n",
      "('Win', 'Win')\n",
      "('Win', 'Win')\n",
      "('Win', 'Win')\n",
      "('Win', 'Win')\n",
      "('Win', 'Win')\n",
      "('Win', 'Win')\n",
      "('Win', 'Win')\n",
      "('Win', 'Win')\n",
      "('Win', 'Win')\n",
      "('Win', 'Win')\n",
      "('Win', 'Win')\n",
      "('Win', 'Win')\n",
      "('Win', 'Win')\n",
      "('Win', 'Win')\n",
      "('Win', 'Win')\n",
      "('Win', 'Win')\n",
      "('Win', 'Win')\n",
      "('Win', 'Win')\n",
      "3 0.0483870967742\n"
     ]
    }
   ],
   "source": [
    "estimator.fit(X_full, y_full)\n",
    "summ = 0\n",
    "print len(y_full)\n",
    "for i in range(62):\n",
    "    pred = estimator.predict(X_full[i])\n",
    "    actual = y_full[i]\n",
    "    predWin = \"Lose\"\n",
    "    if pred > .5:\n",
    "        predWin = \"Win\"\n",
    "    actualWin = \"Lose\"\n",
    "    if actual > .5:\n",
    "        actualWin = \"Win\"\n",
    "    print (predWin, actualWin)\n",
    "    summ += predWin != actualWin\n",
    "print summ, summ/62."
   ]
  },
  {
   "cell_type": "code",
   "execution_count": null,
   "metadata": {
    "collapsed": true
   },
   "outputs": [],
   "source": []
  },
  {
   "cell_type": "code",
   "execution_count": null,
   "metadata": {
    "collapsed": true
   },
   "outputs": [],
   "source": []
  },
  {
   "cell_type": "code",
   "execution_count": null,
   "metadata": {
    "collapsed": true
   },
   "outputs": [],
   "source": []
  }
 ],
 "metadata": {
  "kernelspec": {
   "display_name": "Python 2",
   "language": "python",
   "name": "python2"
  },
  "language_info": {
   "codemirror_mode": {
    "name": "ipython",
    "version": 2
   },
   "file_extension": ".py",
   "mimetype": "text/x-python",
   "name": "python",
   "nbconvert_exporter": "python",
   "pygments_lexer": "ipython2",
   "version": "2.7.6"
  }
 },
 "nbformat": 4,
 "nbformat_minor": 0
}
